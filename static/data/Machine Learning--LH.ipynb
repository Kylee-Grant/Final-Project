{
 "cells": [
  {
   "cell_type": "code",
   "execution_count": 239,
   "metadata": {},
   "outputs": [],
   "source": [
    "# Import dependencies\n",
    "%matplotlib inline\n",
    "import matplotlib.pyplot as plt\n",
    "import numpy as np\n",
    "import pandas as pd\n",
    "\n",
    "import sqlite3\n",
    "\n",
    "from sqlalchemy.ext.automap import automap_base\n",
    "from sqlalchemy.orm import Session\n",
    "from sqlalchemy import create_engine\n",
    "\n",
    "# Setting engine for SQLite connection\n",
    "engine = create_engine(\"sqlite:///birthdata.sqlite\", echo=False)\n"
   ]
  },
  {
   "cell_type": "markdown",
   "metadata": {},
   "source": [
    "## Starting SQLite Connection"
   ]
  },
  {
   "cell_type": "code",
   "execution_count": 240,
   "metadata": {},
   "outputs": [
    {
     "name": "stdout",
     "output_type": "stream",
     "text": [
      "['clinic2010_county', 'clinic2010_state', 'clinic2015_county', 'clinic2015_state', 'county', 'national', 'outcomes']\n"
     ]
    }
   ],
   "source": [
    "# Checking classes were made successfully: https://stackoverflow.com/questions/42946174/sqlalchemy-automap-not-generating-base-classes-table-name\n",
    "engine = create_engine(\"sqlite:///birthdata.sqlite\", echo=False)\n",
    "\n",
    "# Declare a Base using `automap_base()`\n",
    "Base = automap_base()\n",
    "\n",
    "# Use the Base class to reflect the database tables\n",
    "Base.prepare(engine, reflect=True)\n",
    "\n",
    "# Print all of the classes mapped to the Base\n",
    "print(Base.classes.keys())\n",
    "\n",
    "# Create a session\n",
    "session = Session(engine)\n"
   ]
  },
  {
   "cell_type": "markdown",
   "metadata": {},
   "source": [
    "### Naming Classes"
   ]
  },
  {
   "cell_type": "code",
   "execution_count": 241,
   "metadata": {},
   "outputs": [],
   "source": [
    "# Assign the classes to variables\n",
    "County2015 = Base.classes.clinic2015_county\n",
    "State2015 = Base.classes.clinic2015_state\n",
    "County2010 = Base.classes.clinic2010_county\n",
    "State2010 = Base.classes.clinic2010_state\n",
    "Outcomes = Base.classes.outcomes\n",
    "County_births = Base.classes.county\n",
    "State_births = Base.classes.national"
   ]
  },
  {
   "cell_type": "markdown",
   "metadata": {},
   "source": [
    "## 1 Table Approach"
   ]
  },
  {
   "cell_type": "markdown",
   "metadata": {},
   "source": [
    "### Selecting 1 Table for Modeling"
   ]
  },
  {
   "cell_type": "code",
   "execution_count": 242,
   "metadata": {},
   "outputs": [
    {
     "data": {
      "text/plain": [
       "{'_sa_instance_state': <sqlalchemy.orm.state.InstanceState at 0x7fd20a99f220>,\n",
       " 'fed_client': 1054270,\n",
       " 'total_title10': 4111,\n",
       " 'pp_client_tt': 1769760,\n",
       " 'index': 0,\n",
       " 'dept_clinic_client': 1834800,\n",
       " 'hospital_client_tt': 221220,\n",
       " 'fed_center_tt': 557,\n",
       " 'other_clinic_client_tt': 607830,\n",
       " 'state': 'US Total',\n",
       " 'hospital_client': 511310,\n",
       " 'dept_clinic_tt': 2180,\n",
       " 'total_clinics': 8409,\n",
       " 'pp_client': 2407840,\n",
       " 'hospital_tt': 192,\n",
       " 'fed_center': 3165,\n",
       " 'other_clinic_client': 898070,\n",
       " 'pp_tt': 553,\n",
       " 'dept_clinic': 2439,\n",
       " 'total_client_tt': 4724250,\n",
       " 'other_clinic_tt': 629,\n",
       " 'hospital': 664,\n",
       " 'fed_client_tt': 435570,\n",
       " 'total_client': 6706280,\n",
       " 'pp': 817,\n",
       " 'dept_clinic_client_tt': 1689860,\n",
       " 'other_clinic': 1324}"
      ]
     },
     "execution_count": 242,
     "metadata": {},
     "output_type": "execute_result"
    }
   ],
   "source": [
    "# Switch out \"selected\" with the table of interest \n",
    "selected = State2010\n",
    "\n",
    "# Display the row's columns and data in dictionary format\n",
    "first_row = session.query(selected).first()\n",
    "first_row.__dict__\n"
   ]
  },
  {
   "cell_type": "code",
   "execution_count": 134,
   "metadata": {},
   "outputs": [
    {
     "data": {
      "text/plain": [
       "{'_sa_instance_state': <sqlalchemy.orm.state.InstanceState at 0x7fd2d5391dc0>,\n",
       " 'combined_fips_code': '1001',\n",
       " 'state_fips_code': '01',\n",
       " 'state': 'Alabama',\n",
       " 'index': 0,\n",
       " 'upper_confidence_limit': 55.2,\n",
       " 'birth_rate': 48.4,\n",
       " 'county_fips_code': '1',\n",
       " 'county': 'Autauga',\n",
       " 'year': 2003,\n",
       " 'lower_confidence_limit': 42.1}"
      ]
     },
     "execution_count": 134,
     "metadata": {},
     "output_type": "execute_result"
    }
   ],
   "source": [
    "first_row = session.query(County_births).first()\n",
    "first_row.__dict__"
   ]
  },
  {
   "cell_type": "markdown",
   "metadata": {},
   "source": [
    "### Getting Query Results from 1 Table"
   ]
  },
  {
   "cell_type": "code",
   "execution_count": 153,
   "metadata": {},
   "outputs": [],
   "source": [
    "# https://www.census.gov/data/tables/time-series/demo/popest/2010s-state-total.html#par_textimage_1574439295\n",
    "\n",
    "import csv\n"
   ]
  },
  {
   "cell_type": "code",
   "execution_count": 106,
   "metadata": {},
   "outputs": [],
   "source": [
    "url = \"state_populations.csv\"\n",
    "state_populations = pd.read_csv(url)"
   ]
  },
  {
   "cell_type": "code",
   "execution_count": 107,
   "metadata": {},
   "outputs": [
    {
     "data": {
      "text/html": [
       "<div>\n",
       "<style scoped>\n",
       "    .dataframe tbody tr th:only-of-type {\n",
       "        vertical-align: middle;\n",
       "    }\n",
       "\n",
       "    .dataframe tbody tr th {\n",
       "        vertical-align: top;\n",
       "    }\n",
       "\n",
       "    .dataframe thead th {\n",
       "        text-align: right;\n",
       "    }\n",
       "</style>\n",
       "<table border=\"1\" class=\"dataframe\">\n",
       "  <thead>\n",
       "    <tr style=\"text-align: right;\">\n",
       "      <th></th>\n",
       "      <th>state</th>\n",
       "      <th>2010_population</th>\n",
       "      <th>2015_population</th>\n",
       "    </tr>\n",
       "  </thead>\n",
       "  <tbody>\n",
       "    <tr>\n",
       "      <th>0</th>\n",
       "      <td>United States</td>\n",
       "      <td>309321666</td>\n",
       "      <td>320635163</td>\n",
       "    </tr>\n",
       "    <tr>\n",
       "      <th>1</th>\n",
       "      <td>Alabama</td>\n",
       "      <td>4785437</td>\n",
       "      <td>4852347</td>\n",
       "    </tr>\n",
       "    <tr>\n",
       "      <th>2</th>\n",
       "      <td>Alaska</td>\n",
       "      <td>713910</td>\n",
       "      <td>737498</td>\n",
       "    </tr>\n",
       "    <tr>\n",
       "      <th>3</th>\n",
       "      <td>Arizona</td>\n",
       "      <td>6407172</td>\n",
       "      <td>6829676</td>\n",
       "    </tr>\n",
       "    <tr>\n",
       "      <th>4</th>\n",
       "      <td>Arkansas</td>\n",
       "      <td>2921964</td>\n",
       "      <td>2978048</td>\n",
       "    </tr>\n",
       "  </tbody>\n",
       "</table>\n",
       "</div>"
      ],
      "text/plain": [
       "           state  2010_population  2015_population\n",
       "0  United States        309321666        320635163\n",
       "1        Alabama          4785437          4852347\n",
       "2         Alaska           713910           737498\n",
       "3        Arizona          6407172          6829676\n",
       "4       Arkansas          2921964          2978048"
      ]
     },
     "execution_count": 107,
     "metadata": {},
     "output_type": "execute_result"
    }
   ],
   "source": [
    "state_populations.head()"
   ]
  },
  {
   "cell_type": "code",
   "execution_count": 108,
   "metadata": {},
   "outputs": [
    {
     "data": {
      "text/plain": [
       "state              object\n",
       "2010_population     int64\n",
       "2015_population     int64\n",
       "dtype: object"
      ]
     },
     "execution_count": 108,
     "metadata": {},
     "output_type": "execute_result"
    }
   ],
   "source": [
    "state_populations.dtypes"
   ]
  },
  {
   "cell_type": "code",
   "execution_count": 348,
   "metadata": {},
   "outputs": [],
   "source": [
    "state_expenditures = pd.read_csv(\"family_planning_expenditures.csv\", header=0, names=[\"state\", \"MCH block grant\", \"Medicaid_spending\", \"SSBG and TANF\", \"Title10_spending\", \"state appropriations\", \"total_spending\"])"
   ]
  },
  {
   "cell_type": "code",
   "execution_count": 349,
   "metadata": {},
   "outputs": [
    {
     "data": {
      "text/plain": [
       "state                   object\n",
       "MCH block grant         object\n",
       "Medicaid_spending        int64\n",
       "SSBG and TANF           object\n",
       "Title10_spending         int64\n",
       "state appropriations    object\n",
       "total_spending           int64\n",
       "dtype: object"
      ]
     },
     "execution_count": 349,
     "metadata": {},
     "output_type": "execute_result"
    }
   ],
   "source": [
    "state_expenditures.dtypes"
   ]
  },
  {
   "cell_type": "code",
   "execution_count": 350,
   "metadata": {},
   "outputs": [],
   "source": [
    "state_expenditures = state_expenditures[[\"state\",\"Medicaid_spending\", \"Title10_spending\",\"total_spending\"]]\n"
   ]
  },
  {
   "cell_type": "code",
   "execution_count": 351,
   "metadata": {},
   "outputs": [
    {
     "data": {
      "text/html": [
       "<div>\n",
       "<style scoped>\n",
       "    .dataframe tbody tr th:only-of-type {\n",
       "        vertical-align: middle;\n",
       "    }\n",
       "\n",
       "    .dataframe tbody tr th {\n",
       "        vertical-align: top;\n",
       "    }\n",
       "\n",
       "    .dataframe thead th {\n",
       "        text-align: right;\n",
       "    }\n",
       "</style>\n",
       "<table border=\"1\" class=\"dataframe\">\n",
       "  <thead>\n",
       "    <tr style=\"text-align: right;\">\n",
       "      <th></th>\n",
       "      <th>state</th>\n",
       "      <th>Medicaid_spending</th>\n",
       "      <th>Title10_spending</th>\n",
       "      <th>total_spending</th>\n",
       "    </tr>\n",
       "  </thead>\n",
       "  <tbody>\n",
       "    <tr>\n",
       "      <th>0</th>\n",
       "      <td>Alabama</td>\n",
       "      <td>58362</td>\n",
       "      <td>58362</td>\n",
       "      <td>69742</td>\n",
       "    </tr>\n",
       "    <tr>\n",
       "      <th>1</th>\n",
       "      <td>Alaska</td>\n",
       "      <td>2812</td>\n",
       "      <td>2812</td>\n",
       "      <td>10158</td>\n",
       "    </tr>\n",
       "    <tr>\n",
       "      <th>2</th>\n",
       "      <td>Arizona</td>\n",
       "      <td>52006</td>\n",
       "      <td>52006</td>\n",
       "      <td>57560</td>\n",
       "    </tr>\n",
       "    <tr>\n",
       "      <th>3</th>\n",
       "      <td>Arkansas</td>\n",
       "      <td>6899</td>\n",
       "      <td>6899</td>\n",
       "      <td>11397</td>\n",
       "    </tr>\n",
       "    <tr>\n",
       "      <th>4</th>\n",
       "      <td>California</td>\n",
       "      <td>438559</td>\n",
       "      <td>438559</td>\n",
       "      <td>454706</td>\n",
       "    </tr>\n",
       "  </tbody>\n",
       "</table>\n",
       "</div>"
      ],
      "text/plain": [
       "        state  Medicaid_spending  Title10_spending  total_spending\n",
       "0     Alabama              58362             58362           69742\n",
       "1      Alaska               2812              2812           10158\n",
       "2     Arizona              52006             52006           57560\n",
       "3    Arkansas               6899              6899           11397\n",
       "4  California             438559            438559          454706"
      ]
     },
     "execution_count": 351,
     "metadata": {},
     "output_type": "execute_result"
    }
   ],
   "source": [
    "state_expenditures.head()"
   ]
  },
  {
   "cell_type": "code",
   "execution_count": 155,
   "metadata": {},
   "outputs": [],
   "source": [
    "county_populations = pd.read_csv(\"county_populations.csv\", encoding='latin-1')"
   ]
  },
  {
   "cell_type": "code",
   "execution_count": 156,
   "metadata": {},
   "outputs": [
    {
     "data": {
      "text/html": [
       "<div>\n",
       "<style scoped>\n",
       "    .dataframe tbody tr th:only-of-type {\n",
       "        vertical-align: middle;\n",
       "    }\n",
       "\n",
       "    .dataframe tbody tr th {\n",
       "        vertical-align: top;\n",
       "    }\n",
       "\n",
       "    .dataframe thead th {\n",
       "        text-align: right;\n",
       "    }\n",
       "</style>\n",
       "<table border=\"1\" class=\"dataframe\">\n",
       "  <thead>\n",
       "    <tr style=\"text-align: right;\">\n",
       "      <th></th>\n",
       "      <th>state</th>\n",
       "      <th>county</th>\n",
       "      <th>2010_population</th>\n",
       "      <th>2015_population</th>\n",
       "    </tr>\n",
       "  </thead>\n",
       "  <tbody>\n",
       "    <tr>\n",
       "      <th>0</th>\n",
       "      <td>Iowa</td>\n",
       "      <td>Adair</td>\n",
       "      <td>7682</td>\n",
       "      <td>7145</td>\n",
       "    </tr>\n",
       "    <tr>\n",
       "      <th>1</th>\n",
       "      <td>Kentucky</td>\n",
       "      <td>Adair</td>\n",
       "      <td>18656</td>\n",
       "      <td>19162</td>\n",
       "    </tr>\n",
       "    <tr>\n",
       "      <th>2</th>\n",
       "      <td>Missouri</td>\n",
       "      <td>Adair</td>\n",
       "      <td>25607</td>\n",
       "      <td>25353</td>\n",
       "    </tr>\n",
       "    <tr>\n",
       "      <th>3</th>\n",
       "      <td>Oklahoma</td>\n",
       "      <td>Adair</td>\n",
       "      <td>22683</td>\n",
       "      <td>22259</td>\n",
       "    </tr>\n",
       "    <tr>\n",
       "      <th>4</th>\n",
       "      <td>Colorado</td>\n",
       "      <td>Adams</td>\n",
       "      <td>441603</td>\n",
       "      <td>490443</td>\n",
       "    </tr>\n",
       "    <tr>\n",
       "      <th>5</th>\n",
       "      <td>Idaho</td>\n",
       "      <td>Adams</td>\n",
       "      <td>3976</td>\n",
       "      <td>3891</td>\n",
       "    </tr>\n",
       "    <tr>\n",
       "      <th>6</th>\n",
       "      <td>Illinois</td>\n",
       "      <td>Adams</td>\n",
       "      <td>67103</td>\n",
       "      <td>66835</td>\n",
       "    </tr>\n",
       "    <tr>\n",
       "      <th>7</th>\n",
       "      <td>Indiana</td>\n",
       "      <td>Adams</td>\n",
       "      <td>34387</td>\n",
       "      <td>34945</td>\n",
       "    </tr>\n",
       "    <tr>\n",
       "      <th>8</th>\n",
       "      <td>Iowa</td>\n",
       "      <td>Adams</td>\n",
       "      <td>4029</td>\n",
       "      <td>3754</td>\n",
       "    </tr>\n",
       "    <tr>\n",
       "      <th>9</th>\n",
       "      <td>Mississippi</td>\n",
       "      <td>Adams</td>\n",
       "      <td>32297</td>\n",
       "      <td>31561</td>\n",
       "    </tr>\n",
       "  </tbody>\n",
       "</table>\n",
       "</div>"
      ],
      "text/plain": [
       "         state county  2010_population  2015_population\n",
       "0         Iowa  Adair             7682             7145\n",
       "1     Kentucky  Adair            18656            19162\n",
       "2     Missouri  Adair            25607            25353\n",
       "3     Oklahoma  Adair            22683            22259\n",
       "4     Colorado  Adams           441603           490443\n",
       "5        Idaho  Adams             3976             3891\n",
       "6     Illinois  Adams            67103            66835\n",
       "7      Indiana  Adams            34387            34945\n",
       "8         Iowa  Adams             4029             3754\n",
       "9  Mississippi  Adams            32297            31561"
      ]
     },
     "execution_count": 156,
     "metadata": {},
     "output_type": "execute_result"
    }
   ],
   "source": [
    "county_populations.head(10)"
   ]
  },
  {
   "cell_type": "code",
   "execution_count": 157,
   "metadata": {},
   "outputs": [
    {
     "data": {
      "text/plain": [
       "state              object\n",
       "county             object\n",
       "2010_population     int64\n",
       "2015_population     int64\n",
       "dtype: object"
      ]
     },
     "execution_count": 157,
     "metadata": {},
     "output_type": "execute_result"
    }
   ],
   "source": [
    "county_populations.dtypes"
   ]
  },
  {
   "cell_type": "markdown",
   "metadata": {},
   "source": [
    "## Multi-Table Approach"
   ]
  },
  {
   "cell_type": "markdown",
   "metadata": {},
   "source": [
    "### Getting Query Results from Several Tables"
   ]
  },
  {
   "cell_type": "code",
   "execution_count": 314,
   "metadata": {},
   "outputs": [],
   "source": [
    "#states\n",
    "\n",
    "\n",
    "\n",
    "# This cell can be used if you want to compare data from different tables.\n",
    "# 1) Identify tables before the period and consider what is the most logical way to merge them.\n",
    "# 2) Pull in the columns of interest from each table \n",
    "# 3) Write out their join, keeping in mind 1 to 1, many to 1, etc. \n",
    "# 4) Update column names to match, keeping the first column as the element they were joined on. \n",
    "# 5) Update index to that joined column, renaming as needed \n",
    "# Resource: https://www.kite.com/python/answers/how-to-join-multiple-tables-together-in-sqlalchemy-in-python#:~:text=Use%20Query.,sequence%20to%20tables%20to%20join.\n",
    "\n",
    "\n",
    "join_query = session.query(State2010.total_clinics, State2010.total_title10, State2010.pp,\\\n",
    "                           State2010.dept_clinic, State2010.dept_clinic_tt, State2010.hospital_tt,\\\n",
    "                           State2010.hospital, State2010.pp_tt, State2010.pp_client, \\\n",
    "                           State2010.total_client,State2010.total_client_tt,\\\n",
    "                           State_births.state_rate, State_births.year, State_births.state)\\\n",
    "                    .join(State_births, State_births.state == State2010.state)\\\n",
    "                    .filter(State_births.year==\"2011\").filter(State_births.age_group==\"15-19 years\")\n",
    "\n",
    "\n",
    "state_df = pd.DataFrame(join_query, columns=[\"total_clinics\", \"total_title10\", \"total_pp\", \"dept_clinic\", \"dept_clinic_tt\", \"hospital_tt\", \"hospital\", \"pp_tt\", \"pp_client\", \"total_client\", \"total_client_tt\", \"birth_rate\", \"year\", \"state\"])\n",
    "#joined_df.set_index('state_name', inplace=True, )\n",
    "\n",
    "# See code above to change data types if needed\n",
    "# Drop NaN rows, which will mess with the ML\n",
    "state_df = state_df.dropna()\n",
    "\n"
   ]
  },
  {
   "cell_type": "code",
   "execution_count": 205,
   "metadata": {},
   "outputs": [],
   "source": [
    "# counties\n",
    "\n",
    "join_query = session.query(County2010.total_clinics, County2010.total_title10, County2010.pp,\\\n",
    "                           County2010.dept_clinic, County2010.hospital, County2010.total_client_tt,\n",
    "                           County2010.pp_client, County2010.dept_clinic_tt, County_births.birth_rate,\\\n",
    "                           County_births.year, County_births.state, County_births.county)\\\n",
    "                    .join(County_births, County_births.combined_fips_code == County2010.fips)\\\n",
    "                    .filter(County_births.year==\"2010\")\n",
    "\n",
    "\n",
    "county_df = pd.DataFrame(join_query, columns=[\"total_clinics\", \"total_title10\", \"total_pp\", \"health_dept_clinics\", \"hospitals\",\"title_10_clients\",\"pp_clients\", \"dept_clinic_title10\",\"birth_rate\", \"year\", \"state\", \"county\"])\n",
    "#joined_df.set_index('state_name', inplace=True, )\n",
    "\n",
    "# See code above to change data types if needed\n",
    "# Drop NaN rows, which will mess with the ML\n",
    "county_df = county_df.dropna()"
   ]
  },
  {
   "cell_type": "code",
   "execution_count": 206,
   "metadata": {},
   "outputs": [
    {
     "data": {
      "text/html": [
       "<div>\n",
       "<style scoped>\n",
       "    .dataframe tbody tr th:only-of-type {\n",
       "        vertical-align: middle;\n",
       "    }\n",
       "\n",
       "    .dataframe tbody tr th {\n",
       "        vertical-align: top;\n",
       "    }\n",
       "\n",
       "    .dataframe thead th {\n",
       "        text-align: right;\n",
       "    }\n",
       "</style>\n",
       "<table border=\"1\" class=\"dataframe\">\n",
       "  <thead>\n",
       "    <tr style=\"text-align: right;\">\n",
       "      <th></th>\n",
       "      <th>total_clinics</th>\n",
       "      <th>total_title10</th>\n",
       "      <th>total_pp</th>\n",
       "      <th>health_dept_clinics</th>\n",
       "      <th>hospitals</th>\n",
       "      <th>title_10_clients</th>\n",
       "      <th>pp_clients</th>\n",
       "      <th>dept_clinic_title10</th>\n",
       "      <th>birth_rate</th>\n",
       "      <th>year</th>\n",
       "      <th>state</th>\n",
       "      <th>county</th>\n",
       "    </tr>\n",
       "  </thead>\n",
       "  <tbody>\n",
       "    <tr>\n",
       "      <th>0</th>\n",
       "      <td>2</td>\n",
       "      <td>1</td>\n",
       "      <td>0</td>\n",
       "      <td>1</td>\n",
       "      <td>0</td>\n",
       "      <td>1120.0</td>\n",
       "      <td>0</td>\n",
       "      <td>1</td>\n",
       "      <td>34.8</td>\n",
       "      <td>2010</td>\n",
       "      <td>Alabama</td>\n",
       "      <td>Autauga</td>\n",
       "    </tr>\n",
       "    <tr>\n",
       "      <th>1</th>\n",
       "      <td>3</td>\n",
       "      <td>1</td>\n",
       "      <td>0</td>\n",
       "      <td>1</td>\n",
       "      <td>0</td>\n",
       "      <td>1250.0</td>\n",
       "      <td>0</td>\n",
       "      <td>1</td>\n",
       "      <td>41.2</td>\n",
       "      <td>2010</td>\n",
       "      <td>Alabama</td>\n",
       "      <td>Baldwin</td>\n",
       "    </tr>\n",
       "    <tr>\n",
       "      <th>2</th>\n",
       "      <td>3</td>\n",
       "      <td>2</td>\n",
       "      <td>0</td>\n",
       "      <td>2</td>\n",
       "      <td>0</td>\n",
       "      <td>1050.0</td>\n",
       "      <td>0</td>\n",
       "      <td>2</td>\n",
       "      <td>64.8</td>\n",
       "      <td>2010</td>\n",
       "      <td>Alabama</td>\n",
       "      <td>Barbour</td>\n",
       "    </tr>\n",
       "    <tr>\n",
       "      <th>3</th>\n",
       "      <td>2</td>\n",
       "      <td>1</td>\n",
       "      <td>0</td>\n",
       "      <td>1</td>\n",
       "      <td>0</td>\n",
       "      <td>670.0</td>\n",
       "      <td>0</td>\n",
       "      <td>1</td>\n",
       "      <td>49.7</td>\n",
       "      <td>2010</td>\n",
       "      <td>Alabama</td>\n",
       "      <td>Bibb</td>\n",
       "    </tr>\n",
       "    <tr>\n",
       "      <th>4</th>\n",
       "      <td>2</td>\n",
       "      <td>1</td>\n",
       "      <td>0</td>\n",
       "      <td>1</td>\n",
       "      <td>0</td>\n",
       "      <td>1520.0</td>\n",
       "      <td>0</td>\n",
       "      <td>1</td>\n",
       "      <td>45.7</td>\n",
       "      <td>2010</td>\n",
       "      <td>Alabama</td>\n",
       "      <td>Blount</td>\n",
       "    </tr>\n",
       "    <tr>\n",
       "      <th>...</th>\n",
       "      <td>...</td>\n",
       "      <td>...</td>\n",
       "      <td>...</td>\n",
       "      <td>...</td>\n",
       "      <td>...</td>\n",
       "      <td>...</td>\n",
       "      <td>...</td>\n",
       "      <td>...</td>\n",
       "      <td>...</td>\n",
       "      <td>...</td>\n",
       "      <td>...</td>\n",
       "      <td>...</td>\n",
       "    </tr>\n",
       "    <tr>\n",
       "      <th>3130</th>\n",
       "      <td>1</td>\n",
       "      <td>1</td>\n",
       "      <td>0</td>\n",
       "      <td>0</td>\n",
       "      <td>0</td>\n",
       "      <td>1160.0</td>\n",
       "      <td>0</td>\n",
       "      <td>0</td>\n",
       "      <td>49.6</td>\n",
       "      <td>2010</td>\n",
       "      <td>Wyoming</td>\n",
       "      <td>Sweetwater</td>\n",
       "    </tr>\n",
       "    <tr>\n",
       "      <th>3131</th>\n",
       "      <td>1</td>\n",
       "      <td>1</td>\n",
       "      <td>0</td>\n",
       "      <td>0</td>\n",
       "      <td>0</td>\n",
       "      <td>410.0</td>\n",
       "      <td>0</td>\n",
       "      <td>0</td>\n",
       "      <td>23.3</td>\n",
       "      <td>2010</td>\n",
       "      <td>Wyoming</td>\n",
       "      <td>Teton</td>\n",
       "    </tr>\n",
       "    <tr>\n",
       "      <th>3132</th>\n",
       "      <td>2</td>\n",
       "      <td>2</td>\n",
       "      <td>0</td>\n",
       "      <td>0</td>\n",
       "      <td>0</td>\n",
       "      <td>690.0</td>\n",
       "      <td>0</td>\n",
       "      <td>0</td>\n",
       "      <td>40.0</td>\n",
       "      <td>2010</td>\n",
       "      <td>Wyoming</td>\n",
       "      <td>Uinta</td>\n",
       "    </tr>\n",
       "    <tr>\n",
       "      <th>3133</th>\n",
       "      <td>2</td>\n",
       "      <td>1</td>\n",
       "      <td>0</td>\n",
       "      <td>1</td>\n",
       "      <td>0</td>\n",
       "      <td>360.0</td>\n",
       "      <td>0</td>\n",
       "      <td>1</td>\n",
       "      <td>36.5</td>\n",
       "      <td>2010</td>\n",
       "      <td>Wyoming</td>\n",
       "      <td>Washakie</td>\n",
       "    </tr>\n",
       "    <tr>\n",
       "      <th>3134</th>\n",
       "      <td>1</td>\n",
       "      <td>0</td>\n",
       "      <td>0</td>\n",
       "      <td>1</td>\n",
       "      <td>0</td>\n",
       "      <td>0.0</td>\n",
       "      <td>0</td>\n",
       "      <td>0</td>\n",
       "      <td>38.1</td>\n",
       "      <td>2010</td>\n",
       "      <td>Wyoming</td>\n",
       "      <td>Weston</td>\n",
       "    </tr>\n",
       "  </tbody>\n",
       "</table>\n",
       "<p>3134 rows × 12 columns</p>\n",
       "</div>"
      ],
      "text/plain": [
       "      total_clinics  total_title10  total_pp  health_dept_clinics  hospitals  \\\n",
       "0                 2              1         0                    1          0   \n",
       "1                 3              1         0                    1          0   \n",
       "2                 3              2         0                    2          0   \n",
       "3                 2              1         0                    1          0   \n",
       "4                 2              1         0                    1          0   \n",
       "...             ...            ...       ...                  ...        ...   \n",
       "3130              1              1         0                    0          0   \n",
       "3131              1              1         0                    0          0   \n",
       "3132              2              2         0                    0          0   \n",
       "3133              2              1         0                    1          0   \n",
       "3134              1              0         0                    1          0   \n",
       "\n",
       "      title_10_clients  pp_clients  dept_clinic_title10  birth_rate  year  \\\n",
       "0               1120.0           0                    1        34.8  2010   \n",
       "1               1250.0           0                    1        41.2  2010   \n",
       "2               1050.0           0                    2        64.8  2010   \n",
       "3                670.0           0                    1        49.7  2010   \n",
       "4               1520.0           0                    1        45.7  2010   \n",
       "...                ...         ...                  ...         ...   ...   \n",
       "3130            1160.0           0                    0        49.6  2010   \n",
       "3131             410.0           0                    0        23.3  2010   \n",
       "3132             690.0           0                    0        40.0  2010   \n",
       "3133             360.0           0                    1        36.5  2010   \n",
       "3134               0.0           0                    0        38.1  2010   \n",
       "\n",
       "        state      county  \n",
       "0     Alabama     Autauga  \n",
       "1     Alabama     Baldwin  \n",
       "2     Alabama     Barbour  \n",
       "3     Alabama        Bibb  \n",
       "4     Alabama      Blount  \n",
       "...       ...         ...  \n",
       "3130  Wyoming  Sweetwater  \n",
       "3131  Wyoming       Teton  \n",
       "3132  Wyoming       Uinta  \n",
       "3133  Wyoming    Washakie  \n",
       "3134  Wyoming      Weston  \n",
       "\n",
       "[3134 rows x 12 columns]"
      ]
     },
     "execution_count": 206,
     "metadata": {},
     "output_type": "execute_result"
    }
   ],
   "source": [
    "county_df"
   ]
  },
  {
   "cell_type": "code",
   "execution_count": 207,
   "metadata": {},
   "outputs": [
    {
     "data": {
      "text/plain": [
       "array([2010])"
      ]
     },
     "execution_count": 207,
     "metadata": {},
     "output_type": "execute_result"
    }
   ],
   "source": [
    "county_df[\"year\"].unique()"
   ]
  },
  {
   "cell_type": "code",
   "execution_count": 208,
   "metadata": {},
   "outputs": [],
   "source": [
    "county_df = county_df.merge(county_populations, how='left', on=[\"state\",\"county\"])"
   ]
  },
  {
   "cell_type": "code",
   "execution_count": 209,
   "metadata": {},
   "outputs": [
    {
     "data": {
      "text/plain": [
       "(3080, 14)"
      ]
     },
     "execution_count": 209,
     "metadata": {},
     "output_type": "execute_result"
    }
   ],
   "source": [
    "county_df = county_df.dropna()\n",
    "county_df.shape"
   ]
  },
  {
   "cell_type": "code",
   "execution_count": 210,
   "metadata": {
    "scrolled": true
   },
   "outputs": [
    {
     "data": {
      "text/plain": [
       "Index(['total_clinics', 'total_title10', 'total_pp', 'health_dept_clinics',\n",
       "       'hospitals', 'title_10_clients', 'pp_clients', 'dept_clinic_title10',\n",
       "       'birth_rate', 'year', 'state', 'county', '2010_population',\n",
       "       '2015_population'],\n",
       "      dtype='object')"
      ]
     },
     "execution_count": 210,
     "metadata": {},
     "output_type": "execute_result"
    }
   ],
   "source": [
    "county_df.columns"
   ]
  },
  {
   "cell_type": "code",
   "execution_count": 211,
   "metadata": {},
   "outputs": [],
   "source": [
    "county_df[\"clinics_per_capita\"] = county_df[\"total_clinics\"]/county_df[\"2010_population\"]\n",
    "county_df[\"title10_per_capita\"] = county_df[\"total_title10\"]/county_df[\"2010_population\"]\n",
    "county_df[\"pp_per_capita\"] = county_df[\"total_pp\"]/county_df[\"2010_population\"]\n",
    "county_df[\"health_dept_per_capita\"] = county_df['health_dept_clinics']/county_df[\"2010_population\"]\n",
    "county_df[\"hospitals_per_capita\"] = county_df['hospitals']/county_df[\"2010_population\"]\n",
    "county_df[\"title_10_clients_per_capita\"] = county_df[\"title_10_clients\"]/county_df[\"2010_population\"]\n",
    "county_df[\"pp_clients_per_capita\"] = county_df['pp_clients']/county_df[\"2010_population\"]\n",
    "county_df[\"dept_clinic_title10_per_capita\"] = county_df['dept_clinic_title10']/county_df[\"2010_population\"]\n"
   ]
  },
  {
   "cell_type": "code",
   "execution_count": 212,
   "metadata": {},
   "outputs": [
    {
     "data": {
      "text/html": [
       "<div>\n",
       "<style scoped>\n",
       "    .dataframe tbody tr th:only-of-type {\n",
       "        vertical-align: middle;\n",
       "    }\n",
       "\n",
       "    .dataframe tbody tr th {\n",
       "        vertical-align: top;\n",
       "    }\n",
       "\n",
       "    .dataframe thead th {\n",
       "        text-align: right;\n",
       "    }\n",
       "</style>\n",
       "<table border=\"1\" class=\"dataframe\">\n",
       "  <thead>\n",
       "    <tr style=\"text-align: right;\">\n",
       "      <th></th>\n",
       "      <th>total_clinics</th>\n",
       "      <th>total_title10</th>\n",
       "      <th>total_pp</th>\n",
       "      <th>health_dept_clinics</th>\n",
       "      <th>hospitals</th>\n",
       "      <th>title_10_clients</th>\n",
       "      <th>pp_clients</th>\n",
       "      <th>dept_clinic_title10</th>\n",
       "      <th>birth_rate</th>\n",
       "      <th>year</th>\n",
       "      <th>...</th>\n",
       "      <th>2010_population</th>\n",
       "      <th>2015_population</th>\n",
       "      <th>clinics_per_capita</th>\n",
       "      <th>title10_per_capita</th>\n",
       "      <th>pp_per_capita</th>\n",
       "      <th>health_dept_per_capita</th>\n",
       "      <th>hospitals_per_capita</th>\n",
       "      <th>title_10_clients_per_capita</th>\n",
       "      <th>pp_clients_per_capita</th>\n",
       "      <th>dept_clinic_title10_per_capita</th>\n",
       "    </tr>\n",
       "  </thead>\n",
       "  <tbody>\n",
       "    <tr>\n",
       "      <th>0</th>\n",
       "      <td>2</td>\n",
       "      <td>1</td>\n",
       "      <td>0</td>\n",
       "      <td>1</td>\n",
       "      <td>0</td>\n",
       "      <td>1120.0</td>\n",
       "      <td>0</td>\n",
       "      <td>1</td>\n",
       "      <td>34.8</td>\n",
       "      <td>2010</td>\n",
       "      <td>...</td>\n",
       "      <td>54571.0</td>\n",
       "      <td>54864.0</td>\n",
       "      <td>0.000037</td>\n",
       "      <td>0.000018</td>\n",
       "      <td>0.0</td>\n",
       "      <td>0.000018</td>\n",
       "      <td>0.0</td>\n",
       "      <td>0.020524</td>\n",
       "      <td>0.0</td>\n",
       "      <td>0.000018</td>\n",
       "    </tr>\n",
       "    <tr>\n",
       "      <th>1</th>\n",
       "      <td>3</td>\n",
       "      <td>1</td>\n",
       "      <td>0</td>\n",
       "      <td>1</td>\n",
       "      <td>0</td>\n",
       "      <td>1250.0</td>\n",
       "      <td>0</td>\n",
       "      <td>1</td>\n",
       "      <td>41.2</td>\n",
       "      <td>2010</td>\n",
       "      <td>...</td>\n",
       "      <td>182265.0</td>\n",
       "      <td>202939.0</td>\n",
       "      <td>0.000016</td>\n",
       "      <td>0.000005</td>\n",
       "      <td>0.0</td>\n",
       "      <td>0.000005</td>\n",
       "      <td>0.0</td>\n",
       "      <td>0.006858</td>\n",
       "      <td>0.0</td>\n",
       "      <td>0.000005</td>\n",
       "    </tr>\n",
       "    <tr>\n",
       "      <th>2</th>\n",
       "      <td>3</td>\n",
       "      <td>2</td>\n",
       "      <td>0</td>\n",
       "      <td>2</td>\n",
       "      <td>0</td>\n",
       "      <td>1050.0</td>\n",
       "      <td>0</td>\n",
       "      <td>2</td>\n",
       "      <td>64.8</td>\n",
       "      <td>2010</td>\n",
       "      <td>...</td>\n",
       "      <td>27457.0</td>\n",
       "      <td>26283.0</td>\n",
       "      <td>0.000109</td>\n",
       "      <td>0.000073</td>\n",
       "      <td>0.0</td>\n",
       "      <td>0.000073</td>\n",
       "      <td>0.0</td>\n",
       "      <td>0.038242</td>\n",
       "      <td>0.0</td>\n",
       "      <td>0.000073</td>\n",
       "    </tr>\n",
       "    <tr>\n",
       "      <th>3</th>\n",
       "      <td>2</td>\n",
       "      <td>1</td>\n",
       "      <td>0</td>\n",
       "      <td>1</td>\n",
       "      <td>0</td>\n",
       "      <td>670.0</td>\n",
       "      <td>0</td>\n",
       "      <td>1</td>\n",
       "      <td>49.7</td>\n",
       "      <td>2010</td>\n",
       "      <td>...</td>\n",
       "      <td>22915.0</td>\n",
       "      <td>22566.0</td>\n",
       "      <td>0.000087</td>\n",
       "      <td>0.000044</td>\n",
       "      <td>0.0</td>\n",
       "      <td>0.000044</td>\n",
       "      <td>0.0</td>\n",
       "      <td>0.029238</td>\n",
       "      <td>0.0</td>\n",
       "      <td>0.000044</td>\n",
       "    </tr>\n",
       "    <tr>\n",
       "      <th>4</th>\n",
       "      <td>2</td>\n",
       "      <td>1</td>\n",
       "      <td>0</td>\n",
       "      <td>1</td>\n",
       "      <td>0</td>\n",
       "      <td>1520.0</td>\n",
       "      <td>0</td>\n",
       "      <td>1</td>\n",
       "      <td>45.7</td>\n",
       "      <td>2010</td>\n",
       "      <td>...</td>\n",
       "      <td>57322.0</td>\n",
       "      <td>57526.0</td>\n",
       "      <td>0.000035</td>\n",
       "      <td>0.000017</td>\n",
       "      <td>0.0</td>\n",
       "      <td>0.000017</td>\n",
       "      <td>0.0</td>\n",
       "      <td>0.026517</td>\n",
       "      <td>0.0</td>\n",
       "      <td>0.000017</td>\n",
       "    </tr>\n",
       "  </tbody>\n",
       "</table>\n",
       "<p>5 rows × 22 columns</p>\n",
       "</div>"
      ],
      "text/plain": [
       "   total_clinics  total_title10  total_pp  health_dept_clinics  hospitals  \\\n",
       "0              2              1         0                    1          0   \n",
       "1              3              1         0                    1          0   \n",
       "2              3              2         0                    2          0   \n",
       "3              2              1         0                    1          0   \n",
       "4              2              1         0                    1          0   \n",
       "\n",
       "   title_10_clients  pp_clients  dept_clinic_title10  birth_rate  year  ...  \\\n",
       "0            1120.0           0                    1        34.8  2010  ...   \n",
       "1            1250.0           0                    1        41.2  2010  ...   \n",
       "2            1050.0           0                    2        64.8  2010  ...   \n",
       "3             670.0           0                    1        49.7  2010  ...   \n",
       "4            1520.0           0                    1        45.7  2010  ...   \n",
       "\n",
       "  2010_population 2015_population  clinics_per_capita  title10_per_capita  \\\n",
       "0         54571.0         54864.0            0.000037            0.000018   \n",
       "1        182265.0        202939.0            0.000016            0.000005   \n",
       "2         27457.0         26283.0            0.000109            0.000073   \n",
       "3         22915.0         22566.0            0.000087            0.000044   \n",
       "4         57322.0         57526.0            0.000035            0.000017   \n",
       "\n",
       "   pp_per_capita  health_dept_per_capita  hospitals_per_capita  \\\n",
       "0            0.0                0.000018                   0.0   \n",
       "1            0.0                0.000005                   0.0   \n",
       "2            0.0                0.000073                   0.0   \n",
       "3            0.0                0.000044                   0.0   \n",
       "4            0.0                0.000017                   0.0   \n",
       "\n",
       "   title_10_clients_per_capita  pp_clients_per_capita  \\\n",
       "0                     0.020524                    0.0   \n",
       "1                     0.006858                    0.0   \n",
       "2                     0.038242                    0.0   \n",
       "3                     0.029238                    0.0   \n",
       "4                     0.026517                    0.0   \n",
       "\n",
       "   dept_clinic_title10_per_capita  \n",
       "0                        0.000018  \n",
       "1                        0.000005  \n",
       "2                        0.000073  \n",
       "3                        0.000044  \n",
       "4                        0.000017  \n",
       "\n",
       "[5 rows x 22 columns]"
      ]
     },
     "execution_count": 212,
     "metadata": {},
     "output_type": "execute_result"
    }
   ],
   "source": [
    "county_df.head()"
   ]
  },
  {
   "cell_type": "code",
   "execution_count": 315,
   "metadata": {},
   "outputs": [],
   "source": [
    "state_df = state_df.merge(state_populations, on=\"state\", how=\"inner\")"
   ]
  },
  {
   "cell_type": "code",
   "execution_count": 353,
   "metadata": {},
   "outputs": [],
   "source": [
    "state_df = state_df.merge(state_expenditures, on=\"state\", how=\"inner\")"
   ]
  },
  {
   "cell_type": "code",
   "execution_count": 346,
   "metadata": {},
   "outputs": [
    {
     "data": {
      "text/html": [
       "<div>\n",
       "<style scoped>\n",
       "    .dataframe tbody tr th:only-of-type {\n",
       "        vertical-align: middle;\n",
       "    }\n",
       "\n",
       "    .dataframe tbody tr th {\n",
       "        vertical-align: top;\n",
       "    }\n",
       "\n",
       "    .dataframe thead th {\n",
       "        text-align: right;\n",
       "    }\n",
       "</style>\n",
       "<table border=\"1\" class=\"dataframe\">\n",
       "  <thead>\n",
       "    <tr style=\"text-align: right;\">\n",
       "      <th></th>\n",
       "      <th>total_clinics</th>\n",
       "      <th>total_title10</th>\n",
       "      <th>total_pp</th>\n",
       "      <th>dept_clinic</th>\n",
       "      <th>dept_clinic_tt</th>\n",
       "      <th>hospital_tt</th>\n",
       "      <th>hospital</th>\n",
       "      <th>pp_tt</th>\n",
       "      <th>pp_client</th>\n",
       "      <th>total_client</th>\n",
       "      <th>...</th>\n",
       "      <th>pp_per_capita</th>\n",
       "      <th>health_dept_per_capita</th>\n",
       "      <th>hospitals_per_capita</th>\n",
       "      <th>title_10_clients_per_capita</th>\n",
       "      <th>pp_clients_per_capita</th>\n",
       "      <th>dept_clinic_title10_per_capita</th>\n",
       "      <th>percent_clinics_tt_funded</th>\n",
       "      <th>percent_depts_tt_funded</th>\n",
       "      <th>percent_pp_tt_funded</th>\n",
       "      <th>percent_clients_at_pp</th>\n",
       "    </tr>\n",
       "  </thead>\n",
       "  <tbody>\n",
       "    <tr>\n",
       "      <th>0</th>\n",
       "      <td>168</td>\n",
       "      <td>80</td>\n",
       "      <td>2</td>\n",
       "      <td>76</td>\n",
       "      <td>75</td>\n",
       "      <td>0</td>\n",
       "      <td>2</td>\n",
       "      <td>0</td>\n",
       "      <td>280</td>\n",
       "      <td>115460</td>\n",
       "      <td>...</td>\n",
       "      <td>4.179347e-07</td>\n",
       "      <td>0.000016</td>\n",
       "      <td>4.179347e-07</td>\n",
       "      <td>0.021662</td>\n",
       "      <td>0.000059</td>\n",
       "      <td>0.000016</td>\n",
       "      <td>0.476190</td>\n",
       "      <td>0.986842</td>\n",
       "      <td>0.000000</td>\n",
       "      <td>0.002425</td>\n",
       "    </tr>\n",
       "    <tr>\n",
       "      <th>1</th>\n",
       "      <td>118</td>\n",
       "      <td>6</td>\n",
       "      <td>5</td>\n",
       "      <td>15</td>\n",
       "      <td>2</td>\n",
       "      <td>0</td>\n",
       "      <td>1</td>\n",
       "      <td>3</td>\n",
       "      <td>5460</td>\n",
       "      <td>23500</td>\n",
       "      <td>...</td>\n",
       "      <td>7.003684e-06</td>\n",
       "      <td>0.000021</td>\n",
       "      <td>1.400737e-06</td>\n",
       "      <td>0.009539</td>\n",
       "      <td>0.007648</td>\n",
       "      <td>0.000003</td>\n",
       "      <td>0.050847</td>\n",
       "      <td>0.133333</td>\n",
       "      <td>0.600000</td>\n",
       "      <td>0.232340</td>\n",
       "    </tr>\n",
       "    <tr>\n",
       "      <th>2</th>\n",
       "      <td>184</td>\n",
       "      <td>37</td>\n",
       "      <td>18</td>\n",
       "      <td>34</td>\n",
       "      <td>20</td>\n",
       "      <td>2</td>\n",
       "      <td>15</td>\n",
       "      <td>9</td>\n",
       "      <td>36390</td>\n",
       "      <td>97610</td>\n",
       "      <td>...</td>\n",
       "      <td>2.809352e-06</td>\n",
       "      <td>0.000005</td>\n",
       "      <td>2.341126e-06</td>\n",
       "      <td>0.006671</td>\n",
       "      <td>0.005680</td>\n",
       "      <td>0.000003</td>\n",
       "      <td>0.201087</td>\n",
       "      <td>0.588235</td>\n",
       "      <td>0.500000</td>\n",
       "      <td>0.372810</td>\n",
       "    </tr>\n",
       "    <tr>\n",
       "      <th>3</th>\n",
       "      <td>145</td>\n",
       "      <td>89</td>\n",
       "      <td>2</td>\n",
       "      <td>89</td>\n",
       "      <td>89</td>\n",
       "      <td>0</td>\n",
       "      <td>0</td>\n",
       "      <td>0</td>\n",
       "      <td>4270</td>\n",
       "      <td>83940</td>\n",
       "      <td>...</td>\n",
       "      <td>6.844711e-07</td>\n",
       "      <td>0.000030</td>\n",
       "      <td>0.000000e+00</td>\n",
       "      <td>0.026376</td>\n",
       "      <td>0.001461</td>\n",
       "      <td>0.000030</td>\n",
       "      <td>0.613793</td>\n",
       "      <td>1.000000</td>\n",
       "      <td>0.000000</td>\n",
       "      <td>0.050870</td>\n",
       "    </tr>\n",
       "    <tr>\n",
       "      <th>4</th>\n",
       "      <td>1085</td>\n",
       "      <td>325</td>\n",
       "      <td>102</td>\n",
       "      <td>140</td>\n",
       "      <td>56</td>\n",
       "      <td>9</td>\n",
       "      <td>173</td>\n",
       "      <td>95</td>\n",
       "      <td>686680</td>\n",
       "      <td>1529820</td>\n",
       "      <td>...</td>\n",
       "      <td>2.733155e-06</td>\n",
       "      <td>0.000004</td>\n",
       "      <td>4.635646e-06</td>\n",
       "      <td>0.029496</td>\n",
       "      <td>0.018400</td>\n",
       "      <td>0.000002</td>\n",
       "      <td>0.299539</td>\n",
       "      <td>0.400000</td>\n",
       "      <td>0.931373</td>\n",
       "      <td>0.448863</td>\n",
       "    </tr>\n",
       "  </tbody>\n",
       "</table>\n",
       "<p>5 rows × 28 columns</p>\n",
       "</div>"
      ],
      "text/plain": [
       "   total_clinics  total_title10  total_pp  dept_clinic  dept_clinic_tt  \\\n",
       "0            168             80         2           76              75   \n",
       "1            118              6         5           15               2   \n",
       "2            184             37        18           34              20   \n",
       "3            145             89         2           89              89   \n",
       "4           1085            325       102          140              56   \n",
       "\n",
       "   hospital_tt  hospital  pp_tt  pp_client  total_client  ...  pp_per_capita  \\\n",
       "0            0         2      0        280        115460  ...   4.179347e-07   \n",
       "1            0         1      3       5460         23500  ...   7.003684e-06   \n",
       "2            2        15      9      36390         97610  ...   2.809352e-06   \n",
       "3            0         0      0       4270         83940  ...   6.844711e-07   \n",
       "4            9       173     95     686680       1529820  ...   2.733155e-06   \n",
       "\n",
       "   health_dept_per_capita  hospitals_per_capita title_10_clients_per_capita  \\\n",
       "0                0.000016          4.179347e-07                    0.021662   \n",
       "1                0.000021          1.400737e-06                    0.009539   \n",
       "2                0.000005          2.341126e-06                    0.006671   \n",
       "3                0.000030          0.000000e+00                    0.026376   \n",
       "4                0.000004          4.635646e-06                    0.029496   \n",
       "\n",
       "   pp_clients_per_capita  dept_clinic_title10_per_capita  \\\n",
       "0               0.000059                        0.000016   \n",
       "1               0.007648                        0.000003   \n",
       "2               0.005680                        0.000003   \n",
       "3               0.001461                        0.000030   \n",
       "4               0.018400                        0.000002   \n",
       "\n",
       "   percent_clinics_tt_funded  percent_depts_tt_funded  percent_pp_tt_funded  \\\n",
       "0                   0.476190                 0.986842              0.000000   \n",
       "1                   0.050847                 0.133333              0.600000   \n",
       "2                   0.201087                 0.588235              0.500000   \n",
       "3                   0.613793                 1.000000              0.000000   \n",
       "4                   0.299539                 0.400000              0.931373   \n",
       "\n",
       "   percent_clients_at_pp  \n",
       "0               0.002425  \n",
       "1               0.232340  \n",
       "2               0.372810  \n",
       "3               0.050870  \n",
       "4               0.448863  \n",
       "\n",
       "[5 rows x 28 columns]"
      ]
     },
     "execution_count": 346,
     "metadata": {},
     "output_type": "execute_result"
    }
   ],
   "source": [
    "state_df.head()"
   ]
  },
  {
   "cell_type": "code",
   "execution_count": 317,
   "metadata": {},
   "outputs": [],
   "source": [
    "state_df[\"clinics_per_capita\"] = state_df[\"total_clinics\"]/state_df[\"2010_population\"]\n",
    "state_df[\"title10_per_capita\"] = state_df[\"total_title10\"]/state_df[\"2010_population\"]\n",
    "state_df[\"pp_per_capita\"] = state_df[\"total_pp\"]/state_df[\"2010_population\"]\n",
    "state_df[\"health_dept_per_capita\"] = state_df['dept_clinic']/state_df[\"2010_population\"]\n",
    "state_df[\"hospitals_per_capita\"] = state_df['hospital']/state_df[\"2010_population\"]\n",
    "state_df[\"title_10_clients_per_capita\"] = state_df[\"total_client_tt\"]/state_df[\"2010_population\"]\n",
    "state_df[\"pp_clients_per_capita\"] = state_df['pp_client']/state_df[\"2010_population\"]\n",
    "state_df[\"dept_clinic_title10_per_capita\"] = state_df['dept_clinic_tt']/state_df[\"2010_population\"]\n",
    "state_df[\"percent_clinics_tt_funded\"] = state_df['total_title10']/state_df[\"total_clinics\"]\n",
    "state_df[\"percent_depts_tt_funded\"] = state_df['dept_clinic_tt']/state_df[\"dept_clinic\"]\n",
    "state_df[\"percent_pp_tt_funded\"] = state_df['pp_tt']/state_df[\"total_pp\"]\n",
    "state_df[\"percent_clients_at_pp\"] = state_df['pp_client']/state_df[\"total_client\"]\n"
   ]
  },
  {
   "cell_type": "code",
   "execution_count": 324,
   "metadata": {},
   "outputs": [],
   "source": [
    "state_df=state_df.dropna()"
   ]
  },
  {
   "cell_type": "code",
   "execution_count": 325,
   "metadata": {},
   "outputs": [
    {
     "data": {
      "text/plain": [
       "Index(['total_clinics', 'total_title10', 'total_pp', 'dept_clinic',\n",
       "       'dept_clinic_tt', 'hospital_tt', 'hospital', 'pp_tt', 'pp_client',\n",
       "       'total_client', 'total_client_tt', 'birth_rate', 'year', 'state',\n",
       "       '2010_population', '2015_population', 'clinics_per_capita',\n",
       "       'title10_per_capita', 'pp_per_capita', 'health_dept_per_capita',\n",
       "       'hospitals_per_capita', 'title_10_clients_per_capita',\n",
       "       'pp_clients_per_capita', 'dept_clinic_title10_per_capita',\n",
       "       'percent_clinics_tt_funded', 'percent_depts_tt_funded',\n",
       "       'percent_pp_tt_funded', 'percent_clients_at_pp'],\n",
       "      dtype='object')"
      ]
     },
     "execution_count": 325,
     "metadata": {},
     "output_type": "execute_result"
    }
   ],
   "source": [
    "state_df.columns"
   ]
  },
  {
   "cell_type": "markdown",
   "metadata": {},
   "source": [
    "## Prepping the Model Data"
   ]
  },
  {
   "cell_type": "code",
   "execution_count": 326,
   "metadata": {},
   "outputs": [
    {
     "name": "stdout",
     "output_type": "stream",
     "text": [
      "Shape:  (42, 12) (42,)\n"
     ]
    }
   ],
   "source": [
    "# Close the session from before\n",
    "session.close()\n",
    "\n",
    "# Assign the data to X and y\n",
    "# Note: Sklearn requires a two-dimensional array of values so we use reshape to create this\n",
    "\n",
    "X = state_df[['clinics_per_capita',\n",
    "       'title10_per_capita', 'pp_per_capita', 'health_dept_per_capita',\n",
    "       'hospitals_per_capita', 'title_10_clients_per_capita',\n",
    "       'pp_clients_per_capita', 'dept_clinic_title10_per_capita',\n",
    "       'percent_clinics_tt_funded', 'percent_depts_tt_funded',\n",
    "       'percent_pp_tt_funded', 'percent_clients_at_pp']]\n",
    "y = state_df[\"birth_rate\"]\n",
    "\n",
    "feature_names = ['clinics_per_capita',\n",
    "       'title10_per_capita', 'pp_per_capita', 'health_dept_per_capita',\n",
    "       'hospitals_per_capita', 'title_10_clients_per_capita',\n",
    "       'pp_clients_per_capita', 'dept_clinic_title10_per_capita',\n",
    "       'percent_clinics_tt_funded', 'percent_depts_tt_funded',\n",
    "       'percent_pp_tt_funded', 'percent_clients_at_pp']\n",
    "\n",
    "print(\"Shape: \", X.shape, y.shape)"
   ]
  },
  {
   "cell_type": "code",
   "execution_count": 327,
   "metadata": {},
   "outputs": [],
   "source": [
    "# Use sklearn's `train_test_split` to split the data into training and testing\n",
    "# Keep in mind that our group may want to use the model on an entirely different table as well. \n",
    "\n",
    "from sklearn.model_selection import train_test_split # may not apply to all models\n",
    "\n",
    "### BEGIN SOLUTION \n",
    "\n",
    "X_train, X_test, y_train, y_test = train_test_split(X, y, random_state=42)\n",
    "\n",
    "### END SOLUTION"
   ]
  },
  {
   "cell_type": "markdown",
   "metadata": {},
   "source": [
    "## Linear Regression"
   ]
  },
  {
   "cell_type": "code",
   "execution_count": 328,
   "metadata": {},
   "outputs": [],
   "source": [
    "# Create the model\n",
    "\n",
    "### BEGIN SOLUTION\n",
    "\n",
    "from sklearn.ensemble import RandomForestRegressor\n",
    "\n",
    "model = RandomForestRegressor(max_depth=4, n_estimators=100, random_state=42)\n",
    "\n",
    "### END SOLUTION"
   ]
  },
  {
   "cell_type": "code",
   "execution_count": 329,
   "metadata": {},
   "outputs": [
    {
     "data": {
      "text/plain": [
       "RandomForestRegressor(max_depth=4, random_state=42)"
      ]
     },
     "execution_count": 329,
     "metadata": {},
     "output_type": "execute_result"
    }
   ],
   "source": [
    "model.fit(X_train, y_train)"
   ]
  },
  {
   "cell_type": "code",
   "execution_count": 330,
   "metadata": {},
   "outputs": [
    {
     "name": "stdout",
     "output_type": "stream",
     "text": [
      "Mean Squared Error (MSE): 61.11363854375168\n",
      "R-squared (R2 ): 0.3161999719078663\n"
     ]
    }
   ],
   "source": [
    "# Calculate the mean_squared_error and the r-squared value\n",
    "# for the testing data\n",
    "\n",
    "from sklearn.metrics import mean_squared_error, r2_score\n",
    "\n",
    "### BEGIN SOLUTION\n",
    "\n",
    "# Use our model to make predictions\n",
    "predicted = model.predict(X_test)\n",
    "\n",
    "# Score the predictions with mse and r2\n",
    "mse = mean_squared_error(y_test, predicted)\n",
    "r2 = r2_score(y_test, predicted)\n",
    "\n",
    "print(f\"Mean Squared Error (MSE): {mse}\")\n",
    "print(f\"R-squared (R2 ): {r2}\")\n",
    "\n",
    "### END SOLUTION"
   ]
  },
  {
   "cell_type": "code",
   "execution_count": 331,
   "metadata": {},
   "outputs": [
    {
     "data": {
      "text/plain": [
       "0.3161999719078663"
      ]
     },
     "execution_count": 331,
     "metadata": {},
     "output_type": "execute_result"
    }
   ],
   "source": [
    "# Call the `score` method on the model to show the r2 score\n",
    "\n",
    "### BEGIN SOLUTION\n",
    "model.score(X_test, y_test)\n",
    "### END SOLUTION"
   ]
  },
  {
   "cell_type": "code",
   "execution_count": 332,
   "metadata": {},
   "outputs": [
    {
     "data": {
      "text/plain": [
       "[(0.24916878913294233, 'pp_clients_per_capita'),\n",
       " (0.2441331650066089, 'pp_per_capita'),\n",
       " (0.11722980886319008, 'percent_clients_at_pp'),\n",
       " (0.09198452735537278, 'percent_pp_tt_funded'),\n",
       " (0.05773260684670149, 'percent_clinics_tt_funded'),\n",
       " (0.053918022708138884, 'clinics_per_capita'),\n",
       " (0.04436961142449079, 'health_dept_per_capita'),\n",
       " (0.04400722950504308, 'title_10_clients_per_capita'),\n",
       " (0.03678582950384224, 'dept_clinic_title10_per_capita'),\n",
       " (0.02322775752220244, 'percent_depts_tt_funded'),\n",
       " (0.02212184137422273, 'title10_per_capita'),\n",
       " (0.015320810757244398, 'hospitals_per_capita')]"
      ]
     },
     "execution_count": 332,
     "metadata": {},
     "output_type": "execute_result"
    }
   ],
   "source": [
    "sorted(zip(model.feature_importances_, feature_names), reverse=True)"
   ]
  },
  {
   "cell_type": "markdown",
   "metadata": {},
   "source": [
    "## "
   ]
  },
  {
   "cell_type": "code",
   "execution_count": null,
   "metadata": {},
   "outputs": [],
   "source": [
    "#R2 with raw state data = 0.26\n",
    "#R2 with per capita = 0.15\n",
    "#r2 pp, title10, total clinics, states raw plus per capita = .29, pp per capita highest feature importance"
   ]
  }
 ],
 "metadata": {
  "kernelspec": {
   "display_name": "Python 3",
   "language": "python",
   "name": "python3"
  },
  "language_info": {
   "codemirror_mode": {
    "name": "ipython",
    "version": 3
   },
   "file_extension": ".py",
   "mimetype": "text/x-python",
   "name": "python",
   "nbconvert_exporter": "python",
   "pygments_lexer": "ipython3",
   "version": "3.8.5"
  }
 },
 "nbformat": 4,
 "nbformat_minor": 4
}
