{
 "cells": [
  {
   "cell_type": "code",
   "execution_count": 1,
   "metadata": {},
   "outputs": [],
   "source": [
    "# Import dependencies\n",
    "%matplotlib inline\n",
    "import matplotlib.pyplot as plt\n",
    "import numpy as np\n",
    "import pandas as pd\n",
    "\n",
    "import sqlite3\n",
    "\n",
    "from sqlalchemy.ext.automap import automap_base\n",
    "from sqlalchemy.orm import Session\n",
    "from sqlalchemy import create_engine\n",
    "\n",
    "# Setting engine for SQLite connection\n",
    "engine = create_engine(\"sqlite:///birthdata.sqlite\", echo=False)\n"
   ]
  },
  {
   "cell_type": "markdown",
   "metadata": {},
   "source": [
    "## Starting SQLite Connection"
   ]
  },
  {
   "cell_type": "code",
   "execution_count": 10,
   "metadata": {},
   "outputs": [
    {
     "name": "stdout",
     "output_type": "stream",
     "text": [
      "['clinic2010_county', 'clinic2010_state', 'clinic2015_county', 'clinic2015_state', 'county', 'national', 'outcomes']\n"
     ]
    }
   ],
   "source": [
    "# Checking classes were made successfully: https://stackoverflow.com/questions/42946174/sqlalchemy-automap-not-generating-base-classes-table-name\n",
    "engine = create_engine(\"sqlite:///birthdata.sqlite\", echo=False)\n",
    "\n",
    "# Declare a Base using `automap_base()`\n",
    "Base = automap_base()\n",
    "\n",
    "# Use the Base class to reflect the database tables\n",
    "Base.prepare(engine, reflect=True)\n",
    "\n",
    "# Print all of the classes mapped to the Base\n",
    "print(Base.classes.keys())\n",
    "\n",
    "# Create a session\n",
    "session = Session(engine)\n"
   ]
  },
  {
   "cell_type": "markdown",
   "metadata": {},
   "source": [
    "### Naming Classes"
   ]
  },
  {
   "cell_type": "code",
   "execution_count": 11,
   "metadata": {},
   "outputs": [],
   "source": [
    "# Assign the classes to variables\n",
    "County2015 = Base.classes.clinic2015_county\n",
    "State2015 = Base.classes.clinic2015_state\n",
    "County2010 = Base.classes.clinic2010_county\n",
    "State2010 = Base.classes.clinic2010_state\n",
    "Outcomes = Base.classes.outcomes\n",
    "County_births = Base.classes.county\n"
   ]
  },
  {
   "cell_type": "markdown",
   "metadata": {},
   "source": [
    "## 1 Table Approach"
   ]
  },
  {
   "cell_type": "markdown",
   "metadata": {},
   "source": [
    "### Selecting 1 Table for Modeling"
   ]
  },
  {
   "cell_type": "code",
   "execution_count": 4,
   "metadata": {},
   "outputs": [
    {
     "data": {
      "text/plain": [
       "{'_sa_instance_state': <sqlalchemy.orm.state.InstanceState at 0x7fd2d317ccd0>,\n",
       " 'dept_clinic_tt': 1,\n",
       " 'fed_center': 1,\n",
       " 'other_clinic_client': 0,\n",
       " 'hospital_tt': 0,\n",
       " 'dept_clinic': 1,\n",
       " 'total_client_tt': 1120.0,\n",
       " 'pp_tt': 0,\n",
       " 'hospital': 0,\n",
       " 'fed_client_tt': 0,\n",
       " 'other_clinic_tt': 0,\n",
       " 'pp': 0,\n",
       " 'pp_client': 0,\n",
       " 'dept_clinic_client_tt': 1120,\n",
       " 'index': 0,\n",
       " 'total_client': 1280.0,\n",
       " 'other_clinic': 0,\n",
       " 'hospital_client_tt': 0,\n",
       " 'state': 'Alabama',\n",
       " 'fed_client': 160,\n",
       " 'total_title10': 1,\n",
       " 'pp_client_tt': 0,\n",
       " 'dept_clinic_client': 1120,\n",
       " 'fips': 1001,\n",
       " 'fed_center_tt': 0,\n",
       " 'other_clinic_client_tt': 0,\n",
       " 'county': 'Autauga ',\n",
       " 'hospital_client': 0,\n",
       " 'total_clinics': 2}"
      ]
     },
     "execution_count": 4,
     "metadata": {},
     "output_type": "execute_result"
    }
   ],
   "source": [
    "# Switch out \"selected\" with the table of interest \n",
    "selected = County2010\n",
    "\n",
    "# Display the row's columns and data in dictionary format\n",
    "first_row = session.query(selected).first()\n",
    "first_row.__dict__\n"
   ]
  },
  {
   "cell_type": "code",
   "execution_count": 12,
   "metadata": {},
   "outputs": [
    {
     "data": {
      "text/plain": [
       "{'_sa_instance_state': <sqlalchemy.orm.state.InstanceState at 0x7fd2d34e5760>,\n",
       " 'combined_fips_code': '1001',\n",
       " 'state_fips_code': '01',\n",
       " 'state': 'Alabama',\n",
       " 'index': 0,\n",
       " 'upper_confidence_limit': 55.2,\n",
       " 'birth_rate': 48.4,\n",
       " 'county_fips_code': '1',\n",
       " 'county': 'Autauga',\n",
       " 'year': 2003,\n",
       " 'lower_confidence_limit': 42.1}"
      ]
     },
     "execution_count": 12,
     "metadata": {},
     "output_type": "execute_result"
    }
   ],
   "source": [
    "first_row = session.query(County_births).first()\n",
    "first_row.__dict__"
   ]
  },
  {
   "cell_type": "markdown",
   "metadata": {},
   "source": [
    "### Getting Query Results from 1 Table"
   ]
  },
  {
   "cell_type": "code",
   "execution_count": 8,
   "metadata": {},
   "outputs": [
    {
     "data": {
      "text/plain": [
       "(3143, 3)"
      ]
     },
     "execution_count": 8,
     "metadata": {},
     "output_type": "execute_result"
    }
   ],
   "source": [
    "# 1) Identify the columns you want here using the names from above\n",
    "# 2) Place them in the query below after the periods\n",
    "\n",
    "# Getting all the entries via SQLAlchemy\n",
    "results = session.query(County2010.total_clinics, County2010.total_title10, County2010.pp).all()\n",
    "\n",
    "# Identify colummns (must be written manually in the query)\n",
    "column1 = \"total_clinics\"\n",
    "column2 = \"total_title10\"\n",
    "column3 = \"pp\"\n",
    "\n",
    "\n",
    "# Resource: https://stackoverflow.com/questions/29525808/sqlalchemy-orm-conversion-to-pandas-dataframe\n",
    "# Load the results into a pandas dataframe.\n",
    "df = pd.DataFrame(results, columns=[column1, column2, column3])\n",
    "\n",
    "# OPTIONAL CHANGES \n",
    "# If you need to change the index\n",
    "#df.set_index('index name', inplace=True, )\n",
    "\n",
    "# Change to int, if needed \n",
    "#df[column1] = df[column1].astype(int)\n",
    "#df[column2] = df[column2].astype(int)\n",
    "#df = df.apply (pd.to_numeric, errors='coerce')\n",
    "\n",
    "# Drop NaN rows, which will mess with the ML\n",
    "df = df.dropna()\n",
    "\n",
    "# Check shape \n",
    "df.shape\n"
   ]
  },
  {
   "cell_type": "code",
   "execution_count": null,
   "metadata": {},
   "outputs": [],
   "source": []
  },
  {
   "cell_type": "markdown",
   "metadata": {},
   "source": [
    "## Multi-Table Approach"
   ]
  },
  {
   "cell_type": "markdown",
   "metadata": {},
   "source": [
    "### Getting Query Results from Several Tables"
   ]
  },
  {
   "cell_type": "code",
   "execution_count": 13,
   "metadata": {},
   "outputs": [
    {
     "data": {
      "text/html": [
       "<div>\n",
       "<style scoped>\n",
       "    .dataframe tbody tr th:only-of-type {\n",
       "        vertical-align: middle;\n",
       "    }\n",
       "\n",
       "    .dataframe tbody tr th {\n",
       "        vertical-align: top;\n",
       "    }\n",
       "\n",
       "    .dataframe thead th {\n",
       "        text-align: right;\n",
       "    }\n",
       "</style>\n",
       "<table border=\"1\" class=\"dataframe\">\n",
       "  <thead>\n",
       "    <tr style=\"text-align: right;\">\n",
       "      <th></th>\n",
       "      <th>total_clinics</th>\n",
       "      <th>total_title10</th>\n",
       "      <th>total_pp</th>\n",
       "      <th>birth_rate</th>\n",
       "      <th>year</th>\n",
       "    </tr>\n",
       "  </thead>\n",
       "  <tbody>\n",
       "    <tr>\n",
       "      <th>0</th>\n",
       "      <td>2</td>\n",
       "      <td>1</td>\n",
       "      <td>0</td>\n",
       "      <td>32.0</td>\n",
       "      <td>2011</td>\n",
       "    </tr>\n",
       "    <tr>\n",
       "      <th>1</th>\n",
       "      <td>3</td>\n",
       "      <td>1</td>\n",
       "      <td>0</td>\n",
       "      <td>37.5</td>\n",
       "      <td>2011</td>\n",
       "    </tr>\n",
       "    <tr>\n",
       "      <th>2</th>\n",
       "      <td>3</td>\n",
       "      <td>2</td>\n",
       "      <td>0</td>\n",
       "      <td>59.3</td>\n",
       "      <td>2011</td>\n",
       "    </tr>\n",
       "    <tr>\n",
       "      <th>3</th>\n",
       "      <td>2</td>\n",
       "      <td>1</td>\n",
       "      <td>0</td>\n",
       "      <td>47.5</td>\n",
       "      <td>2011</td>\n",
       "    </tr>\n",
       "    <tr>\n",
       "      <th>4</th>\n",
       "      <td>2</td>\n",
       "      <td>1</td>\n",
       "      <td>0</td>\n",
       "      <td>43.0</td>\n",
       "      <td>2011</td>\n",
       "    </tr>\n",
       "  </tbody>\n",
       "</table>\n",
       "</div>"
      ],
      "text/plain": [
       "   total_clinics  total_title10  total_pp  birth_rate  year\n",
       "0              2              1         0        32.0  2011\n",
       "1              3              1         0        37.5  2011\n",
       "2              3              2         0        59.3  2011\n",
       "3              2              1         0        47.5  2011\n",
       "4              2              1         0        43.0  2011"
      ]
     },
     "execution_count": 13,
     "metadata": {},
     "output_type": "execute_result"
    }
   ],
   "source": [
    "# This cell can be used if you want to compare data from different tables.\n",
    "# 1) Identify tables before the period and consider what is the most logical way to merge them.\n",
    "# 2) Pull in the columns of interest from each table \n",
    "# 3) Write out their join, keeping in mind 1 to 1, many to 1, etc. \n",
    "# 4) Update column names to match, keeping the first column as the element they were joined on. \n",
    "# 5) Update index to that joined column, renaming as needed \n",
    "# Resource: https://www.kite.com/python/answers/how-to-join-multiple-tables-together-in-sqlalchemy-in-python#:~:text=Use%20Query.,sequence%20to%20tables%20to%20join.\n",
    "\n",
    "\n",
    "join_query = session.query(County2010.total_clinics, County2010.total_title10, County2010.pp, County_births.birth_rate, County_births.year)\\\n",
    "                    .join(County_births, County_births.combined_fips_code == County2010.fips)\\\n",
    "                    .filter(County_births.year==\"2011\")\n",
    "\n",
    "\n",
    "joined_df = pd.DataFrame(join_query, columns=[\"total_clinics\", \"total_title10\", \"total_pp\", \"birth_rate\", \"year\"])\n",
    "#joined_df.set_index('state_name', inplace=True, )\n",
    "\n",
    "# See code above to change data types if needed\n",
    "# Drop NaN rows, which will mess with the ML\n",
    "joined_df = joined_df.dropna()\n",
    "joined_df.head()\n"
   ]
  },
  {
   "cell_type": "code",
   "execution_count": 14,
   "metadata": {},
   "outputs": [
    {
     "data": {
      "text/plain": [
       "(3135, 5)"
      ]
     },
     "execution_count": 14,
     "metadata": {},
     "output_type": "execute_result"
    }
   ],
   "source": [
    "joined_df.shape"
   ]
  },
  {
   "cell_type": "code",
   "execution_count": 17,
   "metadata": {},
   "outputs": [
    {
     "data": {
      "text/plain": [
       "array([2011])"
      ]
     },
     "execution_count": 17,
     "metadata": {},
     "output_type": "execute_result"
    }
   ],
   "source": [
    "joined_df[\"year\"].unique()"
   ]
  },
  {
   "cell_type": "markdown",
   "metadata": {},
   "source": [
    "## Prepping the Model Data"
   ]
  },
  {
   "cell_type": "code",
   "execution_count": 26,
   "metadata": {},
   "outputs": [
    {
     "name": "stdout",
     "output_type": "stream",
     "text": [
      "Shape:  (3135, 3) (3135,)\n"
     ]
    }
   ],
   "source": [
    "# Close the session from before\n",
    "session.close()\n",
    "\n",
    "# Assign the data to X and y\n",
    "# Note: Sklearn requires a two-dimensional array of values so we use reshape to create this\n",
    "\n",
    "X = joined_df[[\"total_clinics\", \"total_title10\", \"total_pp\"]]\n",
    "y = joined_df[\"birth_rate\"]\n",
    "\n",
    "print(\"Shape: \", X.shape, y.shape)"
   ]
  },
  {
   "cell_type": "code",
   "execution_count": 113,
   "metadata": {},
   "outputs": [
    {
     "data": {
      "text/plain": [
       "Text(0, 0.5, 'total_clinics')"
      ]
     },
     "execution_count": 113,
     "metadata": {},
     "output_type": "execute_result"
    },
    {
     "data": {
      "image/png": "[encoded data removed]",
      "text/plain": [
       "<Figure size 432x288 with 1 Axes>"
      ]
     },
     "metadata": {
      "needs_background": "light"
     },
     "output_type": "display_data"
    }
   ],
   "source": [
    "# Plot the data to see if a linear trend exists\n",
    "\n",
    "### BEGIN SOLUTION\n",
    "plt.scatter(X, y)\n",
    "plt.xlabel(column1)\n",
    "plt.ylabel(column2)\n",
    "### END SOLUTION"
   ]
  },
  {
   "cell_type": "code",
   "execution_count": 44,
   "metadata": {},
   "outputs": [],
   "source": [
    "# Use sklearn's `train_test_split` to split the data into training and testing\n",
    "# Keep in mind that our group may want to use the model on an entirely different table as well. \n",
    "\n",
    "from sklearn.model_selection import train_test_split # may not apply to all models\n",
    "\n",
    "### BEGIN SOLUTION \n",
    "\n",
    "X_train, X_test, y_train, y_test = train_test_split(X, y, random_state=42)\n",
    "\n",
    "### END SOLUTION"
   ]
  },
  {
   "cell_type": "markdown",
   "metadata": {},
   "source": [
    "## Linear Regression"
   ]
  },
  {
   "cell_type": "code",
   "execution_count": 45,
   "metadata": {},
   "outputs": [
    {
     "data": {
      "text/plain": [
       "RandomForestRegressor(max_depth=5, random_state=42)"
      ]
     },
     "execution_count": 45,
     "metadata": {},
     "output_type": "execute_result"
    }
   ],
   "source": [
    "# Create the model\n",
    "\n",
    "### BEGIN SOLUTION\n",
    "\n",
    "from sklearn.ensemble import RandomForestClassifier\n",
    "\n",
    "RandomForestRegressor(max_depth=5, random_state=42)\n",
    "\n",
    "### END SOLUTION"
   ]
  },
  {
   "cell_type": "code",
   "execution_count": 46,
   "metadata": {},
   "outputs": [
    {
     "data": {
      "text/plain": [
       "LinearRegression()"
      ]
     },
     "execution_count": 46,
     "metadata": {},
     "output_type": "execute_result"
    }
   ],
   "source": [
    "# Fit the model to the training data. \n",
    "\n",
    "### BEGIN SOLUTION\n",
    "\n",
    "model.fit(X_train, y_train)\n",
    "\n",
    "### END SOLUTION"
   ]
  },
  {
   "cell_type": "code",
   "execution_count": 47,
   "metadata": {},
   "outputs": [
    {
     "name": "stdout",
     "output_type": "stream",
     "text": [
      "Mean Squared Error (MSE): 316.6240848936112\n",
      "R-squared (R2 ): 0.028857594361791805\n"
     ]
    }
   ],
   "source": [
    "# Calculate the mean_squared_error and the r-squared value\n",
    "# for the testing data\n",
    "\n",
    "from sklearn.metrics import mean_squared_error, r2_score\n",
    "\n",
    "### BEGIN SOLUTION\n",
    "\n",
    "# Use our model to make predictions\n",
    "predicted = model.predict(X_test)\n",
    "\n",
    "# Score the predictions with mse and r2\n",
    "mse = mean_squared_error(y_test, predicted)\n",
    "r2 = r2_score(y_test, predicted)\n",
    "\n",
    "print(f\"Mean Squared Error (MSE): {mse}\")\n",
    "print(f\"R-squared (R2 ): {r2}\")\n",
    "\n",
    "### END SOLUTION"
   ]
  },
  {
   "cell_type": "code",
   "execution_count": 48,
   "metadata": {},
   "outputs": [
    {
     "data": {
      "text/plain": [
       "0.028857594361791805"
      ]
     },
     "execution_count": 48,
     "metadata": {},
     "output_type": "execute_result"
    }
   ],
   "source": [
    "# Call the `score` method on the model to show the r2 score\n",
    "\n",
    "### BEGIN SOLUTION\n",
    "model.score(X_test, y_test)\n",
    "### END SOLUTION"
   ]
  },
  {
   "cell_type": "markdown",
   "metadata": {},
   "source": [
    "## "
   ]
  },
  {
   "cell_type": "code",
   "execution_count": null,
   "metadata": {},
   "outputs": [],
   "source": []
  }
 ],
 "metadata": {
  "kernelspec": {
   "display_name": "Python 3",
   "language": "python",
   "name": "python3"
  },
  "language_info": {
   "codemirror_mode": {
    "name": "ipython",
    "version": 3
   },
   "file_extension": ".py",
   "mimetype": "text/x-python",
   "name": "python",
   "nbconvert_exporter": "python",
   "pygments_lexer": "ipython3",
   "version": "3.8.5"
  }
 },
 "nbformat": 4,
 "nbformat_minor": 4
}
