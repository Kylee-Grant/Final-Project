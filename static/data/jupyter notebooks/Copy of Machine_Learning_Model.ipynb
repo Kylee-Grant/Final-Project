{
 "cells": [
  {
   "cell_type": "code",
   "execution_count": 1,
   "metadata": {},
   "outputs": [],
   "source": [
    "import numpy as np\n",
    "import pandas as pd\n",
    "import csv\n",
    "\n",
    "import sqlite3\n",
    "\n",
    "from sqlalchemy.ext.automap import automap_base\n",
    "from sqlalchemy.orm import Session\n",
    "from sqlalchemy import create_engine\n",
    "\n",
    "# Setting engine for SQLite connection\n",
    "engine = create_engine(\"sqlite:///birthdata.sqlite\", echo=False)\n"
   ]
  },
  {
   "cell_type": "code",
   "execution_count": 42,
   "metadata": {},
   "outputs": [
    {
     "name": "stdout",
     "output_type": "stream",
     "text": [
      "['clinic2010_county', 'clinic2010_state', 'clinic2015_county', 'clinic2015_state', 'county', 'national', 'outcomes']\n"
     ]
    }
   ],
   "source": [
    "# Checking classes were made successfully: https://stackoverflow.com/questions/42946174/sqlalchemy-automap-not-generating-base-classes-table-name\n",
    "engine = create_engine(\"sqlite:///birthdata.sqlite\", echo=False)\n",
    "\n",
    "# Declare a Base using `automap_base()`\n",
    "Base = automap_base()\n",
    "\n",
    "# Use the Base class to reflect the database tables\n",
    "Base.prepare(engine, reflect=True)\n",
    "\n",
    "# Print all of the classes mapped to the Base\n",
    "print(Base.classes.keys())\n",
    "\n",
    "# Create a session\n",
    "session = Session(engine)\n"
   ]
  },
  {
   "cell_type": "code",
   "execution_count": 43,
   "metadata": {},
   "outputs": [],
   "source": [
    "# Assign the classes to variables\n",
    "County2015 = Base.classes.clinic2015_county\n",
    "State2015 = Base.classes.clinic2015_state\n",
    "County2010 = Base.classes.clinic2010_county\n",
    "State2010 = Base.classes.clinic2010_state\n",
    "Outcomes = Base.classes.outcomes\n",
    "County_births = Base.classes.county\n",
    "State_births = Base.classes.national"
   ]
  },
  {
   "cell_type": "code",
   "execution_count": 44,
   "metadata": {},
   "outputs": [
    {
     "data": {
      "text/plain": [
       "{'_sa_instance_state': <sqlalchemy.orm.state.InstanceState at 0x7fe53eba3af0>,\n",
       " 'fed_center': 1,\n",
       " 'other_clinic_client': 0,\n",
       " 'pp_tt': 0,\n",
       " 'dept_clinic': 1,\n",
       " 'total_client_tt': 870.0,\n",
       " 'other_clinic_tt': 0,\n",
       " 'hospital': 0,\n",
       " 'fed_client_tt': 0,\n",
       " 'index': 0,\n",
       " 'total_client': 1040.0,\n",
       " 'pp': 0,\n",
       " 'dept_clinic_client_tt': 870,\n",
       " 'fed_client': 170,\n",
       " 'state': 'Alabama',\n",
       " 'other_clinic': 0,\n",
       " 'hospital_client_tt': 0,\n",
       " 'fips': 1001,\n",
       " 'dept_clinic_client': 870,\n",
       " 'total_titleten': 1,\n",
       " 'pp_client_tt': 0,\n",
       " 'county': 'Autauga ',\n",
       " 'hospital_client': 0,\n",
       " 'fed_center_tt': 0,\n",
       " 'other_clinic_client_tt': 0,\n",
       " 'total_clinics': 2,\n",
       " 'pp_client': 0,\n",
       " 'dept_clinic_tt': 1,\n",
       " 'hospital_tt': 0}"
      ]
     },
     "execution_count": 44,
     "metadata": {},
     "output_type": "execute_result"
    }
   ],
   "source": [
    "selected = County2015\n",
    "\n",
    "# Display the row's columns and data in dictionary format\n",
    "first_row = session.query(selected).first()\n",
    "first_row.__dict__"
   ]
  },
  {
   "cell_type": "code",
   "execution_count": 45,
   "metadata": {},
   "outputs": [],
   "source": [
    "# querying sqlite\n",
    "\n",
    "join_query = session.query(County2015.fips, County2015.total_clinics, County2015.total_titleten, County2015.pp,\\\n",
    "                           County2015.dept_clinic, County2015.hospital, County2015.total_client_tt,\\\n",
    "                           County2015.pp_client, County2015.dept_clinic_tt, County2015.pp_tt,\\\n",
    "                           County2015.total_client, County2015.hospital_client, County_births.birth_rate,\\\n",
    "                           County_births.year, County_births.state, County_births.county)\\\n",
    "                    .join(County_births, County_births.combined_fips_code == County2015.fips)\\\n",
    "                    .filter(County_births.year==\"2016\")\n",
    "\n",
    "\n",
    "county_df = pd.DataFrame(join_query, columns=[\"FIPS\", \"total_clinics\", \"total_title10\", \"total_pp\", \"health_dept_clinics\", \n",
    "                                              \"hospitals\",\"title_10_clients\",\"pp_clients\", \"dept_clinic_title10\",\"pp_tt\",\n",
    "                                              \"total_clients\",\"hospital_client\",\"birth_rate\", \"year\", \"state\", \"county\"])\n",
    "\n",
    "# Drop NaN rows, which will mess with the ML\n",
    "county_df = county_df.dropna()"
   ]
  },
  {
   "cell_type": "code",
   "execution_count": 46,
   "metadata": {},
   "outputs": [],
   "source": [
    "session.close()"
   ]
  },
  {
   "cell_type": "code",
   "execution_count": 47,
   "metadata": {},
   "outputs": [
    {
     "data": {
      "text/html": [
       "<div>\n",
       "<style scoped>\n",
       "    .dataframe tbody tr th:only-of-type {\n",
       "        vertical-align: middle;\n",
       "    }\n",
       "\n",
       "    .dataframe tbody tr th {\n",
       "        vertical-align: top;\n",
       "    }\n",
       "\n",
       "    .dataframe thead th {\n",
       "        text-align: right;\n",
       "    }\n",
       "</style>\n",
       "<table border=\"1\" class=\"dataframe\">\n",
       "  <thead>\n",
       "    <tr style=\"text-align: right;\">\n",
       "      <th></th>\n",
       "      <th>FIPS</th>\n",
       "      <th>total_clinics</th>\n",
       "      <th>total_title10</th>\n",
       "      <th>total_pp</th>\n",
       "      <th>health_dept_clinics</th>\n",
       "      <th>hospitals</th>\n",
       "      <th>title_10_clients</th>\n",
       "      <th>pp_clients</th>\n",
       "      <th>dept_clinic_title10</th>\n",
       "      <th>pp_tt</th>\n",
       "      <th>total_clients</th>\n",
       "      <th>hospital_client</th>\n",
       "      <th>birth_rate</th>\n",
       "      <th>year</th>\n",
       "      <th>state</th>\n",
       "      <th>county</th>\n",
       "    </tr>\n",
       "  </thead>\n",
       "  <tbody>\n",
       "    <tr>\n",
       "      <th>0</th>\n",
       "      <td>1001</td>\n",
       "      <td>2</td>\n",
       "      <td>1</td>\n",
       "      <td>0</td>\n",
       "      <td>1</td>\n",
       "      <td>0</td>\n",
       "      <td>870.0</td>\n",
       "      <td>0</td>\n",
       "      <td>1</td>\n",
       "      <td>0</td>\n",
       "      <td>1040.0</td>\n",
       "      <td>0</td>\n",
       "      <td>23.1</td>\n",
       "      <td>2016</td>\n",
       "      <td>Alabama</td>\n",
       "      <td>Autauga</td>\n",
       "    </tr>\n",
       "    <tr>\n",
       "      <th>1</th>\n",
       "      <td>1003</td>\n",
       "      <td>6</td>\n",
       "      <td>2</td>\n",
       "      <td>0</td>\n",
       "      <td>2</td>\n",
       "      <td>0</td>\n",
       "      <td>990.0</td>\n",
       "      <td>0</td>\n",
       "      <td>2</td>\n",
       "      <td>0</td>\n",
       "      <td>2010.0</td>\n",
       "      <td>0</td>\n",
       "      <td>25.6</td>\n",
       "      <td>2016</td>\n",
       "      <td>Alabama</td>\n",
       "      <td>Baldwin</td>\n",
       "    </tr>\n",
       "    <tr>\n",
       "      <th>2</th>\n",
       "      <td>1005</td>\n",
       "      <td>3</td>\n",
       "      <td>2</td>\n",
       "      <td>0</td>\n",
       "      <td>2</td>\n",
       "      <td>0</td>\n",
       "      <td>900.0</td>\n",
       "      <td>0</td>\n",
       "      <td>2</td>\n",
       "      <td>0</td>\n",
       "      <td>940.0</td>\n",
       "      <td>0</td>\n",
       "      <td>36.6</td>\n",
       "      <td>2016</td>\n",
       "      <td>Alabama</td>\n",
       "      <td>Barbour</td>\n",
       "    </tr>\n",
       "    <tr>\n",
       "      <th>3</th>\n",
       "      <td>1007</td>\n",
       "      <td>5</td>\n",
       "      <td>1</td>\n",
       "      <td>0</td>\n",
       "      <td>1</td>\n",
       "      <td>0</td>\n",
       "      <td>510.0</td>\n",
       "      <td>0</td>\n",
       "      <td>1</td>\n",
       "      <td>0</td>\n",
       "      <td>710.0</td>\n",
       "      <td>0</td>\n",
       "      <td>36.5</td>\n",
       "      <td>2016</td>\n",
       "      <td>Alabama</td>\n",
       "      <td>Bibb</td>\n",
       "    </tr>\n",
       "    <tr>\n",
       "      <th>4</th>\n",
       "      <td>1009</td>\n",
       "      <td>2</td>\n",
       "      <td>1</td>\n",
       "      <td>0</td>\n",
       "      <td>1</td>\n",
       "      <td>0</td>\n",
       "      <td>1200.0</td>\n",
       "      <td>0</td>\n",
       "      <td>1</td>\n",
       "      <td>0</td>\n",
       "      <td>1290.0</td>\n",
       "      <td>0</td>\n",
       "      <td>30.6</td>\n",
       "      <td>2016</td>\n",
       "      <td>Alabama</td>\n",
       "      <td>Blount</td>\n",
       "    </tr>\n",
       "  </tbody>\n",
       "</table>\n",
       "</div>"
      ],
      "text/plain": [
       "   FIPS  total_clinics  total_title10  total_pp  health_dept_clinics  \\\n",
       "0  1001              2              1         0                    1   \n",
       "1  1003              6              2         0                    2   \n",
       "2  1005              3              2         0                    2   \n",
       "3  1007              5              1         0                    1   \n",
       "4  1009              2              1         0                    1   \n",
       "\n",
       "   hospitals  title_10_clients  pp_clients  dept_clinic_title10  pp_tt  \\\n",
       "0          0             870.0           0                    1      0   \n",
       "1          0             990.0           0                    2      0   \n",
       "2          0             900.0           0                    2      0   \n",
       "3          0             510.0           0                    1      0   \n",
       "4          0            1200.0           0                    1      0   \n",
       "\n",
       "   total_clients  hospital_client  birth_rate  year    state   county  \n",
       "0         1040.0                0        23.1  2016  Alabama  Autauga  \n",
       "1         2010.0                0        25.6  2016  Alabama  Baldwin  \n",
       "2          940.0                0        36.6  2016  Alabama  Barbour  \n",
       "3          710.0                0        36.5  2016  Alabama     Bibb  \n",
       "4         1290.0                0        30.6  2016  Alabama   Blount  "
      ]
     },
     "execution_count": 47,
     "metadata": {},
     "output_type": "execute_result"
    }
   ],
   "source": [
    "county_df.head()"
   ]
  },
  {
   "cell_type": "code",
   "execution_count": 48,
   "metadata": {},
   "outputs": [
    {
     "data": {
      "text/plain": [
       "(3100, 16)"
      ]
     },
     "execution_count": 48,
     "metadata": {},
     "output_type": "execute_result"
    }
   ],
   "source": [
    "county_df.shape"
   ]
  },
  {
   "cell_type": "code",
   "execution_count": 49,
   "metadata": {},
   "outputs": [
    {
     "data": {
      "text/plain": [
       "array([2016])"
      ]
     },
     "execution_count": 49,
     "metadata": {},
     "output_type": "execute_result"
    }
   ],
   "source": [
    "county_df[\"year\"].unique()"
   ]
  },
  {
   "cell_type": "code",
   "execution_count": 2,
   "metadata": {},
   "outputs": [
    {
     "data": {
      "text/html": [
       "<div>\n",
       "<style scoped>\n",
       "    .dataframe tbody tr th:only-of-type {\n",
       "        vertical-align: middle;\n",
       "    }\n",
       "\n",
       "    .dataframe tbody tr th {\n",
       "        vertical-align: top;\n",
       "    }\n",
       "\n",
       "    .dataframe thead th {\n",
       "        text-align: right;\n",
       "    }\n",
       "</style>\n",
       "<table border=\"1\" class=\"dataframe\">\n",
       "  <thead>\n",
       "    <tr style=\"text-align: right;\">\n",
       "      <th></th>\n",
       "      <th>state</th>\n",
       "      <th>county</th>\n",
       "      <th>2010_population</th>\n",
       "      <th>2015_population</th>\n",
       "    </tr>\n",
       "  </thead>\n",
       "  <tbody>\n",
       "    <tr>\n",
       "      <th>0</th>\n",
       "      <td>Iowa</td>\n",
       "      <td>Adair</td>\n",
       "      <td>7682</td>\n",
       "      <td>7145</td>\n",
       "    </tr>\n",
       "    <tr>\n",
       "      <th>1</th>\n",
       "      <td>Kentucky</td>\n",
       "      <td>Adair</td>\n",
       "      <td>18656</td>\n",
       "      <td>19162</td>\n",
       "    </tr>\n",
       "    <tr>\n",
       "      <th>2</th>\n",
       "      <td>Missouri</td>\n",
       "      <td>Adair</td>\n",
       "      <td>25607</td>\n",
       "      <td>25353</td>\n",
       "    </tr>\n",
       "    <tr>\n",
       "      <th>3</th>\n",
       "      <td>Oklahoma</td>\n",
       "      <td>Adair</td>\n",
       "      <td>22683</td>\n",
       "      <td>22259</td>\n",
       "    </tr>\n",
       "    <tr>\n",
       "      <th>4</th>\n",
       "      <td>Colorado</td>\n",
       "      <td>Adams</td>\n",
       "      <td>441603</td>\n",
       "      <td>490443</td>\n",
       "    </tr>\n",
       "    <tr>\n",
       "      <th>...</th>\n",
       "      <td>...</td>\n",
       "      <td>...</td>\n",
       "      <td>...</td>\n",
       "      <td>...</td>\n",
       "    </tr>\n",
       "    <tr>\n",
       "      <th>3136</th>\n",
       "      <td>California</td>\n",
       "      <td>Yuba</td>\n",
       "      <td>72155</td>\n",
       "      <td>74045</td>\n",
       "    </tr>\n",
       "    <tr>\n",
       "      <th>3137</th>\n",
       "      <td>Alaska</td>\n",
       "      <td>Yukon-Koyukuk</td>\n",
       "      <td>5588</td>\n",
       "      <td>5465</td>\n",
       "    </tr>\n",
       "    <tr>\n",
       "      <th>3138</th>\n",
       "      <td>Texas</td>\n",
       "      <td>Zapata</td>\n",
       "      <td>14018</td>\n",
       "      <td>14493</td>\n",
       "    </tr>\n",
       "    <tr>\n",
       "      <th>3139</th>\n",
       "      <td>Texas</td>\n",
       "      <td>Zavala</td>\n",
       "      <td>11677</td>\n",
       "      <td>12310</td>\n",
       "    </tr>\n",
       "    <tr>\n",
       "      <th>3140</th>\n",
       "      <td>South Dakota</td>\n",
       "      <td>Ziebach</td>\n",
       "      <td>2801</td>\n",
       "      <td>2837</td>\n",
       "    </tr>\n",
       "  </tbody>\n",
       "</table>\n",
       "<p>3141 rows × 4 columns</p>\n",
       "</div>"
      ],
      "text/plain": [
       "             state         county  2010_population  2015_population\n",
       "0             Iowa          Adair             7682             7145\n",
       "1         Kentucky          Adair            18656            19162\n",
       "2         Missouri          Adair            25607            25353\n",
       "3         Oklahoma          Adair            22683            22259\n",
       "4         Colorado          Adams           441603           490443\n",
       "...            ...            ...              ...              ...\n",
       "3136    California           Yuba            72155            74045\n",
       "3137        Alaska  Yukon-Koyukuk             5588             5465\n",
       "3138         Texas         Zapata            14018            14493\n",
       "3139         Texas         Zavala            11677            12310\n",
       "3140  South Dakota        Ziebach             2801             2837\n",
       "\n",
       "[3141 rows x 4 columns]"
      ]
     },
     "execution_count": 2,
     "metadata": {},
     "output_type": "execute_result"
    }
   ],
   "source": [
    "# adding population and SVI data\n",
    "\n",
    "county_populations = pd.read_csv(\"county_populations.csv\", encoding='latin-1')\n",
    "county_populations"
   ]
  },
  {
   "cell_type": "code",
   "execution_count": 51,
   "metadata": {},
   "outputs": [],
   "source": [
    "county_df = county_df.merge(county_populations, how='left', on=[\"state\",\"county\"])"
   ]
  },
  {
   "cell_type": "code",
   "execution_count": 52,
   "metadata": {},
   "outputs": [],
   "source": [
    "county_SVI = pd.read_csv(\"2016_SVI_extract.csv\")\n",
    "county_SVI=county_SVI.drop(columns=[\"state\",\"county\"])"
   ]
  },
  {
   "cell_type": "code",
   "execution_count": 53,
   "metadata": {},
   "outputs": [],
   "source": [
    "county_df=county_df.merge(county_SVI, how='left', on=\"FIPS\")"
   ]
  },
  {
   "cell_type": "code",
   "execution_count": 55,
   "metadata": {},
   "outputs": [],
   "source": [
    "# transforming data to a per capita basis\n",
    "\n",
    "county_df[\"clinics_per_capita\"] = county_df[\"total_clinics\"]/county_df[\"2015_population\"]\n",
    "county_df[\"title10_clinics_per_capita\"] = county_df[\"total_title10\"]/county_df[\"2015_population\"]\n",
    "county_df[\"pp_per_capita\"] = county_df[\"total_pp\"]/county_df[\"2015_population\"]\n",
    "county_df[\"health_dept_per_capita\"] = county_df['health_dept_clinics']/county_df[\"2015_population\"]\n",
    "county_df[\"hospitals_per_capita\"] = county_df['hospitals']/county_df[\"2015_population\"]\n",
    "county_df[\"title_10_clients_per_capita\"] = county_df[\"title_10_clients\"]/county_df[\"2015_population\"]\n",
    "county_df[\"pp_clients_per_capita\"] = county_df['pp_clients']/county_df[\"2015_population\"]\n",
    "county_df[\"dept_clinic_title10_per_capita\"] = county_df['dept_clinic_title10']/county_df[\"2015_population\"]"
   ]
  },
  {
   "cell_type": "code",
   "execution_count": 56,
   "metadata": {},
   "outputs": [
    {
     "data": {
      "text/plain": [
       "(3071, 29)"
      ]
     },
     "execution_count": 56,
     "metadata": {},
     "output_type": "execute_result"
    }
   ],
   "source": [
    "county_df = county_df.dropna()\n",
    "county_df.shape"
   ]
  },
  {
   "cell_type": "code",
   "execution_count": 57,
   "metadata": {},
   "outputs": [
    {
     "data": {
      "text/plain": [
       "Index(['FIPS', 'total_clinics', 'total_title10', 'total_pp',\n",
       "       'health_dept_clinics', 'hospitals', 'title_10_clients', 'pp_clients',\n",
       "       'dept_clinic_title10', 'pp_tt', 'total_clients', 'hospital_client',\n",
       "       'birth_rate', 'year', 'state', 'county', '2010_population',\n",
       "       '2015_population', 'SVI_sum_of_indicators', 'SVI_ranking',\n",
       "       'percent_uninsured', 'clinics_per_capita', 'title10_clinics_per_capita',\n",
       "       'pp_per_capita', 'health_dept_per_capita', 'hospitals_per_capita',\n",
       "       'title_10_clients_per_capita', 'pp_clients_per_capita',\n",
       "       'dept_clinic_title10_per_capita'],\n",
       "      dtype='object')"
      ]
     },
     "execution_count": 57,
     "metadata": {},
     "output_type": "execute_result"
    }
   ],
   "source": [
    "county_df.columns"
   ]
  },
  {
   "cell_type": "code",
   "execution_count": 58,
   "metadata": {},
   "outputs": [
    {
     "name": "stdout",
     "output_type": "stream",
     "text": [
      "Shape:  (3071, 10) (3071,)\n"
     ]
    }
   ],
   "source": [
    "# prepping the model\n",
    "\n",
    "X = county_df[['clinics_per_capita',\n",
    "       'title10_clinics_per_capita', 'pp_per_capita', 'health_dept_per_capita',\n",
    "       'hospitals_per_capita', 'title_10_clients_per_capita',\n",
    "       'pp_clients_per_capita', 'dept_clinic_title10_per_capita','percent_uninsured','SVI_sum_of_indicators']]\n",
    "y = county_df[\"birth_rate\"]\n",
    "\n",
    "feature_names = ['clinics_per_capita',\n",
    "       'title10_clinics_per_capita', 'pp_per_capita', 'health_dept_per_capita',\n",
    "       'hospitals_per_capita', 'title_10_clients_per_capita',\n",
    "       'pp_clients_per_capita', 'dept_clinic_title10_per_capita','percent_uninsured','SVI_sum_of_indicators']\n",
    "\n",
    "print(\"Shape: \", X.shape, y.shape)"
   ]
  },
  {
   "cell_type": "code",
   "execution_count": 59,
   "metadata": {},
   "outputs": [],
   "source": [
    "# train test split\n",
    "\n",
    "from sklearn.model_selection import train_test_split # may not apply to all models\n",
    "\n",
    "\n",
    "X_train, X_test, y_train, y_test = train_test_split(X, y, random_state=1)"
   ]
  },
  {
   "cell_type": "code",
   "execution_count": 60,
   "metadata": {},
   "outputs": [],
   "source": [
    "# create base model\n",
    "\n",
    "from sklearn.ensemble import RandomForestRegressor\n",
    "\n",
    "base_model = RandomForestRegressor(max_depth=7, n_estimators=100, random_state=1)"
   ]
  },
  {
   "cell_type": "code",
   "execution_count": 61,
   "metadata": {},
   "outputs": [
    {
     "data": {
      "text/plain": [
       "RandomForestRegressor(max_depth=7, random_state=1)"
      ]
     },
     "execution_count": 61,
     "metadata": {},
     "output_type": "execute_result"
    }
   ],
   "source": [
    "base_model.fit(X_train, y_train)"
   ]
  },
  {
   "cell_type": "code",
   "execution_count": 62,
   "metadata": {},
   "outputs": [
    {
     "name": "stdout",
     "output_type": "stream",
     "text": [
      "Mean Squared Error (MSE): 81.95427809246755\n",
      "R-squared (R2 ): 0.5053740044409091\n"
     ]
    }
   ],
   "source": [
    "from sklearn.metrics import mean_squared_error, r2_score\n",
    "\n",
    "# Use our model to make predictions\n",
    "base_model_predicted = base_model.predict(X_test)\n",
    "\n",
    "# Score the predictions with mse and r2\n",
    "mse = mean_squared_error(y_test, base_model_predicted)\n",
    "r2 = r2_score(y_test, base_model_predicted)\n",
    "\n",
    "print(f\"Mean Squared Error (MSE): {mse}\")\n",
    "print(f\"R-squared (R2 ): {r2}\")"
   ]
  },
  {
   "cell_type": "code",
   "execution_count": 63,
   "metadata": {},
   "outputs": [
    {
     "data": {
      "text/plain": [
       "[(0.7023997185548906, 'SVI_sum_of_indicators'),\n",
       " (0.09968606609982379, 'percent_uninsured'),\n",
       " (0.04802607734822058, 'pp_clients_per_capita'),\n",
       " (0.033695275236732776, 'pp_per_capita'),\n",
       " (0.03125840246242696, 'clinics_per_capita'),\n",
       " (0.021647816730657146, 'health_dept_per_capita'),\n",
       " (0.021457949270325172, 'title10_clinics_per_capita'),\n",
       " (0.0209969622034526, 'title_10_clients_per_capita'),\n",
       " (0.017878148764163024, 'dept_clinic_title10_per_capita'),\n",
       " (0.002953583329307376, 'hospitals_per_capita')]"
      ]
     },
     "execution_count": 63,
     "metadata": {},
     "output_type": "execute_result"
    }
   ],
   "source": [
    "sorted(zip(base_model.feature_importances_, feature_names), reverse=True)"
   ]
  },
  {
   "cell_type": "code",
   "execution_count": 64,
   "metadata": {},
   "outputs": [],
   "source": [
    "# gridsearch with random forest: https://towardsdatascience.com/hyperparameter-tuning-the-random-forest-in-python-using-scikit-learn-28d2aa77dd74a77dd74\n",
    "\n",
    "# start with a randomized search to narrow down the field\n",
    "\n",
    "from sklearn.model_selection import RandomizedSearchCV\n",
    "\n",
    "params = {'bootstrap': [True, False],\n",
    "         'max_depth': [3,5,10,20,50, None],\n",
    "         'max_features': ['auto', 'sqrt'],\n",
    "         'min_samples_leaf': [1, 2, 4],\n",
    "         'min_samples_split': [2, 5, 10],\n",
    "         'n_estimators': [100,200, 400, 600, 800, 1000, 1250, 1500, 2000]}\n",
    "\n",
    "rf_random = RandomizedSearchCV(estimator = RandomForestRegressor(), param_distributions = params, n_iter = 100, cv = 3, verbose=2, random_state=42, n_jobs = -1)"
   ]
  },
  {
   "cell_type": "code",
   "execution_count": 65,
   "metadata": {},
   "outputs": [
    {
     "name": "stdout",
     "output_type": "stream",
     "text": [
      "Fitting 3 folds for each of 100 candidates, totalling 300 fits\n"
     ]
    },
    {
     "name": "stderr",
     "output_type": "stream",
     "text": [
      "[Parallel(n_jobs=-1)]: Using backend LokyBackend with 8 concurrent workers.\n",
      "[Parallel(n_jobs=-1)]: Done  25 tasks      | elapsed:   33.0s\n",
      "[Parallel(n_jobs=-1)]: Done 146 tasks      | elapsed:  2.3min\n",
      "[Parallel(n_jobs=-1)]: Done 300 out of 300 | elapsed:  4.4min finished\n"
     ]
    },
    {
     "data": {
      "text/plain": [
       "RandomizedSearchCV(cv=3, estimator=RandomForestRegressor(), n_iter=100,\n",
       "                   n_jobs=-1,\n",
       "                   param_distributions={'bootstrap': [True, False],\n",
       "                                        'max_depth': [3, 5, 10, 20, 50, None],\n",
       "                                        'max_features': ['auto', 'sqrt'],\n",
       "                                        'min_samples_leaf': [1, 2, 4],\n",
       "                                        'min_samples_split': [2, 5, 10],\n",
       "                                        'n_estimators': [100, 200, 400, 600,\n",
       "                                                         800, 1000, 1250, 1500,\n",
       "                                                         2000]},\n",
       "                   random_state=42, verbose=2)"
      ]
     },
     "execution_count": 65,
     "metadata": {},
     "output_type": "execute_result"
    }
   ],
   "source": [
    "rf_random.fit(X_train, y_train)"
   ]
  },
  {
   "cell_type": "code",
   "execution_count": 66,
   "metadata": {},
   "outputs": [
    {
     "data": {
      "text/plain": [
       "{'n_estimators': 2000,\n",
       " 'min_samples_split': 10,\n",
       " 'min_samples_leaf': 4,\n",
       " 'max_features': 'sqrt',\n",
       " 'max_depth': 10,\n",
       " 'bootstrap': True}"
      ]
     },
     "execution_count": 66,
     "metadata": {},
     "output_type": "execute_result"
    }
   ],
   "source": [
    "rf_random.best_params_"
   ]
  },
  {
   "cell_type": "code",
   "execution_count": 67,
   "metadata": {},
   "outputs": [],
   "source": [
    "random_tuned_model = rf_random.best_estimator_"
   ]
  },
  {
   "cell_type": "code",
   "execution_count": 68,
   "metadata": {},
   "outputs": [
    {
     "name": "stdout",
     "output_type": "stream",
     "text": [
      "Mean Squared Error (MSE): 78.19723176946061\n",
      "R-squared (R2 ): 0.528049242648513\n"
     ]
    }
   ],
   "source": [
    "random_tuned_predictions = random_tuned_model.predict(X_test)\n",
    "\n",
    "# Score the predictions with mse and r2\n",
    "mse = mean_squared_error(y_test, random_tuned_predictions)\n",
    "r2 = r2_score(y_test, random_tuned_predictions)\n",
    "\n",
    "print(f\"Mean Squared Error (MSE): {mse}\")\n",
    "print(f\"R-squared (R2 ): {r2}\")\n"
   ]
  },
  {
   "cell_type": "code",
   "execution_count": 74,
   "metadata": {},
   "outputs": [],
   "source": [
    "# grid search based on best parameters from random search\n",
    "\n",
    "from sklearn.model_selection import GridSearchCV\n",
    "\n",
    "params = {'bootstrap': [True],\n",
    "         'max_depth': [8,10,15],\n",
    "         'max_features': ['sqrt'],\n",
    "         'min_samples_leaf': [3, 4, 6],\n",
    "         'min_samples_split': [8,10,20],\n",
    "         'n_estimators': [1500,2000,3000]}\n",
    "\n",
    "rf_grid = GridSearchCV(estimator = RandomForestRegressor(), param_grid = params, cv = 3, n_jobs = -1, verbose = 2)"
   ]
  },
  {
   "cell_type": "code",
   "execution_count": 75,
   "metadata": {},
   "outputs": [
    {
     "name": "stdout",
     "output_type": "stream",
     "text": [
      "Fitting 3 folds for each of 81 candidates, totalling 243 fits\n"
     ]
    },
    {
     "name": "stderr",
     "output_type": "stream",
     "text": [
      "[Parallel(n_jobs=-1)]: Using backend LokyBackend with 8 concurrent workers.\n",
      "[Parallel(n_jobs=-1)]: Done  25 tasks      | elapsed:   30.8s\n",
      "[Parallel(n_jobs=-1)]: Done 146 tasks      | elapsed:  2.7min\n",
      "[Parallel(n_jobs=-1)]: Done 243 out of 243 | elapsed:  4.3min finished\n"
     ]
    },
    {
     "data": {
      "text/plain": [
       "GridSearchCV(cv=3, estimator=RandomForestRegressor(), n_jobs=-1,\n",
       "             param_grid={'bootstrap': [True], 'max_depth': [8, 10, 15],\n",
       "                         'max_features': ['sqrt'],\n",
       "                         'min_samples_leaf': [3, 4, 6],\n",
       "                         'min_samples_split': [8, 10, 20],\n",
       "                         'n_estimators': [1500, 2000, 3000]},\n",
       "             verbose=2)"
      ]
     },
     "execution_count": 75,
     "metadata": {},
     "output_type": "execute_result"
    }
   ],
   "source": [
    "rf_grid.fit(X_train, y_train)"
   ]
  },
  {
   "cell_type": "code",
   "execution_count": 78,
   "metadata": {},
   "outputs": [
    {
     "data": {
      "text/plain": [
       "{'bootstrap': True,\n",
       " 'max_depth': 8,\n",
       " 'max_features': 'sqrt',\n",
       " 'min_samples_leaf': 3,\n",
       " 'min_samples_split': 10,\n",
       " 'n_estimators': 1500}"
      ]
     },
     "execution_count": 78,
     "metadata": {},
     "output_type": "execute_result"
    }
   ],
   "source": [
    "rf_grid.best_params_"
   ]
  },
  {
   "cell_type": "code",
   "execution_count": 79,
   "metadata": {},
   "outputs": [],
   "source": [
    "grid_tuned_model = rf_grid.best_estimator_"
   ]
  },
  {
   "cell_type": "code",
   "execution_count": 80,
   "metadata": {},
   "outputs": [
    {
     "name": "stdout",
     "output_type": "stream",
     "text": [
      "Mean Squared Error (MSE): 78.61278744209343\n",
      "R-squared (R2 ): 0.5255412022744118\n"
     ]
    }
   ],
   "source": [
    "grid_tuned_predictions = grid_tuned_model.predict(X_test)\n",
    "\n",
    "# Score the predictions with mse and r2\n",
    "mse = mean_squared_error(y_test, grid_tuned_predictions)\n",
    "r2 = r2_score(y_test, grid_tuned_predictions)\n",
    "\n",
    "print(f\"Mean Squared Error (MSE): {mse}\")\n",
    "print(f\"R-squared (R2 ): {r2}\")"
   ]
  },
  {
   "cell_type": "code",
   "execution_count": 81,
   "metadata": {},
   "outputs": [],
   "source": [
    "# at this point we're not getting much benefit from continued tuning\n",
    "\n",
    "final_model=grid_tuned_model"
   ]
  },
  {
   "cell_type": "code",
   "execution_count": 82,
   "metadata": {},
   "outputs": [
    {
     "data": {
      "text/plain": [
       "[(0.4561716889778693, 'SVI_sum_of_indicators'),\n",
       " (0.2500410024861704, 'percent_uninsured'),\n",
       " (0.06558019560976627, 'clinics_per_capita'),\n",
       " (0.06520519725046772, 'health_dept_per_capita'),\n",
       " (0.036796023389452176, 'title10_clinics_per_capita'),\n",
       " (0.03587723852244998, 'dept_clinic_title10_per_capita'),\n",
       " (0.03196288983171379, 'title_10_clients_per_capita'),\n",
       " (0.02827097278364375, 'pp_clients_per_capita'),\n",
       " (0.02594190191801612, 'pp_per_capita'),\n",
       " (0.004152889230450313, 'hospitals_per_capita')]"
      ]
     },
     "execution_count": 82,
     "metadata": {},
     "output_type": "execute_result"
    }
   ],
   "source": [
    "# feature importance\n",
    "\n",
    "sorted(zip(final_model.feature_importances_, feature_names), reverse=True)"
   ]
  },
  {
   "cell_type": "code",
   "execution_count": null,
   "metadata": {},
   "outputs": [],
   "source": [
    "# final model is ready to pickle!"
   ]
  }
 ],
 "metadata": {
  "kernelspec": {
   "display_name": "Python 3",
   "language": "python",
   "name": "python3"
  },
  "language_info": {
   "codemirror_mode": {
    "name": "ipython",
    "version": 3
   },
   "file_extension": ".py",
   "mimetype": "text/x-python",
   "name": "python",
   "nbconvert_exporter": "python",
   "pygments_lexer": "ipython3",
   "version": "3.8.3"
  }
 },
 "nbformat": 4,
 "nbformat_minor": 4
}
