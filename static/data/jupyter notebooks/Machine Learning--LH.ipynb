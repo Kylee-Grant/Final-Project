{
 "cells": [
  {
   "cell_type": "code",
   "execution_count": 219,
   "metadata": {},
   "outputs": [],
   "source": [
    "# Import dependencies\n",
    "%matplotlib inline\n",
    "import matplotlib.pyplot as plt\n",
    "import numpy as np\n",
    "import pandas as pd\n",
    "\n",
    "import sqlite3\n",
    "\n",
    "from sqlalchemy.ext.automap import automap_base\n",
    "from sqlalchemy.orm import Session\n",
    "from sqlalchemy import create_engine\n",
    "\n",
    "# Setting engine for SQLite connection\n",
    "engine = create_engine(\"sqlite:///birthdata.sqlite\", echo=False)\n"
   ]
  },
  {
   "cell_type": "markdown",
   "metadata": {},
   "source": [
    "## Starting SQLite Connection"
   ]
  },
  {
   "cell_type": "code",
   "execution_count": 220,
   "metadata": {},
   "outputs": [
    {
     "name": "stdout",
     "output_type": "stream",
     "text": [
      "['clinic2010_county', 'clinic2010_state', 'clinic2015_county', 'clinic2015_state', 'county', 'national', 'outcomes']\n"
     ]
    }
   ],
   "source": [
    "# Checking classes were made successfully: https://stackoverflow.com/questions/42946174/sqlalchemy-automap-not-generating-base-classes-table-name\n",
    "engine = create_engine(\"sqlite:///birthdata.sqlite\", echo=False)\n",
    "\n",
    "# Declare a Base using `automap_base()`\n",
    "Base = automap_base()\n",
    "\n",
    "# Use the Base class to reflect the database tables\n",
    "Base.prepare(engine, reflect=True)\n",
    "\n",
    "# Print all of the classes mapped to the Base\n",
    "print(Base.classes.keys())\n",
    "\n",
    "# Create a session\n",
    "session = Session(engine)\n"
   ]
  },
  {
   "cell_type": "markdown",
   "metadata": {},
   "source": [
    "### Naming Classes"
   ]
  },
  {
   "cell_type": "code",
   "execution_count": 221,
   "metadata": {},
   "outputs": [],
   "source": [
    "# Assign the classes to variables\n",
    "County2015 = Base.classes.clinic2015_county\n",
    "State2015 = Base.classes.clinic2015_state\n",
    "County2010 = Base.classes.clinic2010_county\n",
    "State2010 = Base.classes.clinic2010_state\n",
    "Outcomes = Base.classes.outcomes\n",
    "County_births = Base.classes.county\n",
    "State_births = Base.classes.national"
   ]
  },
  {
   "cell_type": "markdown",
   "metadata": {},
   "source": [
    "## 1 Table Approach"
   ]
  },
  {
   "cell_type": "markdown",
   "metadata": {},
   "source": [
    "### Selecting 1 Table for Modeling"
   ]
  },
  {
   "cell_type": "code",
   "execution_count": 278,
   "metadata": {},
   "outputs": [
    {
     "data": {
      "text/plain": [
       "{'_sa_instance_state': <sqlalchemy.orm.state.InstanceState at 0x7fd6dd434310>,\n",
       " 'state': 'Alabama',\n",
       " 'dept_clinic_tt': 1,\n",
       " 'fed_center': 1,\n",
       " 'other_clinic_client': 0,\n",
       " 'hospital_tt': 0,\n",
       " 'dept_clinic': 1,\n",
       " 'total_client_tt': 870.0,\n",
       " 'fips': 1001,\n",
       " 'pp_tt': 0,\n",
       " 'hospital': 0,\n",
       " 'fed_client_tt': 0,\n",
       " 'other_clinic_tt': 0,\n",
       " 'pp': 0,\n",
       " 'dept_clinic_client_tt': 870,\n",
       " 'county': 'Autauga ',\n",
       " 'total_client': 1040.0,\n",
       " 'other_clinic': 0,\n",
       " 'hospital_client_tt': 0,\n",
       " 'fed_client': 170,\n",
       " 'total_titleten': 1,\n",
       " 'pp_client_tt': 0,\n",
       " 'dept_clinic_client': 870,\n",
       " 'index': 0,\n",
       " 'fed_center_tt': 0,\n",
       " 'other_clinic_client_tt': 0,\n",
       " 'hospital_client': 0,\n",
       " 'pp_client': 0,\n",
       " 'total_clinics': 2}"
      ]
     },
     "execution_count": 278,
     "metadata": {},
     "output_type": "execute_result"
    }
   ],
   "source": [
    "# Switch out \"selected\" with the table of interest \n",
    "selected = County2015\n",
    "\n",
    "# Display the row's columns and data in dictionary format\n",
    "first_row = session.query(selected).first()\n",
    "first_row.__dict__\n"
   ]
  },
  {
   "cell_type": "code",
   "execution_count": 134,
   "metadata": {},
   "outputs": [
    {
     "data": {
      "text/plain": [
       "{'_sa_instance_state': <sqlalchemy.orm.state.InstanceState at 0x7fd2d5391dc0>,\n",
       " 'combined_fips_code': '1001',\n",
       " 'state_fips_code': '01',\n",
       " 'state': 'Alabama',\n",
       " 'index': 0,\n",
       " 'upper_confidence_limit': 55.2,\n",
       " 'birth_rate': 48.4,\n",
       " 'county_fips_code': '1',\n",
       " 'county': 'Autauga',\n",
       " 'year': 2003,\n",
       " 'lower_confidence_limit': 42.1}"
      ]
     },
     "execution_count": 134,
     "metadata": {},
     "output_type": "execute_result"
    }
   ],
   "source": [
    "first_row = session.query(County_births).first()\n",
    "first_row.__dict__"
   ]
  },
  {
   "cell_type": "markdown",
   "metadata": {},
   "source": [
    "### Getting Query Results from 1 Table"
   ]
  },
  {
   "cell_type": "code",
   "execution_count": 4,
   "metadata": {},
   "outputs": [],
   "source": [
    "# https://www.census.gov/data/tables/time-series/demo/popest/2010s-state-total.html#par_textimage_1574439295\n",
    "\n",
    "import csv\n"
   ]
  },
  {
   "cell_type": "code",
   "execution_count": 6,
   "metadata": {},
   "outputs": [
    {
     "data": {
      "text/html": [
       "<div>\n",
       "<style scoped>\n",
       "    .dataframe tbody tr th:only-of-type {\n",
       "        vertical-align: middle;\n",
       "    }\n",
       "\n",
       "    .dataframe tbody tr th {\n",
       "        vertical-align: top;\n",
       "    }\n",
       "\n",
       "    .dataframe thead th {\n",
       "        text-align: right;\n",
       "    }\n",
       "</style>\n",
       "<table border=\"1\" class=\"dataframe\">\n",
       "  <thead>\n",
       "    <tr style=\"text-align: right;\">\n",
       "      <th></th>\n",
       "      <th>state</th>\n",
       "      <th>2010_population</th>\n",
       "      <th>2015_population</th>\n",
       "    </tr>\n",
       "  </thead>\n",
       "  <tbody>\n",
       "    <tr>\n",
       "      <th>0</th>\n",
       "      <td>United States</td>\n",
       "      <td>309321666</td>\n",
       "      <td>320635163</td>\n",
       "    </tr>\n",
       "    <tr>\n",
       "      <th>1</th>\n",
       "      <td>Alabama</td>\n",
       "      <td>4785437</td>\n",
       "      <td>4852347</td>\n",
       "    </tr>\n",
       "    <tr>\n",
       "      <th>2</th>\n",
       "      <td>Alaska</td>\n",
       "      <td>713910</td>\n",
       "      <td>737498</td>\n",
       "    </tr>\n",
       "    <tr>\n",
       "      <th>3</th>\n",
       "      <td>Arizona</td>\n",
       "      <td>6407172</td>\n",
       "      <td>6829676</td>\n",
       "    </tr>\n",
       "    <tr>\n",
       "      <th>4</th>\n",
       "      <td>Arkansas</td>\n",
       "      <td>2921964</td>\n",
       "      <td>2978048</td>\n",
       "    </tr>\n",
       "  </tbody>\n",
       "</table>\n",
       "</div>"
      ],
      "text/plain": [
       "           state  2010_population  2015_population\n",
       "0  United States        309321666        320635163\n",
       "1        Alabama          4785437          4852347\n",
       "2         Alaska           713910           737498\n",
       "3        Arizona          6407172          6829676\n",
       "4       Arkansas          2921964          2978048"
      ]
     },
     "execution_count": 6,
     "metadata": {},
     "output_type": "execute_result"
    }
   ],
   "source": [
    "state_populations.head()"
   ]
  },
  {
   "cell_type": "code",
   "execution_count": 7,
   "metadata": {},
   "outputs": [
    {
     "data": {
      "text/plain": [
       "state              object\n",
       "2010_population     int64\n",
       "2015_population     int64\n",
       "dtype: object"
      ]
     },
     "execution_count": 7,
     "metadata": {},
     "output_type": "execute_result"
    }
   ],
   "source": [
    "state_populations.dtypes"
   ]
  },
  {
   "cell_type": "code",
   "execution_count": 8,
   "metadata": {},
   "outputs": [],
   "source": [
    "state_expenditures = pd.read_csv(\"family_planning_expenditures.csv\", header=0, names=[\"state\", \"MCH block grant\", \"Medicaid_spending\", \"SSBG and TANF\", \"Title10_spending\", \"state appropriations\", \"total_spending\"])"
   ]
  },
  {
   "cell_type": "code",
   "execution_count": 9,
   "metadata": {},
   "outputs": [
    {
     "data": {
      "text/plain": [
       "state                   object\n",
       "MCH block grant         object\n",
       "Medicaid_spending        int64\n",
       "SSBG and TANF           object\n",
       "Title10_spending         int64\n",
       "state appropriations    object\n",
       "total_spending           int64\n",
       "dtype: object"
      ]
     },
     "execution_count": 9,
     "metadata": {},
     "output_type": "execute_result"
    }
   ],
   "source": [
    "state_expenditures.dtypes"
   ]
  },
  {
   "cell_type": "code",
   "execution_count": 10,
   "metadata": {},
   "outputs": [],
   "source": [
    "state_expenditures = state_expenditures[[\"state\",\"Medicaid_spending\", \"Title10_spending\",\"total_spending\"]]\n"
   ]
  },
  {
   "cell_type": "code",
   "execution_count": 11,
   "metadata": {},
   "outputs": [
    {
     "data": {
      "text/html": [
       "<div>\n",
       "<style scoped>\n",
       "    .dataframe tbody tr th:only-of-type {\n",
       "        vertical-align: middle;\n",
       "    }\n",
       "\n",
       "    .dataframe tbody tr th {\n",
       "        vertical-align: top;\n",
       "    }\n",
       "\n",
       "    .dataframe thead th {\n",
       "        text-align: right;\n",
       "    }\n",
       "</style>\n",
       "<table border=\"1\" class=\"dataframe\">\n",
       "  <thead>\n",
       "    <tr style=\"text-align: right;\">\n",
       "      <th></th>\n",
       "      <th>state</th>\n",
       "      <th>Medicaid_spending</th>\n",
       "      <th>Title10_spending</th>\n",
       "      <th>total_spending</th>\n",
       "    </tr>\n",
       "  </thead>\n",
       "  <tbody>\n",
       "    <tr>\n",
       "      <th>0</th>\n",
       "      <td>Alabama</td>\n",
       "      <td>58362</td>\n",
       "      <td>58362</td>\n",
       "      <td>69742</td>\n",
       "    </tr>\n",
       "    <tr>\n",
       "      <th>1</th>\n",
       "      <td>Alaska</td>\n",
       "      <td>2812</td>\n",
       "      <td>2812</td>\n",
       "      <td>10158</td>\n",
       "    </tr>\n",
       "    <tr>\n",
       "      <th>2</th>\n",
       "      <td>Arizona</td>\n",
       "      <td>52006</td>\n",
       "      <td>52006</td>\n",
       "      <td>57560</td>\n",
       "    </tr>\n",
       "    <tr>\n",
       "      <th>3</th>\n",
       "      <td>Arkansas</td>\n",
       "      <td>6899</td>\n",
       "      <td>6899</td>\n",
       "      <td>11397</td>\n",
       "    </tr>\n",
       "    <tr>\n",
       "      <th>4</th>\n",
       "      <td>California</td>\n",
       "      <td>438559</td>\n",
       "      <td>438559</td>\n",
       "      <td>454706</td>\n",
       "    </tr>\n",
       "  </tbody>\n",
       "</table>\n",
       "</div>"
      ],
      "text/plain": [
       "        state  Medicaid_spending  Title10_spending  total_spending\n",
       "0     Alabama              58362             58362           69742\n",
       "1      Alaska               2812              2812           10158\n",
       "2     Arizona              52006             52006           57560\n",
       "3    Arkansas               6899              6899           11397\n",
       "4  California             438559            438559          454706"
      ]
     },
     "execution_count": 11,
     "metadata": {},
     "output_type": "execute_result"
    }
   ],
   "source": [
    "state_expenditures.head()"
   ]
  },
  {
   "cell_type": "code",
   "execution_count": 275,
   "metadata": {},
   "outputs": [],
   "source": [
    "county_populations = pd.read_csv(\"county_populations.csv\", encoding='latin-1')"
   ]
  },
  {
   "cell_type": "code",
   "execution_count": 276,
   "metadata": {},
   "outputs": [
    {
     "data": {
      "text/html": [
       "<div>\n",
       "<style scoped>\n",
       "    .dataframe tbody tr th:only-of-type {\n",
       "        vertical-align: middle;\n",
       "    }\n",
       "\n",
       "    .dataframe tbody tr th {\n",
       "        vertical-align: top;\n",
       "    }\n",
       "\n",
       "    .dataframe thead th {\n",
       "        text-align: right;\n",
       "    }\n",
       "</style>\n",
       "<table border=\"1\" class=\"dataframe\">\n",
       "  <thead>\n",
       "    <tr style=\"text-align: right;\">\n",
       "      <th></th>\n",
       "      <th>state</th>\n",
       "      <th>county</th>\n",
       "      <th>2010_population</th>\n",
       "      <th>2015_population</th>\n",
       "    </tr>\n",
       "  </thead>\n",
       "  <tbody>\n",
       "    <tr>\n",
       "      <th>0</th>\n",
       "      <td>Iowa</td>\n",
       "      <td>Adair</td>\n",
       "      <td>7682</td>\n",
       "      <td>7145</td>\n",
       "    </tr>\n",
       "    <tr>\n",
       "      <th>1</th>\n",
       "      <td>Kentucky</td>\n",
       "      <td>Adair</td>\n",
       "      <td>18656</td>\n",
       "      <td>19162</td>\n",
       "    </tr>\n",
       "    <tr>\n",
       "      <th>2</th>\n",
       "      <td>Missouri</td>\n",
       "      <td>Adair</td>\n",
       "      <td>25607</td>\n",
       "      <td>25353</td>\n",
       "    </tr>\n",
       "    <tr>\n",
       "      <th>3</th>\n",
       "      <td>Oklahoma</td>\n",
       "      <td>Adair</td>\n",
       "      <td>22683</td>\n",
       "      <td>22259</td>\n",
       "    </tr>\n",
       "    <tr>\n",
       "      <th>4</th>\n",
       "      <td>Colorado</td>\n",
       "      <td>Adams</td>\n",
       "      <td>441603</td>\n",
       "      <td>490443</td>\n",
       "    </tr>\n",
       "    <tr>\n",
       "      <th>5</th>\n",
       "      <td>Idaho</td>\n",
       "      <td>Adams</td>\n",
       "      <td>3976</td>\n",
       "      <td>3891</td>\n",
       "    </tr>\n",
       "    <tr>\n",
       "      <th>6</th>\n",
       "      <td>Illinois</td>\n",
       "      <td>Adams</td>\n",
       "      <td>67103</td>\n",
       "      <td>66835</td>\n",
       "    </tr>\n",
       "    <tr>\n",
       "      <th>7</th>\n",
       "      <td>Indiana</td>\n",
       "      <td>Adams</td>\n",
       "      <td>34387</td>\n",
       "      <td>34945</td>\n",
       "    </tr>\n",
       "    <tr>\n",
       "      <th>8</th>\n",
       "      <td>Iowa</td>\n",
       "      <td>Adams</td>\n",
       "      <td>4029</td>\n",
       "      <td>3754</td>\n",
       "    </tr>\n",
       "    <tr>\n",
       "      <th>9</th>\n",
       "      <td>Mississippi</td>\n",
       "      <td>Adams</td>\n",
       "      <td>32297</td>\n",
       "      <td>31561</td>\n",
       "    </tr>\n",
       "  </tbody>\n",
       "</table>\n",
       "</div>"
      ],
      "text/plain": [
       "         state county  2010_population  2015_population\n",
       "0         Iowa  Adair             7682             7145\n",
       "1     Kentucky  Adair            18656            19162\n",
       "2     Missouri  Adair            25607            25353\n",
       "3     Oklahoma  Adair            22683            22259\n",
       "4     Colorado  Adams           441603           490443\n",
       "5        Idaho  Adams             3976             3891\n",
       "6     Illinois  Adams            67103            66835\n",
       "7      Indiana  Adams            34387            34945\n",
       "8         Iowa  Adams             4029             3754\n",
       "9  Mississippi  Adams            32297            31561"
      ]
     },
     "execution_count": 276,
     "metadata": {},
     "output_type": "execute_result"
    }
   ],
   "source": [
    "county_populations.head(10)"
   ]
  },
  {
   "cell_type": "code",
   "execution_count": 224,
   "metadata": {},
   "outputs": [
    {
     "data": {
      "text/plain": [
       "state              object\n",
       "county             object\n",
       "2010_population     int64\n",
       "2015_population     int64\n",
       "dtype: object"
      ]
     },
     "execution_count": 224,
     "metadata": {},
     "output_type": "execute_result"
    }
   ],
   "source": [
    "county_populations.dtypes"
   ]
  },
  {
   "cell_type": "markdown",
   "metadata": {},
   "source": [
    "## Multi-Table Approach"
   ]
  },
  {
   "cell_type": "markdown",
   "metadata": {},
   "source": [
    "### Getting Query Results from Several Tables"
   ]
  },
  {
   "cell_type": "code",
   "execution_count": 225,
   "metadata": {},
   "outputs": [],
   "source": [
    "#states\n",
    "\n",
    "\n",
    "\n",
    "# This cell can be used if you want to compare data from different tables.\n",
    "# 1) Identify tables before the period and consider what is the most logical way to merge them.\n",
    "# 2) Pull in the columns of interest from each table \n",
    "# 3) Write out their join, keeping in mind 1 to 1, many to 1, etc. \n",
    "# 4) Update column names to match, keeping the first column as the element they were joined on. \n",
    "# 5) Update index to that joined column, renaming as needed \n",
    "# Resource: https://www.kite.com/python/answers/how-to-join-multiple-tables-together-in-sqlalchemy-in-python#:~:text=Use%20Query.,sequence%20to%20tables%20to%20join.\n",
    "\n",
    "\n",
    "join_query = session.query(State2015.total_clinics, State2015.total_titleten, State2015.pp,\\\n",
    "                           State2015.dept_clinic, State2015.dept_clinic_tt, State2015.hospital_tt,\\\n",
    "                           State2015.hospital, State2015.pp_tt, State2015.pp_client, \\\n",
    "                           State2015.total_client,State2015.total_client_tt,\\\n",
    "                           State_births.state_rate, State_births.year, State_births.state)\\\n",
    "                    .join(State_births, State_births.state == State2015.state)\\\n",
    "                    .filter(State_births.year==\"2016\").filter(State_births.age_group==\"15-19 years\")\n",
    "\n",
    "\n",
    "state_df = pd.DataFrame(join_query, columns=[\"total_clinics\", \"total_title10\", \"total_pp\", \"dept_clinic\", \"dept_clinic_tt\", \"hospital_tt\", \"hospital\", \"pp_tt\", \"pp_client\", \"total_client\", \"total_client_tt\", \"birth_rate\", \"year\", \"state\"])\n",
    "#joined_df.set_index('state_name', inplace=True, )\n",
    "\n",
    "# See code above to change data types if needed\n",
    "# Drop NaN rows, which will mess with the ML\n",
    "state_df = state_df.dropna()\n",
    "\n"
   ]
  },
  {
   "cell_type": "code",
   "execution_count": 288,
   "metadata": {},
   "outputs": [],
   "source": [
    "# counties\n",
    "\n",
    "join_query = session.query(County2015.fips, County2015.total_clinics, County2015.total_titleten, County2015.pp,\\\n",
    "                           County2015.dept_clinic, County2015.hospital, County2015.total_client_tt,\\\n",
    "                           County2015.pp_client, County2015.dept_clinic_tt, County2015.pp_tt,\\\n",
    "                           County2015.total_client, County2015.hospital_client, County_births.birth_rate,\\\n",
    "                           County_births.year, County_births.state, County_births.county)\\\n",
    "                    .join(County_births, County_births.combined_fips_code == County2015.fips)\\\n",
    "                    .filter(County_births.year==\"2016\")\n",
    "\n",
    "\n",
    "county_df = pd.DataFrame(join_query, columns=[\"FIPS\", \"total_clinics\", \"total_title10\", \"total_pp\", \"health_dept_clinics\", \"hospitals\",\"title_10_clients\",\"pp_clients\", \"dept_clinic_title10\",\"pp_tt\",\"total_clients\",\"hospital_client\",\"birth_rate\", \"year\", \"state\", \"county\"])\n",
    "#joined_df.set_index('state_name', inplace=True, )\n",
    "\n",
    "# See code above to change data types if needed\n",
    "# Drop NaN rows, which will mess with the ML\n",
    "county_df = county_df.dropna()"
   ]
  },
  {
   "cell_type": "code",
   "execution_count": 289,
   "metadata": {},
   "outputs": [
    {
     "data": {
      "text/html": [
       "<div>\n",
       "<style scoped>\n",
       "    .dataframe tbody tr th:only-of-type {\n",
       "        vertical-align: middle;\n",
       "    }\n",
       "\n",
       "    .dataframe tbody tr th {\n",
       "        vertical-align: top;\n",
       "    }\n",
       "\n",
       "    .dataframe thead th {\n",
       "        text-align: right;\n",
       "    }\n",
       "</style>\n",
       "<table border=\"1\" class=\"dataframe\">\n",
       "  <thead>\n",
       "    <tr style=\"text-align: right;\">\n",
       "      <th></th>\n",
       "      <th>FIPS</th>\n",
       "      <th>total_clinics</th>\n",
       "      <th>total_title10</th>\n",
       "      <th>total_pp</th>\n",
       "      <th>health_dept_clinics</th>\n",
       "      <th>hospitals</th>\n",
       "      <th>title_10_clients</th>\n",
       "      <th>pp_clients</th>\n",
       "      <th>dept_clinic_title10</th>\n",
       "      <th>pp_tt</th>\n",
       "      <th>total_clients</th>\n",
       "      <th>hospital_client</th>\n",
       "      <th>birth_rate</th>\n",
       "      <th>year</th>\n",
       "      <th>state</th>\n",
       "      <th>county</th>\n",
       "    </tr>\n",
       "  </thead>\n",
       "  <tbody>\n",
       "    <tr>\n",
       "      <th>72</th>\n",
       "      <td>2068</td>\n",
       "      <td>0</td>\n",
       "      <td>0</td>\n",
       "      <td>0</td>\n",
       "      <td>0</td>\n",
       "      <td>0</td>\n",
       "      <td>0.0</td>\n",
       "      <td>0</td>\n",
       "      <td>0</td>\n",
       "      <td>0</td>\n",
       "      <td>0.0</td>\n",
       "      <td>0</td>\n",
       "      <td>12.0</td>\n",
       "      <td>2016</td>\n",
       "      <td>Alaska</td>\n",
       "      <td>Denali</td>\n",
       "    </tr>\n",
       "    <tr>\n",
       "      <th>171</th>\n",
       "      <td>5133</td>\n",
       "      <td>0</td>\n",
       "      <td>0</td>\n",
       "      <td>0</td>\n",
       "      <td>0</td>\n",
       "      <td>0</td>\n",
       "      <td>0.0</td>\n",
       "      <td>0</td>\n",
       "      <td>0</td>\n",
       "      <td>0</td>\n",
       "      <td>0.0</td>\n",
       "      <td>0</td>\n",
       "      <td>53.4</td>\n",
       "      <td>2016</td>\n",
       "      <td>Arkansas</td>\n",
       "      <td>Sevier</td>\n",
       "    </tr>\n",
       "    <tr>\n",
       "      <th>242</th>\n",
       "      <td>8009</td>\n",
       "      <td>0</td>\n",
       "      <td>0</td>\n",
       "      <td>0</td>\n",
       "      <td>0</td>\n",
       "      <td>0</td>\n",
       "      <td>0.0</td>\n",
       "      <td>0</td>\n",
       "      <td>0</td>\n",
       "      <td>0</td>\n",
       "      <td>0.0</td>\n",
       "      <td>0</td>\n",
       "      <td>34.4</td>\n",
       "      <td>2016</td>\n",
       "      <td>Colorado</td>\n",
       "      <td>Baca</td>\n",
       "    </tr>\n",
       "    <tr>\n",
       "      <th>248</th>\n",
       "      <td>8019</td>\n",
       "      <td>0</td>\n",
       "      <td>0</td>\n",
       "      <td>0</td>\n",
       "      <td>0</td>\n",
       "      <td>0</td>\n",
       "      <td>0.0</td>\n",
       "      <td>0</td>\n",
       "      <td>0</td>\n",
       "      <td>0</td>\n",
       "      <td>0.0</td>\n",
       "      <td>0</td>\n",
       "      <td>11.6</td>\n",
       "      <td>2016</td>\n",
       "      <td>Colorado</td>\n",
       "      <td>Clear Creek</td>\n",
       "    </tr>\n",
       "    <tr>\n",
       "      <th>251</th>\n",
       "      <td>8025</td>\n",
       "      <td>0</td>\n",
       "      <td>0</td>\n",
       "      <td>0</td>\n",
       "      <td>0</td>\n",
       "      <td>0</td>\n",
       "      <td>0.0</td>\n",
       "      <td>0</td>\n",
       "      <td>0</td>\n",
       "      <td>0</td>\n",
       "      <td>0.0</td>\n",
       "      <td>0</td>\n",
       "      <td>33.1</td>\n",
       "      <td>2016</td>\n",
       "      <td>Colorado</td>\n",
       "      <td>Crowley</td>\n",
       "    </tr>\n",
       "    <tr>\n",
       "      <th>...</th>\n",
       "      <td>...</td>\n",
       "      <td>...</td>\n",
       "      <td>...</td>\n",
       "      <td>...</td>\n",
       "      <td>...</td>\n",
       "      <td>...</td>\n",
       "      <td>...</td>\n",
       "      <td>...</td>\n",
       "      <td>...</td>\n",
       "      <td>...</td>\n",
       "      <td>...</td>\n",
       "      <td>...</td>\n",
       "      <td>...</td>\n",
       "      <td>...</td>\n",
       "      <td>...</td>\n",
       "      <td>...</td>\n",
       "    </tr>\n",
       "    <tr>\n",
       "      <th>3077</th>\n",
       "      <td>55077</td>\n",
       "      <td>0</td>\n",
       "      <td>0</td>\n",
       "      <td>0</td>\n",
       "      <td>0</td>\n",
       "      <td>0</td>\n",
       "      <td>0.0</td>\n",
       "      <td>0</td>\n",
       "      <td>0</td>\n",
       "      <td>0</td>\n",
       "      <td>0.0</td>\n",
       "      <td>0</td>\n",
       "      <td>15.6</td>\n",
       "      <td>2016</td>\n",
       "      <td>Wisconsin</td>\n",
       "      <td>Marquette</td>\n",
       "    </tr>\n",
       "    <tr>\n",
       "      <th>3084</th>\n",
       "      <td>55089</td>\n",
       "      <td>0</td>\n",
       "      <td>0</td>\n",
       "      <td>0</td>\n",
       "      <td>0</td>\n",
       "      <td>0</td>\n",
       "      <td>0.0</td>\n",
       "      <td>0</td>\n",
       "      <td>0</td>\n",
       "      <td>0</td>\n",
       "      <td>0.0</td>\n",
       "      <td>0</td>\n",
       "      <td>2.6</td>\n",
       "      <td>2016</td>\n",
       "      <td>Wisconsin</td>\n",
       "      <td>Ozaukee</td>\n",
       "    </tr>\n",
       "    <tr>\n",
       "      <th>3115</th>\n",
       "      <td>56009</td>\n",
       "      <td>0</td>\n",
       "      <td>0</td>\n",
       "      <td>0</td>\n",
       "      <td>0</td>\n",
       "      <td>0</td>\n",
       "      <td>0.0</td>\n",
       "      <td>0</td>\n",
       "      <td>0</td>\n",
       "      <td>0</td>\n",
       "      <td>0.0</td>\n",
       "      <td>0</td>\n",
       "      <td>33.5</td>\n",
       "      <td>2016</td>\n",
       "      <td>Wyoming</td>\n",
       "      <td>Converse</td>\n",
       "    </tr>\n",
       "    <tr>\n",
       "      <th>3122</th>\n",
       "      <td>56023</td>\n",
       "      <td>0</td>\n",
       "      <td>0</td>\n",
       "      <td>0</td>\n",
       "      <td>0</td>\n",
       "      <td>0</td>\n",
       "      <td>0.0</td>\n",
       "      <td>0</td>\n",
       "      <td>0</td>\n",
       "      <td>0</td>\n",
       "      <td>0.0</td>\n",
       "      <td>0</td>\n",
       "      <td>18.7</td>\n",
       "      <td>2016</td>\n",
       "      <td>Wyoming</td>\n",
       "      <td>Lincoln</td>\n",
       "    </tr>\n",
       "    <tr>\n",
       "      <th>3130</th>\n",
       "      <td>56039</td>\n",
       "      <td>0</td>\n",
       "      <td>0</td>\n",
       "      <td>0</td>\n",
       "      <td>0</td>\n",
       "      <td>0</td>\n",
       "      <td>0.0</td>\n",
       "      <td>0</td>\n",
       "      <td>0</td>\n",
       "      <td>0</td>\n",
       "      <td>0.0</td>\n",
       "      <td>0</td>\n",
       "      <td>9.9</td>\n",
       "      <td>2016</td>\n",
       "      <td>Wyoming</td>\n",
       "      <td>Teton</td>\n",
       "    </tr>\n",
       "  </tbody>\n",
       "</table>\n",
       "<p>579 rows × 16 columns</p>\n",
       "</div>"
      ],
      "text/plain": [
       "       FIPS  total_clinics  total_title10  total_pp  health_dept_clinics  \\\n",
       "72     2068              0              0         0                    0   \n",
       "171    5133              0              0         0                    0   \n",
       "242    8009              0              0         0                    0   \n",
       "248    8019              0              0         0                    0   \n",
       "251    8025              0              0         0                    0   \n",
       "...     ...            ...            ...       ...                  ...   \n",
       "3077  55077              0              0         0                    0   \n",
       "3084  55089              0              0         0                    0   \n",
       "3115  56009              0              0         0                    0   \n",
       "3122  56023              0              0         0                    0   \n",
       "3130  56039              0              0         0                    0   \n",
       "\n",
       "      hospitals  title_10_clients  pp_clients  dept_clinic_title10  pp_tt  \\\n",
       "72            0               0.0           0                    0      0   \n",
       "171           0               0.0           0                    0      0   \n",
       "242           0               0.0           0                    0      0   \n",
       "248           0               0.0           0                    0      0   \n",
       "251           0               0.0           0                    0      0   \n",
       "...         ...               ...         ...                  ...    ...   \n",
       "3077          0               0.0           0                    0      0   \n",
       "3084          0               0.0           0                    0      0   \n",
       "3115          0               0.0           0                    0      0   \n",
       "3122          0               0.0           0                    0      0   \n",
       "3130          0               0.0           0                    0      0   \n",
       "\n",
       "      total_clients  hospital_client  birth_rate  year      state       county  \n",
       "72              0.0                0        12.0  2016     Alaska       Denali  \n",
       "171             0.0                0        53.4  2016   Arkansas       Sevier  \n",
       "242             0.0                0        34.4  2016   Colorado         Baca  \n",
       "248             0.0                0        11.6  2016   Colorado  Clear Creek  \n",
       "251             0.0                0        33.1  2016   Colorado      Crowley  \n",
       "...             ...              ...         ...   ...        ...          ...  \n",
       "3077            0.0                0        15.6  2016  Wisconsin    Marquette  \n",
       "3084            0.0                0         2.6  2016  Wisconsin      Ozaukee  \n",
       "3115            0.0                0        33.5  2016    Wyoming     Converse  \n",
       "3122            0.0                0        18.7  2016    Wyoming      Lincoln  \n",
       "3130            0.0                0         9.9  2016    Wyoming        Teton  \n",
       "\n",
       "[579 rows x 16 columns]"
      ]
     },
     "execution_count": 289,
     "metadata": {},
     "output_type": "execute_result"
    }
   ],
   "source": [
    "county_df.loc[county_df[\"total_clinics\"]==0]"
   ]
  },
  {
   "cell_type": "code",
   "execution_count": 290,
   "metadata": {},
   "outputs": [
    {
     "data": {
      "text/plain": [
       "array([2016])"
      ]
     },
     "execution_count": 290,
     "metadata": {},
     "output_type": "execute_result"
    }
   ],
   "source": [
    "county_df[\"year\"].unique()"
   ]
  },
  {
   "cell_type": "code",
   "execution_count": 291,
   "metadata": {},
   "outputs": [],
   "source": [
    "county_df = county_df.merge(county_populations, how='left', on=[\"state\",\"county\"])"
   ]
  },
  {
   "cell_type": "code",
   "execution_count": 292,
   "metadata": {},
   "outputs": [],
   "source": [
    "county_SVI = pd.read_csv(\"2016_SVI_extract.csv\")"
   ]
  },
  {
   "cell_type": "code",
   "execution_count": 293,
   "metadata": {},
   "outputs": [],
   "source": [
    "county_SVI=county_SVI.drop(columns=[\"state\",\"county\"])"
   ]
  },
  {
   "cell_type": "code",
   "execution_count": 295,
   "metadata": {},
   "outputs": [],
   "source": [
    "county_df=county_df.merge(county_SVI, how='left', on=\"FIPS\")"
   ]
  },
  {
   "cell_type": "code",
   "execution_count": 296,
   "metadata": {},
   "outputs": [
    {
     "data": {
      "text/plain": [
       "(3048, 21)"
      ]
     },
     "execution_count": 296,
     "metadata": {},
     "output_type": "execute_result"
    }
   ],
   "source": [
    "county_df = county_df.dropna()\n",
    "county_df.shape"
   ]
  },
  {
   "cell_type": "code",
   "execution_count": 297,
   "metadata": {
    "scrolled": true
   },
   "outputs": [
    {
     "data": {
      "text/plain": [
       "Index(['FIPS', 'total_clinics', 'total_title10', 'total_pp',\n",
       "       'health_dept_clinics', 'hospitals', 'title_10_clients', 'pp_clients',\n",
       "       'dept_clinic_title10', 'pp_tt', 'total_clients', 'hospital_client',\n",
       "       'birth_rate', 'year', 'state', 'county', '2010_population',\n",
       "       '2015_population', 'SVI_sum_of_indicators', 'SVI_ranking',\n",
       "       'percent_uninsured'],\n",
       "      dtype='object')"
      ]
     },
     "execution_count": 297,
     "metadata": {},
     "output_type": "execute_result"
    }
   ],
   "source": [
    "county_df.columns"
   ]
  },
  {
   "cell_type": "code",
   "execution_count": 298,
   "metadata": {},
   "outputs": [],
   "source": [
    "county_df[\"clinics_per_capita\"] = county_df[\"total_clinics\"]/county_df[\"2015_population\"]\n",
    "county_df[\"title10_clinics_per_capita\"] = county_df[\"total_title10\"]/county_df[\"2015_population\"]\n",
    "county_df[\"pp_per_capita\"] = county_df[\"total_pp\"]/county_df[\"2015_population\"]\n",
    "county_df[\"health_dept_per_capita\"] = county_df['health_dept_clinics']/county_df[\"2015_population\"]\n",
    "county_df[\"hospitals_per_capita\"] = county_df['hospitals']/county_df[\"2015_population\"]\n",
    "county_df[\"title_10_clients_per_capita\"] = county_df[\"title_10_clients\"]/county_df[\"2015_population\"]\n",
    "county_df[\"pp_clients_per_capita\"] = county_df['pp_clients']/county_df[\"2015_population\"]\n",
    "county_df[\"dept_clinic_title10_per_capita\"] = county_df['dept_clinic_title10']/county_df[\"2015_population\"]\n"
   ]
  },
  {
   "cell_type": "code",
   "execution_count": 262,
   "metadata": {},
   "outputs": [],
   "source": [
    "# county_df[\"percent_clinics_tt_funded\"] = county_df['total_title10']/county_df[\"total_clinics\"]\n",
    "# county_df[\"percent_clients_at_pp\"] = county_df['pp_clients']/county_df[\"total_clients\"]\n",
    "# county_df[\"percent_clients_at_hospital\"] = county_df['hospital_client']/county_df[\"total_clients\"]\n",
    "# county_df[\"percent_clients_using_tt\"] = county_df['title_10_clients']/county_df[\"total_clients\"]\n",
    "# county_df = county_df.dropna()"
   ]
  },
  {
   "cell_type": "code",
   "execution_count": 299,
   "metadata": {},
   "outputs": [],
   "source": [
    "#binary encode existence of title ten funding for planned parenthood?\n",
    "\n",
    "for index, row in county_df.iterrows():\n",
    "    if row[\"total_pp\"] == 0:\n",
    "        county_df.loc[index, \"binary_pp\"]=0\n",
    "    else:\n",
    "        county_df.loc[index, \"binary_pp\"]=1\n",
    "    if row[\"pp_tt\"] == 0:\n",
    "        county_df.loc[index, \"binary_pp_tt\"]=0\n",
    "    else:\n",
    "        county_df.loc[index, \"binary_pp_tt\"]=1"
   ]
  },
  {
   "cell_type": "code",
   "execution_count": 203,
   "metadata": {},
   "outputs": [],
   "source": [
    "state_df = state_df.merge(state_populations, on=\"state\", how=\"inner\")"
   ]
  },
  {
   "cell_type": "code",
   "execution_count": 204,
   "metadata": {},
   "outputs": [],
   "source": [
    "state_df = state_df.merge(state_expenditures, on=\"state\", how=\"inner\")"
   ]
  },
  {
   "cell_type": "code",
   "execution_count": 45,
   "metadata": {},
   "outputs": [
    {
     "data": {
      "text/html": [
       "<div>\n",
       "<style scoped>\n",
       "    .dataframe tbody tr th:only-of-type {\n",
       "        vertical-align: middle;\n",
       "    }\n",
       "\n",
       "    .dataframe tbody tr th {\n",
       "        vertical-align: top;\n",
       "    }\n",
       "\n",
       "    .dataframe thead th {\n",
       "        text-align: right;\n",
       "    }\n",
       "</style>\n",
       "<table border=\"1\" class=\"dataframe\">\n",
       "  <thead>\n",
       "    <tr style=\"text-align: right;\">\n",
       "      <th></th>\n",
       "      <th>total_clinics</th>\n",
       "      <th>total_title10</th>\n",
       "      <th>total_pp</th>\n",
       "      <th>dept_clinic</th>\n",
       "      <th>dept_clinic_tt</th>\n",
       "      <th>hospital_tt</th>\n",
       "      <th>hospital</th>\n",
       "      <th>pp_tt</th>\n",
       "      <th>pp_client</th>\n",
       "      <th>total_client</th>\n",
       "      <th>total_client_tt</th>\n",
       "      <th>birth_rate</th>\n",
       "      <th>year</th>\n",
       "      <th>state</th>\n",
       "      <th>2010_population</th>\n",
       "      <th>2015_population</th>\n",
       "      <th>Medicaid_spending</th>\n",
       "      <th>Title10_spending</th>\n",
       "      <th>total_spending</th>\n",
       "    </tr>\n",
       "  </thead>\n",
       "  <tbody>\n",
       "    <tr>\n",
       "      <th>0</th>\n",
       "      <td>187</td>\n",
       "      <td>83</td>\n",
       "      <td>2</td>\n",
       "      <td>77</td>\n",
       "      <td>75</td>\n",
       "      <td>0</td>\n",
       "      <td>1</td>\n",
       "      <td>0</td>\n",
       "      <td>260</td>\n",
       "      <td>97940</td>\n",
       "      <td>86180</td>\n",
       "      <td>28.4</td>\n",
       "      <td>2016</td>\n",
       "      <td>Alabama</td>\n",
       "      <td>4785437</td>\n",
       "      <td>4852347</td>\n",
       "      <td>58362</td>\n",
       "      <td>58362</td>\n",
       "      <td>69742</td>\n",
       "    </tr>\n",
       "    <tr>\n",
       "      <th>1</th>\n",
       "      <td>157</td>\n",
       "      <td>5</td>\n",
       "      <td>5</td>\n",
       "      <td>16</td>\n",
       "      <td>1</td>\n",
       "      <td>0</td>\n",
       "      <td>0</td>\n",
       "      <td>3</td>\n",
       "      <td>3670</td>\n",
       "      <td>19570</td>\n",
       "      <td>5290</td>\n",
       "      <td>25.8</td>\n",
       "      <td>2016</td>\n",
       "      <td>Alaska</td>\n",
       "      <td>713910</td>\n",
       "      <td>737498</td>\n",
       "      <td>2812</td>\n",
       "      <td>2812</td>\n",
       "      <td>10158</td>\n",
       "    </tr>\n",
       "    <tr>\n",
       "      <th>2</th>\n",
       "      <td>232</td>\n",
       "      <td>36</td>\n",
       "      <td>12</td>\n",
       "      <td>33</td>\n",
       "      <td>14</td>\n",
       "      <td>1</td>\n",
       "      <td>18</td>\n",
       "      <td>6</td>\n",
       "      <td>23930</td>\n",
       "      <td>84190</td>\n",
       "      <td>31820</td>\n",
       "      <td>23.6</td>\n",
       "      <td>2016</td>\n",
       "      <td>Arizona</td>\n",
       "      <td>6407172</td>\n",
       "      <td>6829676</td>\n",
       "      <td>52006</td>\n",
       "      <td>52006</td>\n",
       "      <td>57560</td>\n",
       "    </tr>\n",
       "    <tr>\n",
       "      <th>3</th>\n",
       "      <td>163</td>\n",
       "      <td>92</td>\n",
       "      <td>2</td>\n",
       "      <td>92</td>\n",
       "      <td>90</td>\n",
       "      <td>0</td>\n",
       "      <td>0</td>\n",
       "      <td>2</td>\n",
       "      <td>4590</td>\n",
       "      <td>55430</td>\n",
       "      <td>51510</td>\n",
       "      <td>34.6</td>\n",
       "      <td>2016</td>\n",
       "      <td>Arkansas</td>\n",
       "      <td>2921964</td>\n",
       "      <td>2978048</td>\n",
       "      <td>6899</td>\n",
       "      <td>6899</td>\n",
       "      <td>11397</td>\n",
       "    </tr>\n",
       "    <tr>\n",
       "      <th>4</th>\n",
       "      <td>1697</td>\n",
       "      <td>353</td>\n",
       "      <td>116</td>\n",
       "      <td>94</td>\n",
       "      <td>43</td>\n",
       "      <td>2</td>\n",
       "      <td>371</td>\n",
       "      <td>110</td>\n",
       "      <td>712470</td>\n",
       "      <td>1670600</td>\n",
       "      <td>1014320</td>\n",
       "      <td>17.0</td>\n",
       "      <td>2016</td>\n",
       "      <td>California</td>\n",
       "      <td>37319502</td>\n",
       "      <td>38918045</td>\n",
       "      <td>438559</td>\n",
       "      <td>438559</td>\n",
       "      <td>454706</td>\n",
       "    </tr>\n",
       "  </tbody>\n",
       "</table>\n",
       "</div>"
      ],
      "text/plain": [
       "   total_clinics  total_title10  total_pp  dept_clinic  dept_clinic_tt  \\\n",
       "0            187             83         2           77              75   \n",
       "1            157              5         5           16               1   \n",
       "2            232             36        12           33              14   \n",
       "3            163             92         2           92              90   \n",
       "4           1697            353       116           94              43   \n",
       "\n",
       "   hospital_tt  hospital  pp_tt  pp_client  total_client  total_client_tt  \\\n",
       "0            0         1      0        260         97940            86180   \n",
       "1            0         0      3       3670         19570             5290   \n",
       "2            1        18      6      23930         84190            31820   \n",
       "3            0         0      2       4590         55430            51510   \n",
       "4            2       371    110     712470       1670600          1014320   \n",
       "\n",
       "   birth_rate  year       state  2010_population  2015_population  \\\n",
       "0        28.4  2016     Alabama          4785437          4852347   \n",
       "1        25.8  2016      Alaska           713910           737498   \n",
       "2        23.6  2016     Arizona          6407172          6829676   \n",
       "3        34.6  2016    Arkansas          2921964          2978048   \n",
       "4        17.0  2016  California         37319502         38918045   \n",
       "\n",
       "   Medicaid_spending  Title10_spending  total_spending  \n",
       "0              58362             58362           69742  \n",
       "1               2812              2812           10158  \n",
       "2              52006             52006           57560  \n",
       "3               6899              6899           11397  \n",
       "4             438559            438559          454706  "
      ]
     },
     "execution_count": 45,
     "metadata": {},
     "output_type": "execute_result"
    }
   ],
   "source": [
    "state_df.head()"
   ]
  },
  {
   "cell_type": "code",
   "execution_count": 46,
   "metadata": {},
   "outputs": [],
   "source": [
    "state_df[\"clinics_per_capita\"] = state_df[\"total_clinics\"]/state_df[\"2015_population\"]\n",
    "state_df[\"title10_per_capita\"] = state_df[\"total_title10\"]/state_df[\"2015_population\"]\n",
    "state_df[\"pp_per_capita\"] = state_df[\"total_pp\"]/state_df[\"2015_population\"]\n",
    "state_df[\"health_dept_per_capita\"] = state_df['dept_clinic']/state_df[\"2015_population\"]\n",
    "state_df[\"hospitals_per_capita\"] = state_df['hospital']/state_df[\"2015_population\"]\n",
    "state_df[\"title_10_clients_per_capita\"] = state_df[\"total_client_tt\"]/state_df[\"2015_population\"]\n",
    "state_df[\"pp_clients_per_capita\"] = state_df['pp_client']/state_df[\"2015_population\"]\n",
    "state_df[\"dept_clinic_title10_per_capita\"] = state_df['dept_clinic_tt']/state_df[\"2015_population\"]\n",
    "state_df[\"percent_clinics_tt_funded\"] = state_df['total_title10']/state_df[\"total_clinics\"]\n",
    "state_df[\"percent_pp_tt_funded\"] = state_df['pp_tt']/state_df[\"total_pp\"]\n",
    "state_df[\"percent_clients_at_pp\"] = state_df['pp_client']/state_df[\"total_client\"]\n",
    "state_df[\"Medicaid_spending_per_capita\"] = state_df[\"Medicaid_spending\"]/state_df[\"2015_population\"]\n",
    "state_df[\"Title10_spending_per_capita\"] = state_df[\"Title10_spending\"]/state_df[\"2015_population\"]\n",
    "state_df[\"total_spending_per_capita\"] = state_df[\"total_spending\"]/state_df[\"2015_population\"]\n"
   ]
  },
  {
   "cell_type": "code",
   "execution_count": 142,
   "metadata": {},
   "outputs": [],
   "source": [
    "county_df=county_df.dropna()"
   ]
  },
  {
   "cell_type": "code",
   "execution_count": 300,
   "metadata": {},
   "outputs": [
    {
     "data": {
      "text/plain": [
       "Index(['FIPS', 'total_clinics', 'total_title10', 'total_pp',\n",
       "       'health_dept_clinics', 'hospitals', 'title_10_clients', 'pp_clients',\n",
       "       'dept_clinic_title10', 'pp_tt', 'total_clients', 'hospital_client',\n",
       "       'birth_rate', 'year', 'state', 'county', '2010_population',\n",
       "       '2015_population', 'SVI_sum_of_indicators', 'SVI_ranking',\n",
       "       'percent_uninsured', 'clinics_per_capita', 'title10_clinics_per_capita',\n",
       "       'pp_per_capita', 'health_dept_per_capita', 'hospitals_per_capita',\n",
       "       'title_10_clients_per_capita', 'pp_clients_per_capita',\n",
       "       'dept_clinic_title10_per_capita', 'binary_pp', 'binary_pp_tt'],\n",
       "      dtype='object')"
      ]
     },
     "execution_count": 300,
     "metadata": {},
     "output_type": "execute_result"
    }
   ],
   "source": [
    "county_df.columns"
   ]
  },
  {
   "cell_type": "markdown",
   "metadata": {},
   "source": [
    "## Prepping the Model Data"
   ]
  },
  {
   "cell_type": "code",
   "execution_count": 308,
   "metadata": {},
   "outputs": [
    {
     "name": "stdout",
     "output_type": "stream",
     "text": [
      "Shape:  (3048, 11) (3048,)\n"
     ]
    }
   ],
   "source": [
    "# Close the session from before\n",
    "session.close()\n",
    "\n",
    "# Assign the data to X and y\n",
    "# Note: Sklearn requires a two-dimensional array of values so we use reshape to create this\n",
    "\n",
    "X = county_df[['clinics_per_capita',\n",
    "       'title10_clinics_per_capita', 'pp_per_capita', 'health_dept_per_capita',\n",
    "       'hospitals_per_capita', 'title_10_clients_per_capita',\n",
    "       'pp_clients_per_capita', 'dept_clinic_title10_per_capita','binary_pp',\n",
    "       'binary_pp_tt','percent_uninsured']]\n",
    "y = county_df[\"birth_rate\"]\n",
    "\n",
    "feature_names = ['clinics_per_capita',\n",
    "       'title10_clinics_per_capita', 'pp_per_capita', 'health_dept_per_capita',\n",
    "       'hospitals_per_capita', 'title_10_clients_per_capita',\n",
    "       'pp_clients_per_capita', 'dept_clinic_title10_per_capita','binary_pp',\n",
    "       'binary_pp_tt','percent_uninsured']\n",
    "\n",
    "print(\"Shape: \", X.shape, y.shape)"
   ]
  },
  {
   "cell_type": "code",
   "execution_count": 309,
   "metadata": {},
   "outputs": [],
   "source": [
    "# Use sklearn's `train_test_split` to split the data into training and testing\n",
    "# Keep in mind that our group may want to use the model on an entirely different table as well. \n",
    "\n",
    "from sklearn.model_selection import train_test_split # may not apply to all models\n",
    "\n",
    "### BEGIN SOLUTION \n",
    "\n",
    "X_train, X_test, y_train, y_test = train_test_split(X, y, random_state=1)\n",
    "\n",
    "### END SOLUTION"
   ]
  },
  {
   "cell_type": "markdown",
   "metadata": {},
   "source": [
    "## Linear Regression"
   ]
  },
  {
   "cell_type": "code",
   "execution_count": 310,
   "metadata": {},
   "outputs": [],
   "source": [
    "# Create the model\n",
    "\n",
    "### BEGIN SOLUTION\n",
    "\n",
    "from sklearn.ensemble import RandomForestRegressor\n",
    "\n",
    "model = RandomForestRegressor(max_depth=7, n_estimators=100, random_state=1)\n",
    "\n",
    "### END SOLUTION"
   ]
  },
  {
   "cell_type": "code",
   "execution_count": 311,
   "metadata": {},
   "outputs": [
    {
     "data": {
      "text/plain": [
       "RandomForestRegressor(max_depth=7, random_state=1)"
      ]
     },
     "execution_count": 311,
     "metadata": {},
     "output_type": "execute_result"
    }
   ],
   "source": [
    "model.fit(X_train, y_train)"
   ]
  },
  {
   "cell_type": "code",
   "execution_count": 312,
   "metadata": {},
   "outputs": [
    {
     "name": "stdout",
     "output_type": "stream",
     "text": [
      "Mean Squared Error (MSE): 105.3278903816511\n",
      "R-squared (R2 ): 0.3354231074959102\n"
     ]
    }
   ],
   "source": [
    "# Calculate the mean_squared_error and the r-squared value\n",
    "# for the testing data\n",
    "\n",
    "from sklearn.metrics import mean_squared_error, r2_score\n",
    "\n",
    "### BEGIN SOLUTION\n",
    "\n",
    "# Use our model to make predictions\n",
    "predicted = model.predict(X_test)\n",
    "\n",
    "# Score the predictions with mse and r2\n",
    "mse = mean_squared_error(y_test, predicted)\n",
    "r2 = r2_score(y_test, predicted)\n",
    "\n",
    "print(f\"Mean Squared Error (MSE): {mse}\")\n",
    "print(f\"R-squared (R2 ): {r2}\")\n",
    "\n",
    "### END SOLUTION"
   ]
  },
  {
   "cell_type": "code",
   "execution_count": 313,
   "metadata": {},
   "outputs": [
    {
     "data": {
      "text/plain": [
       "0.3354231074959102"
      ]
     },
     "execution_count": 313,
     "metadata": {},
     "output_type": "execute_result"
    }
   ],
   "source": [
    "# Call the `score` method on the model to show the r2 score\n",
    "\n",
    "### BEGIN SOLUTION\n",
    "model.score(X_test, y_test)\n",
    "### END SOLUTION"
   ]
  },
  {
   "cell_type": "code",
   "execution_count": 314,
   "metadata": {},
   "outputs": [
    {
     "data": {
      "text/plain": [
       "[(0.6572343878050463, 'percent_uninsured'),\n",
       " (0.0859254844348129, 'clinics_per_capita'),\n",
       " (0.07054225662751744, 'health_dept_per_capita'),\n",
       " (0.060145936547776745, 'title_10_clients_per_capita'),\n",
       " (0.048838334192067394, 'title10_clinics_per_capita'),\n",
       " (0.04666037569405009, 'dept_clinic_title10_per_capita'),\n",
       " (0.011826235435914325, 'pp_clients_per_capita'),\n",
       " (0.009254904092271718, 'pp_per_capita'),\n",
       " (0.0061908821269299015, 'hospitals_per_capita'),\n",
       " (0.0029010946891278007, 'binary_pp'),\n",
       " (0.00048010835448547497, 'binary_pp_tt')]"
      ]
     },
     "execution_count": 314,
     "metadata": {},
     "output_type": "execute_result"
    }
   ],
   "source": [
    "sorted(zip(model.feature_importances_, feature_names), reverse=True)"
   ]
  },
  {
   "cell_type": "markdown",
   "metadata": {},
   "source": [
    "## "
   ]
  },
  {
   "cell_type": "code",
   "execution_count": 315,
   "metadata": {},
   "outputs": [],
   "source": [
    "SVI = county_df[['SVI_sum_of_indicators']]"
   ]
  },
  {
   "cell_type": "code",
   "execution_count": 316,
   "metadata": {},
   "outputs": [],
   "source": [
    "X_train, X_test, y_train, y_test = train_test_split(SVI, y, random_state=1)"
   ]
  },
  {
   "cell_type": "code",
   "execution_count": 317,
   "metadata": {},
   "outputs": [
    {
     "data": {
      "text/plain": [
       "RandomForestRegressor(max_depth=7, random_state=1)"
      ]
     },
     "execution_count": 317,
     "metadata": {},
     "output_type": "execute_result"
    }
   ],
   "source": [
    "model.fit(X_train, y_train)"
   ]
  },
  {
   "cell_type": "code",
   "execution_count": 318,
   "metadata": {},
   "outputs": [
    {
     "name": "stdout",
     "output_type": "stream",
     "text": [
      "Mean Squared Error (MSE): 93.91595348442462\n",
      "R-squared (R2 ): 0.407427868372928\n"
     ]
    }
   ],
   "source": [
    "predicted = model.predict(X_test)\n",
    "\n",
    "# Score the predictions with mse and r2\n",
    "mse = mean_squared_error(y_test, predicted)\n",
    "r2 = r2_score(y_test, predicted)\n",
    "\n",
    "print(f\"Mean Squared Error (MSE): {mse}\")\n",
    "print(f\"R-squared (R2 ): {r2}\")"
   ]
  },
  {
   "cell_type": "code",
   "execution_count": 394,
   "metadata": {},
   "outputs": [
    {
     "name": "stdout",
     "output_type": "stream",
     "text": [
      "R-squared is: 0.4596201639846567\n",
      "P value is: 0.0\n"
     ]
    },
    {
     "data": {
      "image/png": "[encoded data removed]",
      "text/plain": [
       "<Figure size 432x288 with 1 Axes>"
      ]
     },
     "metadata": {
      "needs_background": "light"
     },
     "output_type": "display_data"
    }
   ],
   "source": [
    "from scipy.stats import linregress\n",
    "x_values = county_df['SVI_sum_of_indicators']\n",
    "y_values = county_df['birth_rate']\n",
    "\n",
    "plt.scatter(x_values, y_values, color=\"#66d1d1\")\n",
    "plt.xlabel(\"2016 SVI score\")\n",
    "plt.ylabel(\"2016 Teen Birth Rate\")\n",
    "plt.suptitle(\"Linear Regression of Teen Birth Rate and Social Vulnerability by County\")\n",
    "plt.ylim(0, 110)\n",
    "\n",
    "(slope, intercept, rvalue, pvalue, stderr) = linregress(x_values, y_values)\n",
    "regress_values = x_values * slope + intercept\n",
    "plt.plot(x_values,regress_values,color=\"#0d6efd\", linewidth=3)\n",
    "\n",
    "plt.savefig('linear_regression.png', bbox_inches='tight')\n",
    "\n",
    "print(f\"R-squared is: {rvalue**2}\")\n",
    "print(f\"P value is: {pvalue}\")"
   ]
  },
  {
   "cell_type": "code",
   "execution_count": null,
   "metadata": {},
   "outputs": [],
   "source": [
    "#R2 with raw state data = 0.26\n",
    "#R2 with per capita = 0.15\n",
    "#r2 pp, title10, total clinics, states raw plus per capita = .29, pp per capita highest feature importance\n",
    "#r2 states with per capita and percent of different clinic tt funded, .316"
   ]
  },
  {
   "cell_type": "code",
   "execution_count": 325,
   "metadata": {},
   "outputs": [],
   "source": [
    "county_df=county_df.sort_values(by=['SVI_sum_of_indicators'])"
   ]
  },
  {
   "cell_type": "code",
   "execution_count": 334,
   "metadata": {},
   "outputs": [
    {
     "data": {
      "text/plain": [
       "282      1.9147\n",
       "645      2.4187\n",
       "1687     2.5091\n",
       "1728     2.5842\n",
       "1610     2.5985\n",
       "         ...   \n",
       "2741    12.2951\n",
       "2517    12.3448\n",
       "1774    12.3728\n",
       "1787    12.4680\n",
       "52      12.5072\n",
       "Name: SVI_sum_of_indicators, Length: 3048, dtype: float64"
      ]
     },
     "execution_count": 334,
     "metadata": {},
     "output_type": "execute_result"
    }
   ],
   "source": [
    "county_df['SVI_sum_of_indicators']"
   ]
  },
  {
   "cell_type": "code",
   "execution_count": 335,
   "metadata": {},
   "outputs": [],
   "source": [
    "low_SVI = county_df.iloc[:1016,:]"
   ]
  },
  {
   "cell_type": "code",
   "execution_count": 336,
   "metadata": {},
   "outputs": [],
   "source": [
    "medium_SVI = county_df.iloc[1016:2032,:]"
   ]
  },
  {
   "cell_type": "code",
   "execution_count": 337,
   "metadata": {},
   "outputs": [],
   "source": [
    "high_SVI = county_df.iloc[2032:,:]"
   ]
  },
  {
   "cell_type": "code",
   "execution_count": 364,
   "metadata": {},
   "outputs": [
    {
     "name": "stdout",
     "output_type": "stream",
     "text": [
      "Shape:  (1016, 11) (1016,)\n"
     ]
    }
   ],
   "source": [
    "low_SVI_X = low_SVI[['clinics_per_capita',\n",
    "       'title10_clinics_per_capita', 'pp_per_capita', 'health_dept_per_capita',\n",
    "       'hospitals_per_capita', 'title_10_clients_per_capita',\n",
    "       'pp_clients_per_capita', 'dept_clinic_title10_per_capita','binary_pp',\n",
    "       'binary_pp_tt','percent_uninsured']]\n",
    "low_SVI_y = low_SVI[\"birth_rate\"]\n",
    "\n",
    "feature_names = ['clinics_per_capita',\n",
    "       'title10_clinics_per_capita', 'pp_per_capita', 'health_dept_per_capita',\n",
    "       'hospitals_per_capita', 'title_10_clients_per_capita',\n",
    "       'pp_clients_per_capita', 'dept_clinic_title10_per_capita','binary_pp',\n",
    "       'binary_pp_tt','percent_uninsured']\n",
    "\n",
    "print(\"Shape: \", low_SVI_X.shape, low_SVI_y.shape)"
   ]
  },
  {
   "cell_type": "code",
   "execution_count": 365,
   "metadata": {},
   "outputs": [],
   "source": [
    "low_X_train, low_X_test, low_y_train, low_y_test = train_test_split(low_SVI_X, low_SVI_y, random_state=1)"
   ]
  },
  {
   "cell_type": "code",
   "execution_count": 366,
   "metadata": {},
   "outputs": [
    {
     "data": {
      "text/plain": [
       "RandomForestRegressor(max_depth=7, random_state=1)"
      ]
     },
     "execution_count": 366,
     "metadata": {},
     "output_type": "execute_result"
    }
   ],
   "source": [
    "model.fit(low_X_train, low_y_train)"
   ]
  },
  {
   "cell_type": "code",
   "execution_count": 367,
   "metadata": {},
   "outputs": [
    {
     "name": "stdout",
     "output_type": "stream",
     "text": [
      "Mean Squared Error (MSE): 53.6990854156242\n",
      "R-squared (R2 ): 0.036181435922571836\n"
     ]
    }
   ],
   "source": [
    "low_predicted = model.predict(low_X_test)\n",
    "\n",
    "# Score the predictions with mse and r2\n",
    "mse = mean_squared_error(low_y_test, low_predicted)\n",
    "r2 = r2_score(low_y_test, low_predicted)\n",
    "\n",
    "print(f\"Mean Squared Error (MSE): {mse}\")\n",
    "print(f\"R-squared (R2 ): {r2}\")"
   ]
  },
  {
   "cell_type": "code",
   "execution_count": 368,
   "metadata": {},
   "outputs": [
    {
     "data": {
      "text/plain": [
       "[(0.45831457345302035, 'percent_uninsured'),\n",
       " (0.1563441696462406, 'clinics_per_capita'),\n",
       " (0.1148433252484689, 'pp_clients_per_capita'),\n",
       " (0.09665724206599785, 'title_10_clients_per_capita'),\n",
       " (0.06684976587924202, 'title10_clinics_per_capita'),\n",
       " (0.035569951678650825, 'health_dept_per_capita'),\n",
       " (0.02996343340972394, 'dept_clinic_title10_per_capita'),\n",
       " (0.024496993277087604, 'pp_per_capita'),\n",
       " (0.009233717069682339, 'hospitals_per_capita'),\n",
       " (0.004335596175100025, 'binary_pp'),\n",
       " (0.003391232096785477, 'binary_pp_tt')]"
      ]
     },
     "execution_count": 368,
     "metadata": {},
     "output_type": "execute_result"
    }
   ],
   "source": [
    "sorted(zip(model.feature_importances_, feature_names), reverse=True)"
   ]
  },
  {
   "cell_type": "code",
   "execution_count": 359,
   "metadata": {},
   "outputs": [
    {
     "name": "stdout",
     "output_type": "stream",
     "text": [
      "Shape:  (1016, 11) (1016,)\n"
     ]
    }
   ],
   "source": [
    "mid_SVI_X = medium_SVI[['clinics_per_capita',\n",
    "       'title10_clinics_per_capita', 'pp_per_capita', 'health_dept_per_capita',\n",
    "       'hospitals_per_capita', 'title_10_clients_per_capita',\n",
    "       'pp_clients_per_capita', 'dept_clinic_title10_per_capita','binary_pp',\n",
    "       'binary_pp_tt','percent_uninsured']]\n",
    "mid_SVI_y = medium_SVI[\"birth_rate\"]\n",
    "\n",
    "feature_names = ['clinics_per_capita',\n",
    "       'title10_clinics_per_capita', 'pp_per_capita', 'health_dept_per_capita',\n",
    "       'hospitals_per_capita', 'title_10_clients_per_capita',\n",
    "       'pp_clients_per_capita', 'dept_clinic_title10_per_capita','binary_pp',\n",
    "       'binary_pp_tt','percent_uninsured']\n",
    "\n",
    "print(\"Shape: \", mid_SVI_X.shape, mid_SVI_y.shape)"
   ]
  },
  {
   "cell_type": "code",
   "execution_count": 360,
   "metadata": {},
   "outputs": [],
   "source": [
    "mid_X_train, mid_X_test, mid_y_train, mid_y_test = train_test_split(mid_SVI_X, mid_SVI_y, random_state=1)"
   ]
  },
  {
   "cell_type": "code",
   "execution_count": 361,
   "metadata": {},
   "outputs": [
    {
     "data": {
      "text/plain": [
       "RandomForestRegressor(max_depth=7, random_state=1)"
      ]
     },
     "execution_count": 361,
     "metadata": {},
     "output_type": "execute_result"
    }
   ],
   "source": [
    "model.fit(mid_X_train, mid_y_train)"
   ]
  },
  {
   "cell_type": "code",
   "execution_count": 362,
   "metadata": {},
   "outputs": [
    {
     "name": "stdout",
     "output_type": "stream",
     "text": [
      "Mean Squared Error (MSE): 72.6385200283917\n",
      "R-squared (R2 ): 0.23323342727535012\n"
     ]
    }
   ],
   "source": [
    "mid_predicted = model.predict(mid_X_test)\n",
    "\n",
    "# Score the predictions with mse and r2\n",
    "mse = mean_squared_error(mid_y_test, mid_predicted)\n",
    "r2 = r2_score(mid_y_test, mid_predicted)\n",
    "\n",
    "print(f\"Mean Squared Error (MSE): {mse}\")\n",
    "print(f\"R-squared (R2 ): {r2}\")"
   ]
  },
  {
   "cell_type": "code",
   "execution_count": 363,
   "metadata": {},
   "outputs": [
    {
     "data": {
      "text/plain": [
       "[(0.31368340762615365, 'percent_uninsured'),\n",
       " (0.1405508015281676, 'title_10_clients_per_capita'),\n",
       " (0.12806797553012816, 'clinics_per_capita'),\n",
       " (0.12443878751547613, 'pp_clients_per_capita'),\n",
       " (0.09962690428033649, 'title10_clinics_per_capita'),\n",
       " (0.06550129416138822, 'health_dept_per_capita'),\n",
       " (0.060279186840883264, 'dept_clinic_title10_per_capita'),\n",
       " (0.032776182552813456, 'hospitals_per_capita'),\n",
       " (0.019086229683915153, 'binary_pp_tt'),\n",
       " (0.012856089379629, 'pp_per_capita'),\n",
       " (0.0031331409011088507, 'binary_pp')]"
      ]
     },
     "execution_count": 363,
     "metadata": {},
     "output_type": "execute_result"
    }
   ],
   "source": [
    "sorted(zip(model.feature_importances_, feature_names), reverse=True)"
   ]
  },
  {
   "cell_type": "code",
   "execution_count": 353,
   "metadata": {},
   "outputs": [
    {
     "name": "stdout",
     "output_type": "stream",
     "text": [
      "Shape:  (1016, 11) (1016,)\n"
     ]
    }
   ],
   "source": [
    "high_SVI_X = high_SVI[['clinics_per_capita',\n",
    "       'title10_clinics_per_capita', 'pp_per_capita', 'health_dept_per_capita',\n",
    "       'hospitals_per_capita', 'title_10_clients_per_capita',\n",
    "       'pp_clients_per_capita', 'dept_clinic_title10_per_capita','binary_pp',\n",
    "       'binary_pp_tt','percent_uninsured']]\n",
    "high_SVI_y = high_SVI[\"birth_rate\"]\n",
    "\n",
    "feature_names = ['clinics_per_capita',\n",
    "       'title10_clinics_per_capita', 'pp_per_capita', 'health_dept_per_capita',\n",
    "       'hospitals_per_capita', 'title_10_clients_per_capita',\n",
    "       'pp_clients_per_capita', 'dept_clinic_title10_per_capita','binary_pp',\n",
    "       'binary_pp_tt','percent_uninsured']\n",
    "\n",
    "print(\"Shape: \", high_SVI_X.shape, high_SVI_y.shape)"
   ]
  },
  {
   "cell_type": "code",
   "execution_count": 354,
   "metadata": {},
   "outputs": [],
   "source": [
    "high_X_train, high_X_test, high_y_train, high_y_test = train_test_split(high_SVI_X, high_SVI_y, random_state=1)"
   ]
  },
  {
   "cell_type": "code",
   "execution_count": 355,
   "metadata": {},
   "outputs": [
    {
     "data": {
      "text/plain": [
       "RandomForestRegressor(max_depth=7, random_state=1)"
      ]
     },
     "execution_count": 355,
     "metadata": {},
     "output_type": "execute_result"
    }
   ],
   "source": [
    "model.fit(high_X_train, high_y_train)"
   ]
  },
  {
   "cell_type": "code",
   "execution_count": 356,
   "metadata": {},
   "outputs": [
    {
     "name": "stdout",
     "output_type": "stream",
     "text": [
      "Mean Squared Error (MSE): 129.66166225302067\n",
      "R-squared (R2 ): 0.17434620008922186\n"
     ]
    }
   ],
   "source": [
    "high_predicted = model.predict(high_X_test)\n",
    "\n",
    "# Score the predictions with mse and r2\n",
    "mse = mean_squared_error(high_y_test, high_predicted)\n",
    "r2 = r2_score(high_y_test, high_predicted)\n",
    "\n",
    "print(f\"Mean Squared Error (MSE): {mse}\")\n",
    "print(f\"R-squared (R2 ): {r2}\")"
   ]
  },
  {
   "cell_type": "code",
   "execution_count": 357,
   "metadata": {},
   "outputs": [
    {
     "data": {
      "text/plain": [
       "[(0.39066175199751635, 'percent_uninsured'),\n",
       " (0.13631572893091307, 'clinics_per_capita'),\n",
       " (0.10519565190351263, 'health_dept_per_capita'),\n",
       " (0.09856304857736356, 'pp_clients_per_capita'),\n",
       " (0.0767413360544299, 'title_10_clients_per_capita'),\n",
       " (0.06885277079204526, 'title10_clinics_per_capita'),\n",
       " (0.05857496089674867, 'dept_clinic_title10_per_capita'),\n",
       " (0.031145026519825057, 'pp_per_capita'),\n",
       " (0.027697378381581535, 'binary_pp'),\n",
       " (0.004914077894458372, 'hospitals_per_capita'),\n",
       " (0.0013382680516053802, 'binary_pp_tt')]"
      ]
     },
     "execution_count": 357,
     "metadata": {},
     "output_type": "execute_result"
    }
   ],
   "source": [
    "sorted(zip(model.feature_importances_, feature_names), reverse=True)"
   ]
  },
  {
   "cell_type": "code",
   "execution_count": null,
   "metadata": {},
   "outputs": [],
   "source": []
  }
 ],
 "metadata": {
  "kernelspec": {
   "display_name": "Python 3",
   "language": "python",
   "name": "python3"
  },
  "language_info": {
   "codemirror_mode": {
    "name": "ipython",
    "version": 3
   },
   "file_extension": ".py",
   "mimetype": "text/x-python",
   "name": "python",
   "nbconvert_exporter": "python",
   "pygments_lexer": "ipython3",
   "version": "3.8.5"
  }
 },
 "nbformat": 4,
 "nbformat_minor": 4
}
