{
 "cells": [
  {
   "cell_type": "code",
   "execution_count": 1,
   "metadata": {},
   "outputs": [],
   "source": [
    "# Import dependencies \n",
    "import numpy as np\n",
    "import pandas as pd\n",
    "import csv\n",
    "\n",
    "import sqlite3\n",
    "\n",
    "from sqlalchemy.ext.automap import automap_base\n",
    "from sqlalchemy.orm import Session\n",
    "from sqlalchemy import create_engine\n",
    "\n",
    "# Machine learning libraries (included inline in code)\n",
    "#from sklearn.model_selection import train_test_split \n",
    "#from sklearn.ensemble import RandomForestRegressor\n",
    "#from sklearn.metrics import mean_squared_error, r2_score\n",
    "#from sklearn.model_selection import RandomizedSearchCV\n",
    "#from sklearn.model_selection import GridSearchCV\n",
    "\n",
    "# Pickle will allow us to save our model in a usable manner \n",
    "import pickle \n",
    "\n",
    "# Setting engine for SQLite connection\n",
    "engine = create_engine(\"sqlite:///birthdata.sqlite\", echo=False)\n"
   ]
  },
  {
   "cell_type": "markdown",
   "metadata": {},
   "source": [
    "## Starting SQLite Connection"
   ]
  },
  {
   "cell_type": "code",
   "execution_count": 2,
   "metadata": {},
   "outputs": [
    {
     "name": "stdout",
     "output_type": "stream",
     "text": [
      "['clinic2010_county', 'clinic2010_state', 'clinic2015_county', 'clinic2015_state', 'county', 'county_pop', 'county_svi', 'national', 'outcomes']\n"
     ]
    }
   ],
   "source": [
    "# Checking classes were made successfully: https://stackoverflow.com/questions/42946174/sqlalchemy-automap-not-generating-base-classes-table-name\n",
    "engine = create_engine(\"sqlite:///birthdata.sqlite\", echo=False)\n",
    "\n",
    "# Declare a Base using `automap_base()`\n",
    "Base = automap_base()\n",
    "\n",
    "# Use the Base class to reflect the database tables\n",
    "Base.prepare(engine, reflect=True)\n",
    "\n",
    "# Print all of the classes mapped to the Base\n",
    "print(Base.classes.keys())\n"
   ]
  },
  {
   "cell_type": "markdown",
   "metadata": {},
   "source": [
    "### Naming Classes"
   ]
  },
  {
   "cell_type": "code",
   "execution_count": 3,
   "metadata": {},
   "outputs": [],
   "source": [
    "# Create a session\n",
    "session = Session(engine)\n",
    "\n",
    "# Assign the classes to variables\n",
    "# New classes \n",
    "County2015 = Base.classes.clinic2015_county\n",
    "State2015 = Base.classes.clinic2015_state\n",
    "County2010 = Base.classes.clinic2010_county\n",
    "State2010 = Base.classes.clinic2010_state\n",
    "Outcomes = Base.classes.outcomes\n",
    "Countypop = Base.classes.county_pop\n",
    "CountySVI = Base.classes.county_svi\n",
    "\n",
    "# Prior classes \n",
    "County_births = Base.classes.county\n",
    "State_births = Base.classes.national\n"
   ]
  },
  {
   "cell_type": "markdown",
   "metadata": {},
   "source": [
    "## Querying SQLite"
   ]
  },
  {
   "cell_type": "code",
   "execution_count": 4,
   "metadata": {},
   "outputs": [],
   "source": [
    "# Using a join in our query to pull several tables together\n",
    "# Resource: https://www.kite.com/python/answers/how-to-join-multiple-tables-together-in-sqlalchemy-in-python#:~:text=Use%20Query.,sequence%20to%20tables%20to%20join.\n",
    "join_query = session.query(County2015.fips, County2015.total_clinics, County2015.total_titleten, County2015.pp,\\\n",
    "                           County2015.dept_clinic, County2015.hospital, County2015.total_client_tt,\\\n",
    "                           County2015.pp_client, County2015.dept_clinic_tt, County2015.pp_tt,\\\n",
    "                           County2015.total_client, County2015.hospital_client, County_births.birth_rate,\\\n",
    "                           County_births.year, County_births.state, County_births.county)\\\n",
    "                    .join(County_births, County_births.combined_fips_code == County2015.fips)\\\n",
    "                    .filter(County_births.year==\"2016\")\n",
    "\n",
    "\n",
    "county_df = pd.DataFrame(join_query, columns=[\"FIPS\", \"total_clinics\", \"total_title10\", \"total_pp\", \"health_dept_clinics\", \n",
    "                                              \"hospitals\",\"title_10_clients\",\"pp_clients\", \"dept_clinic_title10\",\"pp_tt\",\n",
    "                                              \"total_clients\",\"hospital_client\",\"birth_rate\", \"year\", \"state\", \"county\"])\n",
    "\n",
    "# Drop NaN rows, which will mess with the ML\n",
    "county_df = county_df.dropna()\n"
   ]
  },
  {
   "cell_type": "code",
   "execution_count": 5,
   "metadata": {},
   "outputs": [
    {
     "data": {
      "text/html": [
       "<div>\n",
       "<style scoped>\n",
       "    .dataframe tbody tr th:only-of-type {\n",
       "        vertical-align: middle;\n",
       "    }\n",
       "\n",
       "    .dataframe tbody tr th {\n",
       "        vertical-align: top;\n",
       "    }\n",
       "\n",
       "    .dataframe thead th {\n",
       "        text-align: right;\n",
       "    }\n",
       "</style>\n",
       "<table border=\"1\" class=\"dataframe\">\n",
       "  <thead>\n",
       "    <tr style=\"text-align: right;\">\n",
       "      <th></th>\n",
       "      <th>FIPS</th>\n",
       "      <th>total_clinics</th>\n",
       "      <th>total_title10</th>\n",
       "      <th>total_pp</th>\n",
       "      <th>health_dept_clinics</th>\n",
       "      <th>hospitals</th>\n",
       "      <th>title_10_clients</th>\n",
       "      <th>pp_clients</th>\n",
       "      <th>dept_clinic_title10</th>\n",
       "      <th>pp_tt</th>\n",
       "      <th>total_clients</th>\n",
       "      <th>hospital_client</th>\n",
       "      <th>birth_rate</th>\n",
       "      <th>year</th>\n",
       "      <th>state</th>\n",
       "      <th>county</th>\n",
       "    </tr>\n",
       "  </thead>\n",
       "  <tbody>\n",
       "    <tr>\n",
       "      <th>0</th>\n",
       "      <td>1001</td>\n",
       "      <td>2</td>\n",
       "      <td>1</td>\n",
       "      <td>0</td>\n",
       "      <td>1</td>\n",
       "      <td>0</td>\n",
       "      <td>870.0</td>\n",
       "      <td>0</td>\n",
       "      <td>1</td>\n",
       "      <td>0</td>\n",
       "      <td>1040.0</td>\n",
       "      <td>0</td>\n",
       "      <td>23.1</td>\n",
       "      <td>2016</td>\n",
       "      <td>Alabama</td>\n",
       "      <td>Autauga</td>\n",
       "    </tr>\n",
       "    <tr>\n",
       "      <th>1</th>\n",
       "      <td>1003</td>\n",
       "      <td>6</td>\n",
       "      <td>2</td>\n",
       "      <td>0</td>\n",
       "      <td>2</td>\n",
       "      <td>0</td>\n",
       "      <td>990.0</td>\n",
       "      <td>0</td>\n",
       "      <td>2</td>\n",
       "      <td>0</td>\n",
       "      <td>2010.0</td>\n",
       "      <td>0</td>\n",
       "      <td>25.6</td>\n",
       "      <td>2016</td>\n",
       "      <td>Alabama</td>\n",
       "      <td>Baldwin</td>\n",
       "    </tr>\n",
       "    <tr>\n",
       "      <th>2</th>\n",
       "      <td>1005</td>\n",
       "      <td>3</td>\n",
       "      <td>2</td>\n",
       "      <td>0</td>\n",
       "      <td>2</td>\n",
       "      <td>0</td>\n",
       "      <td>900.0</td>\n",
       "      <td>0</td>\n",
       "      <td>2</td>\n",
       "      <td>0</td>\n",
       "      <td>940.0</td>\n",
       "      <td>0</td>\n",
       "      <td>36.6</td>\n",
       "      <td>2016</td>\n",
       "      <td>Alabama</td>\n",
       "      <td>Barbour</td>\n",
       "    </tr>\n",
       "    <tr>\n",
       "      <th>3</th>\n",
       "      <td>1007</td>\n",
       "      <td>5</td>\n",
       "      <td>1</td>\n",
       "      <td>0</td>\n",
       "      <td>1</td>\n",
       "      <td>0</td>\n",
       "      <td>510.0</td>\n",
       "      <td>0</td>\n",
       "      <td>1</td>\n",
       "      <td>0</td>\n",
       "      <td>710.0</td>\n",
       "      <td>0</td>\n",
       "      <td>36.5</td>\n",
       "      <td>2016</td>\n",
       "      <td>Alabama</td>\n",
       "      <td>Bibb</td>\n",
       "    </tr>\n",
       "    <tr>\n",
       "      <th>4</th>\n",
       "      <td>1009</td>\n",
       "      <td>2</td>\n",
       "      <td>1</td>\n",
       "      <td>0</td>\n",
       "      <td>1</td>\n",
       "      <td>0</td>\n",
       "      <td>1200.0</td>\n",
       "      <td>0</td>\n",
       "      <td>1</td>\n",
       "      <td>0</td>\n",
       "      <td>1290.0</td>\n",
       "      <td>0</td>\n",
       "      <td>30.6</td>\n",
       "      <td>2016</td>\n",
       "      <td>Alabama</td>\n",
       "      <td>Blount</td>\n",
       "    </tr>\n",
       "  </tbody>\n",
       "</table>\n",
       "</div>"
      ],
      "text/plain": [
       "   FIPS  total_clinics  total_title10  total_pp  health_dept_clinics  \\\n",
       "0  1001              2              1         0                    1   \n",
       "1  1003              6              2         0                    2   \n",
       "2  1005              3              2         0                    2   \n",
       "3  1007              5              1         0                    1   \n",
       "4  1009              2              1         0                    1   \n",
       "\n",
       "   hospitals  title_10_clients  pp_clients  dept_clinic_title10  pp_tt  \\\n",
       "0          0             870.0           0                    1      0   \n",
       "1          0             990.0           0                    2      0   \n",
       "2          0             900.0           0                    2      0   \n",
       "3          0             510.0           0                    1      0   \n",
       "4          0            1200.0           0                    1      0   \n",
       "\n",
       "   total_clients  hospital_client  birth_rate  year    state   county  \n",
       "0         1040.0                0        23.1  2016  Alabama  Autauga  \n",
       "1         2010.0                0        25.6  2016  Alabama  Baldwin  \n",
       "2          940.0                0        36.6  2016  Alabama  Barbour  \n",
       "3          710.0                0        36.5  2016  Alabama     Bibb  \n",
       "4         1290.0                0        30.6  2016  Alabama   Blount  "
      ]
     },
     "execution_count": 5,
     "metadata": {},
     "output_type": "execute_result"
    }
   ],
   "source": [
    "session.close()\n",
    "\n",
    "county_df.head()"
   ]
  },
  {
   "cell_type": "code",
   "execution_count": 6,
   "metadata": {},
   "outputs": [
    {
     "data": {
      "text/plain": [
       "(3100, 16)"
      ]
     },
     "execution_count": 6,
     "metadata": {},
     "output_type": "execute_result"
    }
   ],
   "source": [
    "county_df.shape"
   ]
  },
  {
   "cell_type": "code",
   "execution_count": 7,
   "metadata": {},
   "outputs": [
    {
     "data": {
      "text/plain": [
       "array([2016])"
      ]
     },
     "execution_count": 7,
     "metadata": {},
     "output_type": "execute_result"
    }
   ],
   "source": [
    "county_df[\"year\"].unique()"
   ]
  },
  {
   "cell_type": "markdown",
   "metadata": {},
   "source": [
    "## Adding in Population Data by County "
   ]
  },
  {
   "cell_type": "code",
   "execution_count": 8,
   "metadata": {},
   "outputs": [
    {
     "data": {
      "text/html": [
       "<div>\n",
       "<style scoped>\n",
       "    .dataframe tbody tr th:only-of-type {\n",
       "        vertical-align: middle;\n",
       "    }\n",
       "\n",
       "    .dataframe tbody tr th {\n",
       "        vertical-align: top;\n",
       "    }\n",
       "\n",
       "    .dataframe thead th {\n",
       "        text-align: right;\n",
       "    }\n",
       "</style>\n",
       "<table border=\"1\" class=\"dataframe\">\n",
       "  <thead>\n",
       "    <tr style=\"text-align: right;\">\n",
       "      <th></th>\n",
       "      <th>state</th>\n",
       "      <th>county</th>\n",
       "      <th>population_2010</th>\n",
       "      <th>population_2015</th>\n",
       "    </tr>\n",
       "    <tr>\n",
       "      <th>index</th>\n",
       "      <th></th>\n",
       "      <th></th>\n",
       "      <th></th>\n",
       "      <th></th>\n",
       "    </tr>\n",
       "  </thead>\n",
       "  <tbody>\n",
       "    <tr>\n",
       "      <th>0</th>\n",
       "      <td>Iowa</td>\n",
       "      <td>Adair</td>\n",
       "      <td>7682</td>\n",
       "      <td>7145</td>\n",
       "    </tr>\n",
       "    <tr>\n",
       "      <th>1</th>\n",
       "      <td>Kentucky</td>\n",
       "      <td>Adair</td>\n",
       "      <td>18656</td>\n",
       "      <td>19162</td>\n",
       "    </tr>\n",
       "    <tr>\n",
       "      <th>2</th>\n",
       "      <td>Missouri</td>\n",
       "      <td>Adair</td>\n",
       "      <td>25607</td>\n",
       "      <td>25353</td>\n",
       "    </tr>\n",
       "    <tr>\n",
       "      <th>3</th>\n",
       "      <td>Oklahoma</td>\n",
       "      <td>Adair</td>\n",
       "      <td>22683</td>\n",
       "      <td>22259</td>\n",
       "    </tr>\n",
       "    <tr>\n",
       "      <th>4</th>\n",
       "      <td>Colorado</td>\n",
       "      <td>Adams</td>\n",
       "      <td>441603</td>\n",
       "      <td>490443</td>\n",
       "    </tr>\n",
       "    <tr>\n",
       "      <th>...</th>\n",
       "      <td>...</td>\n",
       "      <td>...</td>\n",
       "      <td>...</td>\n",
       "      <td>...</td>\n",
       "    </tr>\n",
       "    <tr>\n",
       "      <th>3136</th>\n",
       "      <td>California</td>\n",
       "      <td>Yuba</td>\n",
       "      <td>72155</td>\n",
       "      <td>74045</td>\n",
       "    </tr>\n",
       "    <tr>\n",
       "      <th>3137</th>\n",
       "      <td>Alaska</td>\n",
       "      <td>Yukon-Koyukuk</td>\n",
       "      <td>5588</td>\n",
       "      <td>5465</td>\n",
       "    </tr>\n",
       "    <tr>\n",
       "      <th>3138</th>\n",
       "      <td>Texas</td>\n",
       "      <td>Zapata</td>\n",
       "      <td>14018</td>\n",
       "      <td>14493</td>\n",
       "    </tr>\n",
       "    <tr>\n",
       "      <th>3139</th>\n",
       "      <td>Texas</td>\n",
       "      <td>Zavala</td>\n",
       "      <td>11677</td>\n",
       "      <td>12310</td>\n",
       "    </tr>\n",
       "    <tr>\n",
       "      <th>3140</th>\n",
       "      <td>South Dakota</td>\n",
       "      <td>Ziebach</td>\n",
       "      <td>2801</td>\n",
       "      <td>2837</td>\n",
       "    </tr>\n",
       "  </tbody>\n",
       "</table>\n",
       "<p>3141 rows × 4 columns</p>\n",
       "</div>"
      ],
      "text/plain": [
       "              state         county  population_2010  population_2015\n",
       "index                                                               \n",
       "0              Iowa          Adair             7682             7145\n",
       "1          Kentucky          Adair            18656            19162\n",
       "2          Missouri          Adair            25607            25353\n",
       "3          Oklahoma          Adair            22683            22259\n",
       "4          Colorado          Adams           441603           490443\n",
       "...             ...            ...              ...              ...\n",
       "3136     California           Yuba            72155            74045\n",
       "3137         Alaska  Yukon-Koyukuk             5588             5465\n",
       "3138          Texas         Zapata            14018            14493\n",
       "3139          Texas         Zavala            11677            12310\n",
       "3140   South Dakota        Ziebach             2801             2837\n",
       "\n",
       "[3141 rows x 4 columns]"
      ]
     },
     "execution_count": 8,
     "metadata": {},
     "output_type": "execute_result"
    }
   ],
   "source": [
    "# Use Pandas read sql to grab the entire table into a df \n",
    "county_populations = pd.read_sql_query('SELECT * FROM county_pop', con=engine)\n",
    "county_populations.set_index('index', inplace=True)\n",
    "county_populations\n"
   ]
  },
  {
   "cell_type": "code",
   "execution_count": 9,
   "metadata": {},
   "outputs": [],
   "source": [
    "# Merging this population data with the prior df \n",
    "county_df = county_df.merge(county_populations, how='left', on=[\"state\",\"county\"])\n"
   ]
  },
  {
   "cell_type": "markdown",
   "metadata": {},
   "source": [
    "## Adding in Social Vulnerability Index Data "
   ]
  },
  {
   "cell_type": "code",
   "execution_count": 10,
   "metadata": {},
   "outputs": [
    {
     "data": {
      "text/html": [
       "<div>\n",
       "<style scoped>\n",
       "    .dataframe tbody tr th:only-of-type {\n",
       "        vertical-align: middle;\n",
       "    }\n",
       "\n",
       "    .dataframe tbody tr th {\n",
       "        vertical-align: top;\n",
       "    }\n",
       "\n",
       "    .dataframe thead th {\n",
       "        text-align: right;\n",
       "    }\n",
       "</style>\n",
       "<table border=\"1\" class=\"dataframe\">\n",
       "  <thead>\n",
       "    <tr style=\"text-align: right;\">\n",
       "      <th></th>\n",
       "      <th>FIPS</th>\n",
       "      <th>SVI_sum_of_indicators</th>\n",
       "      <th>SVI_ranking</th>\n",
       "      <th>percent_uninsured</th>\n",
       "    </tr>\n",
       "    <tr>\n",
       "      <th>index</th>\n",
       "      <th></th>\n",
       "      <th></th>\n",
       "      <th></th>\n",
       "      <th></th>\n",
       "    </tr>\n",
       "  </thead>\n",
       "  <tbody>\n",
       "    <tr>\n",
       "      <th>0</th>\n",
       "      <td>8093</td>\n",
       "      <td>1.9147</td>\n",
       "      <td>0.0000</td>\n",
       "      <td>11.6</td>\n",
       "    </tr>\n",
       "    <tr>\n",
       "      <th>1</th>\n",
       "      <td>17133</td>\n",
       "      <td>2.4187</td>\n",
       "      <td>0.0003</td>\n",
       "      <td>4.2</td>\n",
       "    </tr>\n",
       "    <tr>\n",
       "      <th>2</th>\n",
       "      <td>31115</td>\n",
       "      <td>2.5091</td>\n",
       "      <td>0.0006</td>\n",
       "      <td>9.2</td>\n",
       "    </tr>\n",
       "    <tr>\n",
       "      <th>3</th>\n",
       "      <td>32011</td>\n",
       "      <td>2.5842</td>\n",
       "      <td>0.0010</td>\n",
       "      <td>16.6</td>\n",
       "    </tr>\n",
       "    <tr>\n",
       "      <th>4</th>\n",
       "      <td>30069</td>\n",
       "      <td>2.5985</td>\n",
       "      <td>0.0013</td>\n",
       "      <td>22.9</td>\n",
       "    </tr>\n",
       "    <tr>\n",
       "      <th>...</th>\n",
       "      <td>...</td>\n",
       "      <td>...</td>\n",
       "      <td>...</td>\n",
       "      <td>...</td>\n",
       "    </tr>\n",
       "    <tr>\n",
       "      <th>3137</th>\n",
       "      <td>48507</td>\n",
       "      <td>12.2951</td>\n",
       "      <td>0.9987</td>\n",
       "      <td>21.7</td>\n",
       "    </tr>\n",
       "    <tr>\n",
       "      <th>3138</th>\n",
       "      <td>48047</td>\n",
       "      <td>12.3448</td>\n",
       "      <td>0.9990</td>\n",
       "      <td>23.5</td>\n",
       "    </tr>\n",
       "    <tr>\n",
       "      <th>3139</th>\n",
       "      <td>35006</td>\n",
       "      <td>12.3728</td>\n",
       "      <td>0.9994</td>\n",
       "      <td>19.0</td>\n",
       "    </tr>\n",
       "    <tr>\n",
       "      <th>3140</th>\n",
       "      <td>35029</td>\n",
       "      <td>12.4680</td>\n",
       "      <td>0.9997</td>\n",
       "      <td>16.7</td>\n",
       "    </tr>\n",
       "    <tr>\n",
       "      <th>3141</th>\n",
       "      <td>1105</td>\n",
       "      <td>12.5072</td>\n",
       "      <td>1.0000</td>\n",
       "      <td>15.4</td>\n",
       "    </tr>\n",
       "  </tbody>\n",
       "</table>\n",
       "<p>3142 rows × 4 columns</p>\n",
       "</div>"
      ],
      "text/plain": [
       "        FIPS  SVI_sum_of_indicators  SVI_ranking  percent_uninsured\n",
       "index                                                              \n",
       "0       8093                 1.9147       0.0000               11.6\n",
       "1      17133                 2.4187       0.0003                4.2\n",
       "2      31115                 2.5091       0.0006                9.2\n",
       "3      32011                 2.5842       0.0010               16.6\n",
       "4      30069                 2.5985       0.0013               22.9\n",
       "...      ...                    ...          ...                ...\n",
       "3137   48507                12.2951       0.9987               21.7\n",
       "3138   48047                12.3448       0.9990               23.5\n",
       "3139   35006                12.3728       0.9994               19.0\n",
       "3140   35029                12.4680       0.9997               16.7\n",
       "3141    1105                12.5072       1.0000               15.4\n",
       "\n",
       "[3142 rows x 4 columns]"
      ]
     },
     "execution_count": 10,
     "metadata": {},
     "output_type": "execute_result"
    }
   ],
   "source": [
    "# Use Pandas read sql to grab the entire table into a df \n",
    "county_SVI = pd.read_sql_query('SELECT * FROM county_svi', con=engine)\n",
    "county_SVI.set_index('index', inplace=True)\n",
    "county_SVI=county_SVI.drop(columns=[\"state\",\"county\"])\n",
    "county_SVI\n"
   ]
  },
  {
   "cell_type": "code",
   "execution_count": 11,
   "metadata": {},
   "outputs": [],
   "source": [
    "# Merging this SVI data with the first df \n",
    "county_df=county_df.merge(county_SVI, how='left', on=\"FIPS\")\n"
   ]
  },
  {
   "cell_type": "markdown",
   "metadata": {},
   "source": [
    "## Per Capita Calculations"
   ]
  },
  {
   "cell_type": "code",
   "execution_count": 12,
   "metadata": {},
   "outputs": [],
   "source": [
    "# Transforming data to a per capita basis\n",
    "county_df[\"clinics_per_capita\"] = county_df[\"total_clinics\"]/county_df[\"population_2015\"]\n",
    "county_df[\"title10_clinics_per_capita\"] = county_df[\"total_title10\"]/county_df[\"population_2015\"]\n",
    "county_df[\"pp_per_capita\"] = county_df[\"total_pp\"]/county_df[\"population_2015\"]\n",
    "county_df[\"health_dept_per_capita\"] = county_df['health_dept_clinics']/county_df[\"population_2015\"]\n",
    "county_df[\"hospitals_per_capita\"] = county_df['hospitals']/county_df[\"population_2015\"]\n",
    "county_df[\"title_10_clients_per_capita\"] = county_df[\"title_10_clients\"]/county_df[\"population_2015\"]\n",
    "county_df[\"pp_clients_per_capita\"] = county_df['pp_clients']/county_df[\"population_2015\"]\n",
    "county_df[\"dept_clinic_title10_per_capita\"] = county_df['dept_clinic_title10']/county_df[\"population_2015\"]\n"
   ]
  },
  {
   "cell_type": "code",
   "execution_count": 13,
   "metadata": {},
   "outputs": [
    {
     "data": {
      "text/plain": [
       "(3071, 29)"
      ]
     },
     "execution_count": 13,
     "metadata": {},
     "output_type": "execute_result"
    }
   ],
   "source": [
    "county_df = county_df.dropna()\n",
    "county_df.shape"
   ]
  },
  {
   "cell_type": "code",
   "execution_count": 14,
   "metadata": {},
   "outputs": [
    {
     "data": {
      "text/html": [
       "<div>\n",
       "<style scoped>\n",
       "    .dataframe tbody tr th:only-of-type {\n",
       "        vertical-align: middle;\n",
       "    }\n",
       "\n",
       "    .dataframe tbody tr th {\n",
       "        vertical-align: top;\n",
       "    }\n",
       "\n",
       "    .dataframe thead th {\n",
       "        text-align: right;\n",
       "    }\n",
       "</style>\n",
       "<table border=\"1\" class=\"dataframe\">\n",
       "  <thead>\n",
       "    <tr style=\"text-align: right;\">\n",
       "      <th></th>\n",
       "      <th>FIPS</th>\n",
       "      <th>total_clinics</th>\n",
       "      <th>total_title10</th>\n",
       "      <th>total_pp</th>\n",
       "      <th>health_dept_clinics</th>\n",
       "      <th>hospitals</th>\n",
       "      <th>title_10_clients</th>\n",
       "      <th>pp_clients</th>\n",
       "      <th>dept_clinic_title10</th>\n",
       "      <th>pp_tt</th>\n",
       "      <th>...</th>\n",
       "      <th>SVI_ranking</th>\n",
       "      <th>percent_uninsured</th>\n",
       "      <th>clinics_per_capita</th>\n",
       "      <th>title10_clinics_per_capita</th>\n",
       "      <th>pp_per_capita</th>\n",
       "      <th>health_dept_per_capita</th>\n",
       "      <th>hospitals_per_capita</th>\n",
       "      <th>title_10_clients_per_capita</th>\n",
       "      <th>pp_clients_per_capita</th>\n",
       "      <th>dept_clinic_title10_per_capita</th>\n",
       "    </tr>\n",
       "  </thead>\n",
       "  <tbody>\n",
       "    <tr>\n",
       "      <th>0</th>\n",
       "      <td>1001</td>\n",
       "      <td>2</td>\n",
       "      <td>1</td>\n",
       "      <td>0</td>\n",
       "      <td>1</td>\n",
       "      <td>0</td>\n",
       "      <td>870.0</td>\n",
       "      <td>0</td>\n",
       "      <td>1</td>\n",
       "      <td>0</td>\n",
       "      <td>...</td>\n",
       "      <td>0.3773</td>\n",
       "      <td>8.9</td>\n",
       "      <td>0.000036</td>\n",
       "      <td>0.000018</td>\n",
       "      <td>0.0</td>\n",
       "      <td>0.000018</td>\n",
       "      <td>0.0</td>\n",
       "      <td>0.015857</td>\n",
       "      <td>0.0</td>\n",
       "      <td>0.000018</td>\n",
       "    </tr>\n",
       "    <tr>\n",
       "      <th>1</th>\n",
       "      <td>1003</td>\n",
       "      <td>6</td>\n",
       "      <td>2</td>\n",
       "      <td>0</td>\n",
       "      <td>2</td>\n",
       "      <td>0</td>\n",
       "      <td>990.0</td>\n",
       "      <td>0</td>\n",
       "      <td>2</td>\n",
       "      <td>0</td>\n",
       "      <td>...</td>\n",
       "      <td>0.2757</td>\n",
       "      <td>11.8</td>\n",
       "      <td>0.000030</td>\n",
       "      <td>0.000010</td>\n",
       "      <td>0.0</td>\n",
       "      <td>0.000010</td>\n",
       "      <td>0.0</td>\n",
       "      <td>0.004878</td>\n",
       "      <td>0.0</td>\n",
       "      <td>0.000010</td>\n",
       "    </tr>\n",
       "    <tr>\n",
       "      <th>2</th>\n",
       "      <td>1005</td>\n",
       "      <td>3</td>\n",
       "      <td>2</td>\n",
       "      <td>0</td>\n",
       "      <td>2</td>\n",
       "      <td>0</td>\n",
       "      <td>900.0</td>\n",
       "      <td>0</td>\n",
       "      <td>2</td>\n",
       "      <td>0</td>\n",
       "      <td>...</td>\n",
       "      <td>0.9847</td>\n",
       "      <td>13.0</td>\n",
       "      <td>0.000114</td>\n",
       "      <td>0.000076</td>\n",
       "      <td>0.0</td>\n",
       "      <td>0.000076</td>\n",
       "      <td>0.0</td>\n",
       "      <td>0.034243</td>\n",
       "      <td>0.0</td>\n",
       "      <td>0.000076</td>\n",
       "    </tr>\n",
       "    <tr>\n",
       "      <th>3</th>\n",
       "      <td>1007</td>\n",
       "      <td>5</td>\n",
       "      <td>1</td>\n",
       "      <td>0</td>\n",
       "      <td>1</td>\n",
       "      <td>0</td>\n",
       "      <td>510.0</td>\n",
       "      <td>0</td>\n",
       "      <td>1</td>\n",
       "      <td>0</td>\n",
       "      <td>...</td>\n",
       "      <td>0.5737</td>\n",
       "      <td>9.0</td>\n",
       "      <td>0.000222</td>\n",
       "      <td>0.000044</td>\n",
       "      <td>0.0</td>\n",
       "      <td>0.000044</td>\n",
       "      <td>0.0</td>\n",
       "      <td>0.022600</td>\n",
       "      <td>0.0</td>\n",
       "      <td>0.000044</td>\n",
       "    </tr>\n",
       "    <tr>\n",
       "      <th>4</th>\n",
       "      <td>1009</td>\n",
       "      <td>2</td>\n",
       "      <td>1</td>\n",
       "      <td>0</td>\n",
       "      <td>1</td>\n",
       "      <td>0</td>\n",
       "      <td>1200.0</td>\n",
       "      <td>0</td>\n",
       "      <td>1</td>\n",
       "      <td>0</td>\n",
       "      <td>...</td>\n",
       "      <td>0.4986</td>\n",
       "      <td>11.2</td>\n",
       "      <td>0.000035</td>\n",
       "      <td>0.000017</td>\n",
       "      <td>0.0</td>\n",
       "      <td>0.000017</td>\n",
       "      <td>0.0</td>\n",
       "      <td>0.020860</td>\n",
       "      <td>0.0</td>\n",
       "      <td>0.000017</td>\n",
       "    </tr>\n",
       "  </tbody>\n",
       "</table>\n",
       "<p>5 rows × 29 columns</p>\n",
       "</div>"
      ],
      "text/plain": [
       "   FIPS  total_clinics  total_title10  total_pp  health_dept_clinics  \\\n",
       "0  1001              2              1         0                    1   \n",
       "1  1003              6              2         0                    2   \n",
       "2  1005              3              2         0                    2   \n",
       "3  1007              5              1         0                    1   \n",
       "4  1009              2              1         0                    1   \n",
       "\n",
       "   hospitals  title_10_clients  pp_clients  dept_clinic_title10  pp_tt  ...  \\\n",
       "0          0             870.0           0                    1      0  ...   \n",
       "1          0             990.0           0                    2      0  ...   \n",
       "2          0             900.0           0                    2      0  ...   \n",
       "3          0             510.0           0                    1      0  ...   \n",
       "4          0            1200.0           0                    1      0  ...   \n",
       "\n",
       "   SVI_ranking  percent_uninsured  clinics_per_capita  \\\n",
       "0       0.3773                8.9            0.000036   \n",
       "1       0.2757               11.8            0.000030   \n",
       "2       0.9847               13.0            0.000114   \n",
       "3       0.5737                9.0            0.000222   \n",
       "4       0.4986               11.2            0.000035   \n",
       "\n",
       "   title10_clinics_per_capita pp_per_capita health_dept_per_capita  \\\n",
       "0                    0.000018           0.0               0.000018   \n",
       "1                    0.000010           0.0               0.000010   \n",
       "2                    0.000076           0.0               0.000076   \n",
       "3                    0.000044           0.0               0.000044   \n",
       "4                    0.000017           0.0               0.000017   \n",
       "\n",
       "   hospitals_per_capita  title_10_clients_per_capita  pp_clients_per_capita  \\\n",
       "0                   0.0                     0.015857                    0.0   \n",
       "1                   0.0                     0.004878                    0.0   \n",
       "2                   0.0                     0.034243                    0.0   \n",
       "3                   0.0                     0.022600                    0.0   \n",
       "4                   0.0                     0.020860                    0.0   \n",
       "\n",
       "   dept_clinic_title10_per_capita  \n",
       "0                        0.000018  \n",
       "1                        0.000010  \n",
       "2                        0.000076  \n",
       "3                        0.000044  \n",
       "4                        0.000017  \n",
       "\n",
       "[5 rows x 29 columns]"
      ]
     },
     "execution_count": 14,
     "metadata": {},
     "output_type": "execute_result"
    }
   ],
   "source": [
    "county_df.head()"
   ]
  },
  {
   "cell_type": "markdown",
   "metadata": {},
   "source": [
    "## Crafting the Machine Learning Model "
   ]
  },
  {
   "cell_type": "code",
   "execution_count": 34,
   "metadata": {},
   "outputs": [],
   "source": [
    "county_fips = \"17031\""
   ]
  },
  {
   "cell_type": "code",
   "execution_count": 35,
   "metadata": {},
   "outputs": [
    {
     "data": {
      "text/html": [
       "<div>\n",
       "<style scoped>\n",
       "    .dataframe tbody tr th:only-of-type {\n",
       "        vertical-align: middle;\n",
       "    }\n",
       "\n",
       "    .dataframe tbody tr th {\n",
       "        vertical-align: top;\n",
       "    }\n",
       "\n",
       "    .dataframe thead th {\n",
       "        text-align: right;\n",
       "    }\n",
       "</style>\n",
       "<table border=\"1\" class=\"dataframe\">\n",
       "  <thead>\n",
       "    <tr style=\"text-align: right;\">\n",
       "      <th></th>\n",
       "      <th>FIPS</th>\n",
       "      <th>birth_rate</th>\n",
       "      <th>clinics_per_capita</th>\n",
       "      <th>title10_clinics_per_capita</th>\n",
       "      <th>pp_per_capita</th>\n",
       "      <th>health_dept_per_capita</th>\n",
       "      <th>hospitals_per_capita</th>\n",
       "      <th>title_10_clients_per_capita</th>\n",
       "      <th>pp_clients_per_capita</th>\n",
       "      <th>dept_clinic_title10_per_capita</th>\n",
       "      <th>percent_uninsured</th>\n",
       "      <th>SVI_sum_of_indicators</th>\n",
       "    </tr>\n",
       "  </thead>\n",
       "  <tbody>\n",
       "    <tr>\n",
       "      <th>595</th>\n",
       "      <td>17031</td>\n",
       "      <td>21.4</td>\n",
       "      <td>0.000033</td>\n",
       "      <td>0.000007</td>\n",
       "      <td>0.000002</td>\n",
       "      <td>5.720728e-07</td>\n",
       "      <td>0.000004</td>\n",
       "      <td>0.013669</td>\n",
       "      <td>0.006232</td>\n",
       "      <td>1.906909e-07</td>\n",
       "      <td>12.6</td>\n",
       "      <td>8.6167</td>\n",
       "    </tr>\n",
       "  </tbody>\n",
       "</table>\n",
       "</div>"
      ],
      "text/plain": [
       "      FIPS  birth_rate  clinics_per_capita  title10_clinics_per_capita  \\\n",
       "595  17031        21.4            0.000033                    0.000007   \n",
       "\n",
       "     pp_per_capita  health_dept_per_capita  hospitals_per_capita  \\\n",
       "595       0.000002            5.720728e-07              0.000004   \n",
       "\n",
       "     title_10_clients_per_capita  pp_clients_per_capita  \\\n",
       "595                     0.013669               0.006232   \n",
       "\n",
       "     dept_clinic_title10_per_capita  percent_uninsured  SVI_sum_of_indicators  \n",
       "595                    1.906909e-07               12.6                 8.6167  "
      ]
     },
     "execution_count": 35,
     "metadata": {},
     "output_type": "execute_result"
    }
   ],
   "source": [
    "calculator_prefill = county_df.loc[county_df[\"FIPS\"] == int(county_fips), ['FIPS','birth_rate','clinics_per_capita','title10_clinics_per_capita', 'pp_per_capita', \n",
    "        'health_dept_per_capita', 'hospitals_per_capita', 'title_10_clients_per_capita','pp_clients_per_capita', \n",
    "        'dept_clinic_title10_per_capita','percent_uninsured','SVI_sum_of_indicators']]\n",
    "calculator_prefill\n"
   ]
  },
  {
   "cell_type": "code",
   "execution_count": 36,
   "metadata": {},
   "outputs": [],
   "source": [
    "prefill_values=calculator_prefill.values \n",
    "values=prefill_values[0]"
   ]
  },
  {
   "cell_type": "code",
   "execution_count": 38,
   "metadata": {},
   "outputs": [
    {
     "data": {
      "text/plain": [
       "array([1.70310000e+04, 2.14000000e+01, 3.33709122e-05, 6.86487336e-06,\n",
       "       1.52552741e-06, 5.72072780e-07, 3.81381853e-06, 1.36687256e-02,\n",
       "       6.23177948e-03, 1.90690927e-07, 1.26000000e+01, 8.61670000e+00])"
      ]
     },
     "execution_count": 38,
     "metadata": {},
     "output_type": "execute_result"
    }
   ],
   "source": [
    "values"
   ]
  },
  {
   "cell_type": "code",
   "execution_count": 15,
   "metadata": {},
   "outputs": [
    {
     "name": "stdout",
     "output_type": "stream",
     "text": [
      "Shape:  (3071, 10) (3071,)\n"
     ]
    }
   ],
   "source": [
    "# Prepping the model\n",
    "# X is our data. y is our target. \n",
    "X = county_df[['clinics_per_capita',\n",
    "       'title10_clinics_per_capita', 'pp_per_capita', 'health_dept_per_capita',\n",
    "       'hospitals_per_capita', 'title_10_clients_per_capita',\n",
    "       'pp_clients_per_capita', 'dept_clinic_title10_per_capita','percent_uninsured','SVI_sum_of_indicators']]\n",
    "y = county_df[\"birth_rate\"] \n",
    "\n",
    "feature_names = ['clinics_per_capita',\n",
    "       'title10_clinics_per_capita', 'pp_per_capita', 'health_dept_per_capita',\n",
    "       'hospitals_per_capita', 'title_10_clients_per_capita',\n",
    "       'pp_clients_per_capita', 'dept_clinic_title10_per_capita','percent_uninsured','SVI_sum_of_indicators']\n",
    "\n",
    "print(\"Shape: \", X.shape, y.shape)\n"
   ]
  },
  {
   "cell_type": "markdown",
   "metadata": {},
   "source": [
    "## Train Test Split"
   ]
  },
  {
   "cell_type": "code",
   "execution_count": 16,
   "metadata": {},
   "outputs": [],
   "source": [
    "# Divide our data for proper training/testing subsections\n",
    "from sklearn.model_selection import train_test_split \n",
    "\n",
    "X_train, X_test, y_train, y_test = train_test_split(X, y, random_state=1)\n"
   ]
  },
  {
   "cell_type": "markdown",
   "metadata": {},
   "source": [
    "### Base Model "
   ]
  },
  {
   "cell_type": "code",
   "execution_count": 17,
   "metadata": {},
   "outputs": [
    {
     "data": {
      "text/plain": [
       "RandomForestRegressor(max_depth=7, random_state=1)"
      ]
     },
     "execution_count": 17,
     "metadata": {},
     "output_type": "execute_result"
    }
   ],
   "source": [
    "# Create base model\n",
    "from sklearn.ensemble import RandomForestRegressor\n",
    "\n",
    "base_model = RandomForestRegressor(max_depth=7, n_estimators=100, random_state=1)\n",
    "base_model.fit(X_train, y_train)\n"
   ]
  },
  {
   "cell_type": "markdown",
   "metadata": {},
   "source": [
    "### Mean Squared Error, R2 Score, and Feature Importances"
   ]
  },
  {
   "cell_type": "code",
   "execution_count": 18,
   "metadata": {},
   "outputs": [
    {
     "name": "stdout",
     "output_type": "stream",
     "text": [
      "Mean Squared Error (MSE): 81.95427809246755\n",
      "R-squared (R2 ): 0.5053740044409091\n"
     ]
    }
   ],
   "source": [
    "from sklearn.metrics import mean_squared_error, r2_score\n",
    "\n",
    "# Use our model to make predictions\n",
    "base_model_predicted = base_model.predict(X_test)\n",
    "\n",
    "# Score the predictions with mse and r2\n",
    "mse = mean_squared_error(y_test, base_model_predicted)\n",
    "r2 = r2_score(y_test, base_model_predicted)\n",
    "\n",
    "print(f\"Mean Squared Error (MSE): {mse}\")\n",
    "print(f\"R-squared (R2 ): {r2}\")"
   ]
  },
  {
   "cell_type": "code",
   "execution_count": 19,
   "metadata": {},
   "outputs": [
    {
     "data": {
      "text/plain": [
       "[(0.7023997185548906, 'SVI_sum_of_indicators'),\n",
       " (0.09968606609982379, 'percent_uninsured'),\n",
       " (0.04802607734822058, 'pp_clients_per_capita'),\n",
       " (0.033695275236732776, 'pp_per_capita'),\n",
       " (0.03125840246242696, 'clinics_per_capita'),\n",
       " (0.021647816730657146, 'health_dept_per_capita'),\n",
       " (0.021457949270325172, 'title10_clinics_per_capita'),\n",
       " (0.0209969622034526, 'title_10_clients_per_capita'),\n",
       " (0.017878148764163024, 'dept_clinic_title10_per_capita'),\n",
       " (0.002953583329307376, 'hospitals_per_capita')]"
      ]
     },
     "execution_count": 19,
     "metadata": {},
     "output_type": "execute_result"
    }
   ],
   "source": [
    "# Use \"feature importances\" to see which data columns are weightier \n",
    "sorted(zip(base_model.feature_importances_, feature_names), reverse=True)\n"
   ]
  },
  {
   "cell_type": "markdown",
   "metadata": {},
   "source": [
    "### Randomized Search "
   ]
  },
  {
   "cell_type": "code",
   "execution_count": 20,
   "metadata": {},
   "outputs": [
    {
     "name": "stdout",
     "output_type": "stream",
     "text": [
      "Fitting 3 folds for each of 100 candidates, totalling 300 fits\n"
     ]
    },
    {
     "name": "stderr",
     "output_type": "stream",
     "text": [
      "[Parallel(n_jobs=-1)]: Using backend LokyBackend with 4 concurrent workers.\n",
      "[Parallel(n_jobs=-1)]: Done  33 tasks      | elapsed:   59.6s\n",
      "[Parallel(n_jobs=-1)]: Done 154 tasks      | elapsed:  3.9min\n",
      "[Parallel(n_jobs=-1)]: Done 300 out of 300 | elapsed:  7.5min finished\n"
     ]
    },
    {
     "data": {
      "text/plain": [
       "RandomizedSearchCV(cv=3, estimator=RandomForestRegressor(), n_iter=100,\n",
       "                   n_jobs=-1,\n",
       "                   param_distributions={'bootstrap': [True, False],\n",
       "                                        'max_depth': [3, 5, 10, 20, 50, None],\n",
       "                                        'max_features': ['auto', 'sqrt'],\n",
       "                                        'min_samples_leaf': [1, 2, 4],\n",
       "                                        'min_samples_split': [2, 5, 10],\n",
       "                                        'n_estimators': [100, 200, 400, 600,\n",
       "                                                         800, 1000, 1250, 1500,\n",
       "                                                         2000]},\n",
       "                   random_state=42, verbose=2)"
      ]
     },
     "execution_count": 20,
     "metadata": {},
     "output_type": "execute_result"
    }
   ],
   "source": [
    "# Resource for gridsearch with random forest: https://towardsdatascience.com/hyperparameter-tuning-the-random-forest-in-python-using-scikit-learn-28d2aa77dd74a77dd74\n",
    "# Start with a randomized search to narrow down the field\n",
    "from sklearn.model_selection import RandomizedSearchCV\n",
    "\n",
    "params = {'bootstrap': [True, False],\n",
    "         'max_depth': [3,5,10,20,50, None],\n",
    "         'max_features': ['auto', 'sqrt'],\n",
    "         'min_samples_leaf': [1, 2, 4],\n",
    "         'min_samples_split': [2, 5, 10],\n",
    "         'n_estimators': [100,200, 400, 600, 800, 1000, 1250, 1500, 2000]}\n",
    "\n",
    "rf_random = RandomizedSearchCV(estimator = RandomForestRegressor(), param_distributions = params, n_iter = 100, cv = 3, verbose=2, random_state=42, n_jobs = -1)\n",
    "rf_random.fit(X_train, y_train)\n"
   ]
  },
  {
   "cell_type": "code",
   "execution_count": 21,
   "metadata": {},
   "outputs": [
    {
     "data": {
      "text/plain": [
       "{'n_estimators': 2000,\n",
       " 'min_samples_split': 10,\n",
       " 'min_samples_leaf': 4,\n",
       " 'max_features': 'sqrt',\n",
       " 'max_depth': 10,\n",
       " 'bootstrap': True}"
      ]
     },
     "execution_count": 21,
     "metadata": {},
     "output_type": "execute_result"
    }
   ],
   "source": [
    "rf_random.best_params_"
   ]
  },
  {
   "cell_type": "code",
   "execution_count": 22,
   "metadata": {},
   "outputs": [],
   "source": [
    "random_tuned_model = rf_random.best_estimator_"
   ]
  },
  {
   "cell_type": "code",
   "execution_count": 23,
   "metadata": {},
   "outputs": [
    {
     "name": "stdout",
     "output_type": "stream",
     "text": [
      "Mean Squared Error (MSE): 78.12047558024533\n",
      "R-squared (R2 ): 0.5285124961526573\n"
     ]
    }
   ],
   "source": [
    "random_tuned_predictions = random_tuned_model.predict(X_test)\n",
    "\n",
    "# Score the predictions with mse and r2\n",
    "mse = mean_squared_error(y_test, random_tuned_predictions)\n",
    "r2 = r2_score(y_test, random_tuned_predictions)\n",
    "\n",
    "print(f\"Mean Squared Error (MSE): {mse}\")\n",
    "print(f\"R-squared (R2 ): {r2}\")\n"
   ]
  },
  {
   "cell_type": "markdown",
   "metadata": {},
   "source": [
    "### Grid Search "
   ]
  },
  {
   "cell_type": "code",
   "execution_count": 25,
   "metadata": {},
   "outputs": [
    {
     "name": "stdout",
     "output_type": "stream",
     "text": [
      "Fitting 3 folds for each of 81 candidates, totalling 243 fits\n"
     ]
    },
    {
     "name": "stderr",
     "output_type": "stream",
     "text": [
      "[Parallel(n_jobs=-1)]: Using backend LokyBackend with 4 concurrent workers.\n",
      "[Parallel(n_jobs=-1)]: Done  33 tasks      | elapsed:  1.4min\n",
      "[Parallel(n_jobs=-1)]: Done 154 tasks      | elapsed:  5.9min\n",
      "[Parallel(n_jobs=-1)]: Done 243 out of 243 | elapsed:  9.3min finished\n"
     ]
    },
    {
     "data": {
      "text/plain": [
       "GridSearchCV(cv=3, estimator=RandomForestRegressor(), n_jobs=-1,\n",
       "             param_grid={'bootstrap': [True], 'max_depth': [8, 10, 15],\n",
       "                         'max_features': ['sqrt'],\n",
       "                         'min_samples_leaf': [3, 4, 6],\n",
       "                         'min_samples_split': [8, 10, 20],\n",
       "                         'n_estimators': [1500, 2000, 3000]},\n",
       "             verbose=2)"
      ]
     },
     "execution_count": 25,
     "metadata": {},
     "output_type": "execute_result"
    }
   ],
   "source": [
    "# Start grid search based on best parameters from random search\n",
    "\n",
    "from sklearn.model_selection import GridSearchCV\n",
    "\n",
    "params = {'bootstrap': [True],\n",
    "         'max_depth': [8,10,15],\n",
    "         'max_features': ['sqrt'],\n",
    "         'min_samples_leaf': [3, 4, 6],\n",
    "         'min_samples_split': [8,10,20],\n",
    "         'n_estimators': [1500,2000,3000]}\n",
    "\n",
    "rf_grid = GridSearchCV(estimator = RandomForestRegressor(), param_grid = params, cv = 3, n_jobs = -1, verbose = 2)\n",
    "rf_grid.fit(X_train, y_train)\n"
   ]
  },
  {
   "cell_type": "code",
   "execution_count": 26,
   "metadata": {},
   "outputs": [
    {
     "data": {
      "text/plain": [
       "{'bootstrap': True,\n",
       " 'max_depth': 15,\n",
       " 'max_features': 'sqrt',\n",
       " 'min_samples_leaf': 3,\n",
       " 'min_samples_split': 20,\n",
       " 'n_estimators': 2000}"
      ]
     },
     "execution_count": 26,
     "metadata": {},
     "output_type": "execute_result"
    }
   ],
   "source": [
    "rf_grid.best_params_"
   ]
  },
  {
   "cell_type": "code",
   "execution_count": 27,
   "metadata": {},
   "outputs": [],
   "source": [
    "grid_tuned_model = rf_grid.best_estimator_"
   ]
  },
  {
   "cell_type": "code",
   "execution_count": 28,
   "metadata": {},
   "outputs": [
    {
     "name": "stdout",
     "output_type": "stream",
     "text": [
      "Mean Squared Error (MSE): 78.33638994277476\n",
      "R-squared (R2 ): 0.5272093688601304\n"
     ]
    }
   ],
   "source": [
    "grid_tuned_predictions = grid_tuned_model.predict(X_test)\n",
    "\n",
    "# Score the predictions with mse and r2\n",
    "mse = mean_squared_error(y_test, grid_tuned_predictions)\n",
    "r2 = r2_score(y_test, grid_tuned_predictions)\n",
    "\n",
    "print(f\"Mean Squared Error (MSE): {mse}\")\n",
    "print(f\"R-squared (R2 ): {r2}\")"
   ]
  },
  {
   "cell_type": "markdown",
   "metadata": {},
   "source": [
    "### Final Machine Learning Model"
   ]
  },
  {
   "cell_type": "code",
   "execution_count": 29,
   "metadata": {},
   "outputs": [],
   "source": [
    "# Note: at this point we're not getting much benefit from continued tuning\n",
    "final_model=grid_tuned_model\n"
   ]
  },
  {
   "cell_type": "code",
   "execution_count": 30,
   "metadata": {},
   "outputs": [
    {
     "data": {
      "text/plain": [
       "[(0.4538646927645108, 'SVI_sum_of_indicators'),\n",
       " (0.2413342034655859, 'percent_uninsured'),\n",
       " (0.07022250706533824, 'clinics_per_capita'),\n",
       " (0.06362530271323628, 'health_dept_per_capita'),\n",
       " (0.04054222436357061, 'dept_clinic_title10_per_capita'),\n",
       " (0.037945702178360505, 'title10_clinics_per_capita'),\n",
       " (0.036245661483306164, 'title_10_clients_per_capita'),\n",
       " (0.02743163246927123, 'pp_clients_per_capita'),\n",
       " (0.024643850984248372, 'pp_per_capita'),\n",
       " (0.004144222512571778, 'hospitals_per_capita')]"
      ]
     },
     "execution_count": 30,
     "metadata": {},
     "output_type": "execute_result"
    }
   ],
   "source": [
    "# feature importance\n",
    "sorted(zip(final_model.feature_importances_, feature_names), reverse=True)\n"
   ]
  },
  {
   "cell_type": "markdown",
   "metadata": {},
   "source": [
    "## Pickle the Model"
   ]
  },
  {
   "cell_type": "code",
   "execution_count": 32,
   "metadata": {},
   "outputs": [],
   "source": [
    "# Dump the model into a pkl document \n",
    "pickle.dump(final_model, open(\"model.pkl\", \"wb\"))\n"
   ]
  },
  {
   "cell_type": "markdown",
   "metadata": {},
   "source": [
    "### Check the Model "
   ]
  },
  {
   "cell_type": "code",
   "execution_count": 33,
   "metadata": {},
   "outputs": [],
   "source": [
    "model = pickle.load(open(\"model.pkl\", \"rb\"))"
   ]
  },
  {
   "cell_type": "code",
   "execution_count": 34,
   "metadata": {},
   "outputs": [
    {
     "name": "stdout",
     "output_type": "stream",
     "text": [
      "RandomForestRegressor(max_depth=15, max_features='sqrt', min_samples_leaf=3,\n",
      "                      min_samples_split=20, n_estimators=2000)\n"
     ]
    }
   ],
   "source": [
    "print(model)"
   ]
  },
  {
   "cell_type": "code",
   "execution_count": null,
   "metadata": {},
   "outputs": [],
   "source": []
  }
 ],
 "metadata": {
  "kernelspec": {
   "display_name": "Python 3",
   "language": "python",
   "name": "python3"
  },
  "language_info": {
   "codemirror_mode": {
    "name": "ipython",
    "version": 3
   },
   "file_extension": ".py",
   "mimetype": "text/x-python",
   "name": "python",
   "nbconvert_exporter": "python",
   "pygments_lexer": "ipython3",
   "version": "3.8.3"
  }
 },
 "nbformat": 4,
 "nbformat_minor": 4
}
